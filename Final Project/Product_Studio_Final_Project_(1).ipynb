{
  "nbformat": 4,
  "nbformat_minor": 0,
  "metadata": {
    "colab": {
      "name": "Product_Studio_Final_Project (1).ipynb",
      "provenance": [],
      "collapsed_sections": []
    },
    "kernelspec": {
      "display_name": "Python 3",
      "language": "python",
      "name": "python3"
    },
    "language_info": {
      "codemirror_mode": {
        "name": "ipython",
        "version": 3
      },
      "file_extension": ".py",
      "mimetype": "text/x-python",
      "name": "python",
      "nbconvert_exporter": "python",
      "pygments_lexer": "ipython3",
      "version": "3.8.3"
    }
  },
  "cells": [
    {
      "cell_type": "markdown",
      "metadata": {
        "id": "xRe0d-sGIJsI"
      },
      "source": [
        "# Final Project\n",
        "### Group menbers: XiaoLan Li, Zhihong Zhang"
      ]
    },
    {
      "cell_type": "markdown",
      "metadata": {
        "id": "50cOUqvuIYmJ"
      },
      "source": [
        "## Introduction\n",
        "\n",
        "Describe your project, including the scientific or business motivation for the research question you have chosen to answer. This section should summarize the content of your Final Project Proposal, so be sure to explain your research question, describe the source and content of the data set you have chosen to work with, and summarize your approach to meeting the requirements for the Project. \n"
      ]
    },
    {
      "cell_type": "markdown",
      "metadata": {
        "id": "8vjB-WeQKNbm"
      },
      "source": [
        "Credit plays an increasingly important role in our daily life. According to [The USA GOV](https://www.usa.gov/credit-reports), a credit report and score can affect people's ability to get a loan, or even qualify for a job.\n",
        "\n",
        "Therefore, for our project, we focus on credit card running company. One of our data set is from Kaggle includes applicant information and historical credit payment. It is from an anonymous  financial company that wants to identify the applicant is qualified to be approved a credit card. It has , 20 columns and 777715 raws. The response variable is 'STATUS'.\n",
        "\n",
        "For our project, the main research question will be how to identify the target credit card applicant and how long the applicants might default. To reach the answer to questions, through EDA work, we will answer what kind of features can help to identify.\n",
        "\n",
        "After collecting the recoding data of applicants, which includes personal information and historical credit score, finishing the analysis, we are going to build a series of predictive models to find whether the applicant will be approved or not. The main features of how to affect a applicant will be approved will be used in our feature selection.\n",
        "\n",
        "The result of our research will help the bank be able to decide whether to issue a credit card to the applicant and reduce the risk of losses to the bank due to default."
      ]
    },
    {
      "cell_type": "markdown",
      "metadata": {
        "id": "kYoqjlogIb3v"
      },
      "source": [
        "## Data Aquisition"
      ]
    },
    {
      "cell_type": "markdown",
      "metadata": {
        "id": "kuAOdw2N2m7k"
      },
      "source": [
        "### First dataset resource"
      ]
    },
    {
      "cell_type": "markdown",
      "metadata": {
        "id": "iHTLhOzq2m7k"
      },
      "source": [
        "read record of Applicant Information and Historical Credit Payment "
      ]
    },
    {
      "cell_type": "code",
      "metadata": {
        "colab": {
          "base_uri": "https://localhost:8080/",
          "height": 173
        },
        "id": "cuZcH3ErIh3c",
        "outputId": "442fd5c6-9141-4022-a545-721309dea47c"
      },
      "source": [
        "import numpy as np\n",
        "import pandas as pd\n",
        "\n",
        "# check and read the application dataset from github\n",
        "df_application = pd.read_csv('https://raw.githubusercontent.com/steinszzh/AIProductStudio/master/Final%20Project/application_record.csv')\n",
        "df_application.head(3)"
      ],
      "execution_count": null,
      "outputs": [
        {
          "output_type": "execute_result",
          "data": {
            "text/html": [
              "<div>\n",
              "<style scoped>\n",
              "    .dataframe tbody tr th:only-of-type {\n",
              "        vertical-align: middle;\n",
              "    }\n",
              "\n",
              "    .dataframe tbody tr th {\n",
              "        vertical-align: top;\n",
              "    }\n",
              "\n",
              "    .dataframe thead th {\n",
              "        text-align: right;\n",
              "    }\n",
              "</style>\n",
              "<table border=\"1\" class=\"dataframe\">\n",
              "  <thead>\n",
              "    <tr style=\"text-align: right;\">\n",
              "      <th></th>\n",
              "      <th>ID</th>\n",
              "      <th>CODE_GENDER</th>\n",
              "      <th>FLAG_OWN_CAR</th>\n",
              "      <th>FLAG_OWN_REALTY</th>\n",
              "      <th>CNT_CHILDREN</th>\n",
              "      <th>AMT_INCOME_TOTAL</th>\n",
              "      <th>NAME_INCOME_TYPE</th>\n",
              "      <th>NAME_EDUCATION_TYPE</th>\n",
              "      <th>NAME_FAMILY_STATUS</th>\n",
              "      <th>NAME_HOUSING_TYPE</th>\n",
              "      <th>DAYS_BIRTH</th>\n",
              "      <th>DAYS_EMPLOYED</th>\n",
              "      <th>FLAG_MOBIL</th>\n",
              "      <th>FLAG_WORK_PHONE</th>\n",
              "      <th>FLAG_PHONE</th>\n",
              "      <th>FLAG_EMAIL</th>\n",
              "      <th>OCCUPATION_TYPE</th>\n",
              "      <th>CNT_FAM_MEMBERS</th>\n",
              "    </tr>\n",
              "  </thead>\n",
              "  <tbody>\n",
              "    <tr>\n",
              "      <th>0</th>\n",
              "      <td>5008804</td>\n",
              "      <td>M</td>\n",
              "      <td>Y</td>\n",
              "      <td>Y</td>\n",
              "      <td>0</td>\n",
              "      <td>427500.0</td>\n",
              "      <td>Working</td>\n",
              "      <td>Higher education</td>\n",
              "      <td>Civil marriage</td>\n",
              "      <td>Rented apartment</td>\n",
              "      <td>-12005</td>\n",
              "      <td>-4542</td>\n",
              "      <td>1</td>\n",
              "      <td>1</td>\n",
              "      <td>0</td>\n",
              "      <td>0</td>\n",
              "      <td>NaN</td>\n",
              "      <td>2.0</td>\n",
              "    </tr>\n",
              "    <tr>\n",
              "      <th>1</th>\n",
              "      <td>5008805</td>\n",
              "      <td>M</td>\n",
              "      <td>Y</td>\n",
              "      <td>Y</td>\n",
              "      <td>0</td>\n",
              "      <td>427500.0</td>\n",
              "      <td>Working</td>\n",
              "      <td>Higher education</td>\n",
              "      <td>Civil marriage</td>\n",
              "      <td>Rented apartment</td>\n",
              "      <td>-12005</td>\n",
              "      <td>-4542</td>\n",
              "      <td>1</td>\n",
              "      <td>1</td>\n",
              "      <td>0</td>\n",
              "      <td>0</td>\n",
              "      <td>NaN</td>\n",
              "      <td>2.0</td>\n",
              "    </tr>\n",
              "    <tr>\n",
              "      <th>2</th>\n",
              "      <td>5008806</td>\n",
              "      <td>M</td>\n",
              "      <td>Y</td>\n",
              "      <td>Y</td>\n",
              "      <td>0</td>\n",
              "      <td>112500.0</td>\n",
              "      <td>Working</td>\n",
              "      <td>Secondary / secondary special</td>\n",
              "      <td>Married</td>\n",
              "      <td>House / apartment</td>\n",
              "      <td>-21474</td>\n",
              "      <td>-1134</td>\n",
              "      <td>1</td>\n",
              "      <td>0</td>\n",
              "      <td>0</td>\n",
              "      <td>0</td>\n",
              "      <td>Security staff</td>\n",
              "      <td>2.0</td>\n",
              "    </tr>\n",
              "  </tbody>\n",
              "</table>\n",
              "</div>"
            ],
            "text/plain": [
              "        ID CODE_GENDER FLAG_OWN_CAR FLAG_OWN_REALTY  CNT_CHILDREN  \\\n",
              "0  5008804           M            Y               Y             0   \n",
              "1  5008805           M            Y               Y             0   \n",
              "2  5008806           M            Y               Y             0   \n",
              "\n",
              "   AMT_INCOME_TOTAL NAME_INCOME_TYPE            NAME_EDUCATION_TYPE  \\\n",
              "0          427500.0          Working               Higher education   \n",
              "1          427500.0          Working               Higher education   \n",
              "2          112500.0          Working  Secondary / secondary special   \n",
              "\n",
              "  NAME_FAMILY_STATUS  NAME_HOUSING_TYPE  DAYS_BIRTH  DAYS_EMPLOYED  \\\n",
              "0     Civil marriage   Rented apartment      -12005          -4542   \n",
              "1     Civil marriage   Rented apartment      -12005          -4542   \n",
              "2            Married  House / apartment      -21474          -1134   \n",
              "\n",
              "   FLAG_MOBIL  FLAG_WORK_PHONE  FLAG_PHONE  FLAG_EMAIL OCCUPATION_TYPE  \\\n",
              "0           1                1           0           0             NaN   \n",
              "1           1                1           0           0             NaN   \n",
              "2           1                0           0           0  Security staff   \n",
              "\n",
              "   CNT_FAM_MEMBERS  \n",
              "0              2.0  \n",
              "1              2.0  \n",
              "2              2.0  "
            ]
          },
          "metadata": {
            "tags": []
          },
          "execution_count": 4
        }
      ]
    },
    {
      "cell_type": "code",
      "metadata": {
        "id": "WU5vnKoA2m7m",
        "outputId": "cc7f4246-3f80-4f7a-fd25-67b22ce1c433"
      },
      "source": [
        "# check and read the credit dataset from github\n",
        "df_credit =pd.read_csv('https://raw.githubusercontent.com/steinszzh/AIProductStudio/master/Final%20Project/credit_record.csv')\n",
        "df_credit.head(5)\n"
      ],
      "execution_count": null,
      "outputs": [
        {
          "output_type": "execute_result",
          "data": {
            "text/html": [
              "<div>\n",
              "<style scoped>\n",
              "    .dataframe tbody tr th:only-of-type {\n",
              "        vertical-align: middle;\n",
              "    }\n",
              "\n",
              "    .dataframe tbody tr th {\n",
              "        vertical-align: top;\n",
              "    }\n",
              "\n",
              "    .dataframe thead th {\n",
              "        text-align: right;\n",
              "    }\n",
              "</style>\n",
              "<table border=\"1\" class=\"dataframe\">\n",
              "  <thead>\n",
              "    <tr style=\"text-align: right;\">\n",
              "      <th></th>\n",
              "      <th>ID</th>\n",
              "      <th>MONTHS_BALANCE</th>\n",
              "      <th>STATUS</th>\n",
              "    </tr>\n",
              "  </thead>\n",
              "  <tbody>\n",
              "    <tr>\n",
              "      <th>0</th>\n",
              "      <td>5001711</td>\n",
              "      <td>0</td>\n",
              "      <td>X</td>\n",
              "    </tr>\n",
              "    <tr>\n",
              "      <th>1</th>\n",
              "      <td>5001711</td>\n",
              "      <td>-1</td>\n",
              "      <td>0</td>\n",
              "    </tr>\n",
              "    <tr>\n",
              "      <th>2</th>\n",
              "      <td>5001711</td>\n",
              "      <td>-2</td>\n",
              "      <td>0</td>\n",
              "    </tr>\n",
              "    <tr>\n",
              "      <th>3</th>\n",
              "      <td>5001711</td>\n",
              "      <td>-3</td>\n",
              "      <td>0</td>\n",
              "    </tr>\n",
              "    <tr>\n",
              "      <th>4</th>\n",
              "      <td>5001712</td>\n",
              "      <td>0</td>\n",
              "      <td>C</td>\n",
              "    </tr>\n",
              "  </tbody>\n",
              "</table>\n",
              "</div>"
            ],
            "text/plain": [
              "        ID  MONTHS_BALANCE STATUS\n",
              "0  5001711               0      X\n",
              "1  5001711              -1      0\n",
              "2  5001711              -2      0\n",
              "3  5001711              -3      0\n",
              "4  5001712               0      C"
            ]
          },
          "metadata": {
            "tags": []
          },
          "execution_count": 5
        }
      ]
    },
    {
      "cell_type": "code",
      "metadata": {
        "colab": {
          "base_uri": "https://localhost:8080/",
          "height": 156
        },
        "id": "NcVW4YQ09ZLr",
        "outputId": "4cdceefe-8725-43ac-aa48-4d96d391160b"
      },
      "source": [
        "# merge two dataset resources\n",
        "df_record = df_application.merge(df_credit, on='ID')\n",
        "df_record.head(3)"
      ],
      "execution_count": null,
      "outputs": [
        {
          "output_type": "execute_result",
          "data": {
            "text/html": [
              "<div>\n",
              "<style scoped>\n",
              "    .dataframe tbody tr th:only-of-type {\n",
              "        vertical-align: middle;\n",
              "    }\n",
              "\n",
              "    .dataframe tbody tr th {\n",
              "        vertical-align: top;\n",
              "    }\n",
              "\n",
              "    .dataframe thead th {\n",
              "        text-align: right;\n",
              "    }\n",
              "</style>\n",
              "<table border=\"1\" class=\"dataframe\">\n",
              "  <thead>\n",
              "    <tr style=\"text-align: right;\">\n",
              "      <th></th>\n",
              "      <th>ID</th>\n",
              "      <th>CODE_GENDER</th>\n",
              "      <th>FLAG_OWN_CAR</th>\n",
              "      <th>FLAG_OWN_REALTY</th>\n",
              "      <th>CNT_CHILDREN</th>\n",
              "      <th>AMT_INCOME_TOTAL</th>\n",
              "      <th>NAME_INCOME_TYPE</th>\n",
              "      <th>NAME_EDUCATION_TYPE</th>\n",
              "      <th>NAME_FAMILY_STATUS</th>\n",
              "      <th>NAME_HOUSING_TYPE</th>\n",
              "      <th>DAYS_BIRTH</th>\n",
              "      <th>DAYS_EMPLOYED</th>\n",
              "      <th>FLAG_MOBIL</th>\n",
              "      <th>FLAG_WORK_PHONE</th>\n",
              "      <th>FLAG_PHONE</th>\n",
              "      <th>FLAG_EMAIL</th>\n",
              "      <th>OCCUPATION_TYPE</th>\n",
              "      <th>CNT_FAM_MEMBERS</th>\n",
              "      <th>MONTHS_BALANCE</th>\n",
              "      <th>STATUS</th>\n",
              "    </tr>\n",
              "  </thead>\n",
              "  <tbody>\n",
              "    <tr>\n",
              "      <th>0</th>\n",
              "      <td>5008804</td>\n",
              "      <td>M</td>\n",
              "      <td>Y</td>\n",
              "      <td>Y</td>\n",
              "      <td>0</td>\n",
              "      <td>427500.0</td>\n",
              "      <td>Working</td>\n",
              "      <td>Higher education</td>\n",
              "      <td>Civil marriage</td>\n",
              "      <td>Rented apartment</td>\n",
              "      <td>-12005</td>\n",
              "      <td>-4542</td>\n",
              "      <td>1</td>\n",
              "      <td>1</td>\n",
              "      <td>0</td>\n",
              "      <td>0</td>\n",
              "      <td>NaN</td>\n",
              "      <td>2.0</td>\n",
              "      <td>0</td>\n",
              "      <td>C</td>\n",
              "    </tr>\n",
              "    <tr>\n",
              "      <th>1</th>\n",
              "      <td>5008804</td>\n",
              "      <td>M</td>\n",
              "      <td>Y</td>\n",
              "      <td>Y</td>\n",
              "      <td>0</td>\n",
              "      <td>427500.0</td>\n",
              "      <td>Working</td>\n",
              "      <td>Higher education</td>\n",
              "      <td>Civil marriage</td>\n",
              "      <td>Rented apartment</td>\n",
              "      <td>-12005</td>\n",
              "      <td>-4542</td>\n",
              "      <td>1</td>\n",
              "      <td>1</td>\n",
              "      <td>0</td>\n",
              "      <td>0</td>\n",
              "      <td>NaN</td>\n",
              "      <td>2.0</td>\n",
              "      <td>-1</td>\n",
              "      <td>C</td>\n",
              "    </tr>\n",
              "    <tr>\n",
              "      <th>2</th>\n",
              "      <td>5008804</td>\n",
              "      <td>M</td>\n",
              "      <td>Y</td>\n",
              "      <td>Y</td>\n",
              "      <td>0</td>\n",
              "      <td>427500.0</td>\n",
              "      <td>Working</td>\n",
              "      <td>Higher education</td>\n",
              "      <td>Civil marriage</td>\n",
              "      <td>Rented apartment</td>\n",
              "      <td>-12005</td>\n",
              "      <td>-4542</td>\n",
              "      <td>1</td>\n",
              "      <td>1</td>\n",
              "      <td>0</td>\n",
              "      <td>0</td>\n",
              "      <td>NaN</td>\n",
              "      <td>2.0</td>\n",
              "      <td>-2</td>\n",
              "      <td>C</td>\n",
              "    </tr>\n",
              "  </tbody>\n",
              "</table>\n",
              "</div>"
            ],
            "text/plain": [
              "        ID CODE_GENDER FLAG_OWN_CAR FLAG_OWN_REALTY  CNT_CHILDREN  \\\n",
              "0  5008804           M            Y               Y             0   \n",
              "1  5008804           M            Y               Y             0   \n",
              "2  5008804           M            Y               Y             0   \n",
              "\n",
              "   AMT_INCOME_TOTAL NAME_INCOME_TYPE NAME_EDUCATION_TYPE NAME_FAMILY_STATUS  \\\n",
              "0          427500.0          Working    Higher education     Civil marriage   \n",
              "1          427500.0          Working    Higher education     Civil marriage   \n",
              "2          427500.0          Working    Higher education     Civil marriage   \n",
              "\n",
              "  NAME_HOUSING_TYPE  DAYS_BIRTH  DAYS_EMPLOYED  FLAG_MOBIL  FLAG_WORK_PHONE  \\\n",
              "0  Rented apartment      -12005          -4542           1                1   \n",
              "1  Rented apartment      -12005          -4542           1                1   \n",
              "2  Rented apartment      -12005          -4542           1                1   \n",
              "\n",
              "   FLAG_PHONE  FLAG_EMAIL OCCUPATION_TYPE  CNT_FAM_MEMBERS  MONTHS_BALANCE  \\\n",
              "0           0           0             NaN              2.0               0   \n",
              "1           0           0             NaN              2.0              -1   \n",
              "2           0           0             NaN              2.0              -2   \n",
              "\n",
              "  STATUS  \n",
              "0      C  \n",
              "1      C  \n",
              "2      C  "
            ]
          },
          "metadata": {
            "tags": []
          },
          "execution_count": 6
        }
      ]
    },
    {
      "cell_type": "code",
      "metadata": {
        "colab": {
          "base_uri": "https://localhost:8080/"
        },
        "id": "oJfGyzlqIHf2",
        "outputId": "49cd11d9-bc66-44df-9077-aafe1ecc5a95"
      },
      "source": [
        "# check the record dataset info\n",
        "df_record.info()"
      ],
      "execution_count": null,
      "outputs": [
        {
          "output_type": "stream",
          "text": [
            "<class 'pandas.core.frame.DataFrame'>\n",
            "Int64Index: 777715 entries, 0 to 777714\n",
            "Data columns (total 20 columns):\n",
            " #   Column               Non-Null Count   Dtype  \n",
            "---  ------               --------------   -----  \n",
            " 0   ID                   777715 non-null  int64  \n",
            " 1   CODE_GENDER          777715 non-null  object \n",
            " 2   FLAG_OWN_CAR         777715 non-null  object \n",
            " 3   FLAG_OWN_REALTY      777715 non-null  object \n",
            " 4   CNT_CHILDREN         777715 non-null  int64  \n",
            " 5   AMT_INCOME_TOTAL     777715 non-null  float64\n",
            " 6   NAME_INCOME_TYPE     777715 non-null  object \n",
            " 7   NAME_EDUCATION_TYPE  777715 non-null  object \n",
            " 8   NAME_FAMILY_STATUS   777715 non-null  object \n",
            " 9   NAME_HOUSING_TYPE    777715 non-null  object \n",
            " 10  DAYS_BIRTH           777715 non-null  int64  \n",
            " 11  DAYS_EMPLOYED        777715 non-null  int64  \n",
            " 12  FLAG_MOBIL           777715 non-null  int64  \n",
            " 13  FLAG_WORK_PHONE      777715 non-null  int64  \n",
            " 14  FLAG_PHONE           777715 non-null  int64  \n",
            " 15  FLAG_EMAIL           777715 non-null  int64  \n",
            " 16  OCCUPATION_TYPE      537667 non-null  object \n",
            " 17  CNT_FAM_MEMBERS      777715 non-null  float64\n",
            " 18  MONTHS_BALANCE       777715 non-null  int64  \n",
            " 19  STATUS               777715 non-null  object \n",
            "dtypes: float64(2), int64(9), object(9)\n",
            "memory usage: 124.6+ MB\n"
          ],
          "name": "stdout"
        }
      ]
    },
    {
      "cell_type": "markdown",
      "metadata": {
        "id": "uqK5F-JNbP93"
      },
      "source": [
        "### Data Discription\n",
        "__ID__\tClient number\t\n",
        "__CODE_GENDER__\tGender\t\n",
        "__FLAG_OWN_CAR__\tIs there a car\t\n",
        "__FLAG_OWN_REALTY__\tIs there a property\t\n",
        "__CNT_CHILDREN__\tNumber of children\t\n",
        "__AMT_INCOME_TOTAL__\tAnnual income\t\n",
        "__NAME_INCOME_TYPE__\tIncome category\t\n",
        "__NAME_EDUCATION_TYPE__\tEducation level\t\n",
        "__NAME_FAMILY_STATUS__\tMarital status\t\n",
        "__NAME_HOUSING_TYPE__\tWay of living\t\n",
        "__DAYS_BIRTH__\tBirthday\tCount backwards from current day (0), -1 means yesterday\t\n",
        "__DAYS_EMPLOYED__\tStart date of employment\tCount backwards from current day(0). If positive, it means the person currently unemployed.\t\n",
        "__FLAG_MOBIL__\tIs there a mobile phone\t\n",
        "__FLAG_WORK_PHONE__\tIs there a work phone\t\n",
        "__FLAG_PHONE__\tIs there a phone\t\n",
        "__FLAG_EMAIL__\tIs there an email\t\n",
        "__OCCUPATION_TYPE__\tOccupation\t\n",
        "__CNT_FAM_MEMBERS__\tFamily size \t\n",
        "__MONTHS_BALANCE__: The month of the extracted data is the starting point, backwards\n",
        "\n",
        "0 is the current month\n",
        "\n",
        "-1 is the previous month, and so on\n",
        "\n",
        "__STATUS__:\n",
        "\n",
        "0: 1-29 days past due\n",
        "\n",
        "1: 30-59 days past due\n",
        "\n",
        "2: 60-89 days overdue \n",
        "\n",
        "3: 90-119 days overdue \n",
        "\n",
        "4: 120-149 days overdue \n",
        "\n",
        "5: Overdue or bad debts, write-offs for more than 150 days \n",
        "\n",
        "C: paid off that month \n",
        "\n",
        "X: No loan for the month"
      ]
    },
    {
      "cell_type": "code",
      "metadata": {
        "colab": {
          "base_uri": "https://localhost:8080/"
        },
        "id": "UfHQu-EOWLW_",
        "outputId": "a421a136-c5ea-4b71-c715-ad2b549e61a3"
      },
      "source": [
        "# check missing data\n",
        "df_record.isnull().sum()"
      ],
      "execution_count": null,
      "outputs": [
        {
          "output_type": "execute_result",
          "data": {
            "text/plain": [
              "ID                          0\n",
              "CODE_GENDER                 0\n",
              "FLAG_OWN_CAR                0\n",
              "FLAG_OWN_REALTY             0\n",
              "CNT_CHILDREN                0\n",
              "AMT_INCOME_TOTAL            0\n",
              "NAME_INCOME_TYPE            0\n",
              "NAME_EDUCATION_TYPE         0\n",
              "NAME_FAMILY_STATUS          0\n",
              "NAME_HOUSING_TYPE           0\n",
              "DAYS_BIRTH                  0\n",
              "DAYS_EMPLOYED               0\n",
              "FLAG_MOBIL                  0\n",
              "FLAG_WORK_PHONE             0\n",
              "FLAG_PHONE                  0\n",
              "FLAG_EMAIL                  0\n",
              "OCCUPATION_TYPE        240048\n",
              "CNT_FAM_MEMBERS             0\n",
              "MONTHS_BALANCE              0\n",
              "STATUS                      0\n",
              "dtype: int64"
            ]
          },
          "metadata": {
            "tags": []
          },
          "execution_count": 8
        }
      ]
    },
    {
      "cell_type": "markdown",
      "metadata": {
        "id": "HAJ4bUtT2m7p"
      },
      "source": [
        "The 'OCCUPATION_TYPE' has a lot of missing values, we will go to check the missing percentage."
      ]
    },
    {
      "cell_type": "code",
      "metadata": {
        "colab": {
          "base_uri": "https://localhost:8080/"
        },
        "id": "Q4Liq2kWWyhG",
        "outputId": "b2bcc403-8708-49ba-9396-e343b1624006"
      },
      "source": [
        "df_record.isnull().sum()/df_record.shape[0]"
      ],
      "execution_count": null,
      "outputs": [
        {
          "output_type": "execute_result",
          "data": {
            "text/plain": [
              "ID                     0.000000\n",
              "CODE_GENDER            0.000000\n",
              "FLAG_OWN_CAR           0.000000\n",
              "FLAG_OWN_REALTY        0.000000\n",
              "CNT_CHILDREN           0.000000\n",
              "AMT_INCOME_TOTAL       0.000000\n",
              "NAME_INCOME_TYPE       0.000000\n",
              "NAME_EDUCATION_TYPE    0.000000\n",
              "NAME_FAMILY_STATUS     0.000000\n",
              "NAME_HOUSING_TYPE      0.000000\n",
              "DAYS_BIRTH             0.000000\n",
              "DAYS_EMPLOYED          0.000000\n",
              "FLAG_MOBIL             0.000000\n",
              "FLAG_WORK_PHONE        0.000000\n",
              "FLAG_PHONE             0.000000\n",
              "FLAG_EMAIL             0.000000\n",
              "OCCUPATION_TYPE        0.308658\n",
              "CNT_FAM_MEMBERS        0.000000\n",
              "MONTHS_BALANCE         0.000000\n",
              "STATUS                 0.000000\n",
              "dtype: float64"
            ]
          },
          "metadata": {
            "tags": []
          },
          "execution_count": 9
        }
      ]
    },
    {
      "cell_type": "markdown",
      "metadata": {
        "id": "sAvhzABIW-3V"
      },
      "source": [
        "The 'OCCUPATION_TYPE' has 30.8% missing data, since it is a lot so I will check the values in this column to see if we should fill it or drop it."
      ]
    },
    {
      "cell_type": "code",
      "metadata": {
        "colab": {
          "base_uri": "https://localhost:8080/"
        },
        "id": "_lgMSti2XsKE",
        "outputId": "6411d1fd-72f0-421b-f14b-009f37d0d790"
      },
      "source": [
        "df_record['OCCUPATION_TYPE'].value_counts()"
      ],
      "execution_count": null,
      "outputs": [
        {
          "output_type": "execute_result",
          "data": {
            "text/plain": [
              "Laborers                 131572\n",
              "Core staff                77112\n",
              "Sales staff               70362\n",
              "Managers                  67738\n",
              "Drivers                   47678\n",
              "High skill tech staff     31768\n",
              "Accountants               27223\n",
              "Medicine staff            26691\n",
              "Cooking staff             13416\n",
              "Security staff            12400\n",
              "Cleaning staff            11399\n",
              "Private service staff      6714\n",
              "Low-skill Laborers         3623\n",
              "Secretaries                3149\n",
              "Waiters/barmen staff       2557\n",
              "HR staff                   1686\n",
              "IT staff                   1319\n",
              "Realty agents              1260\n",
              "Name: OCCUPATION_TYPE, dtype: int64"
            ]
          },
          "metadata": {
            "tags": []
          },
          "execution_count": 10
        }
      ]
    },
    {
      "cell_type": "code",
      "metadata": {
        "colab": {
          "base_uri": "https://localhost:8080/",
          "height": 282
        },
        "id": "JHZSy2QKXRFV",
        "outputId": "d1e74470-0681-45ac-98d6-3bd1a157e7f5"
      },
      "source": [
        "# plot gragh\n",
        "df_record['OCCUPATION_TYPE'].value_counts().sort_values().plot(kind = 'barh')"
      ],
      "execution_count": null,
      "outputs": [
        {
          "output_type": "execute_result",
          "data": {
            "text/plain": [
              "<matplotlib.axes._subplots.AxesSubplot at 0x182d2b0db50>"
            ]
          },
          "metadata": {
            "tags": []
          },
          "execution_count": 11
        },
        {
          "output_type": "display_data",
          "data": {
            "image/png": "[encoded data removed]",
            "text/plain": [
              "<Figure size 432x288 with 1 Axes>"
            ]
          },
          "metadata": {
            "tags": [],
            "needs_background": "light"
          }
        }
      ]
    },
    {
      "cell_type": "markdown",
      "metadata": {
        "id": "Fzpks3Pr9Dmt"
      },
      "source": [
        "It's hard to fill out 30% various values in the occupation column. So we decide to drop this column."
      ]
    },
    {
      "cell_type": "code",
      "metadata": {
        "id": "LbDGroTHC-6d"
      },
      "source": [
        "# drop 'OCCUPATION_TYPE'\n",
        "df_record.drop('OCCUPATION_TYPE',axis = 1, inplace = True)"
      ],
      "execution_count": null,
      "outputs": []
    },
    {
      "cell_type": "code",
      "metadata": {
        "colab": {
          "base_uri": "https://localhost:8080/"
        },
        "id": "h7oCNk7IY1mR",
        "outputId": "a43ab6b8-bde0-4d9d-a75e-6dd8e1888f13"
      },
      "source": [
        "# check database type count\n",
        "df_record.dtypes.value_counts()"
      ],
      "execution_count": null,
      "outputs": [
        {
          "output_type": "execute_result",
          "data": {
            "text/plain": [
              "int64      9\n",
              "object     8\n",
              "float64    2\n",
              "dtype: int64"
            ]
          },
          "metadata": {
            "tags": []
          },
          "execution_count": 14
        }
      ]
    },
    {
      "cell_type": "markdown",
      "metadata": {
        "id": "SkENfQHCRBYs"
      },
      "source": [
        "We also know from the given information that there are 8 different category attributes and the rest are numeric attributes."
      ]
    },
    {
      "cell_type": "markdown",
      "metadata": {
        "id": "3MU02xe72m7s"
      },
      "source": [
        "Understand the value of the data by looking at the distribution of the data roughly"
      ]
    },
    {
      "cell_type": "code",
      "metadata": {
        "colab": {
          "base_uri": "https://localhost:8080/",
          "height": 373
        },
        "id": "Ftq9kWmzKPi1",
        "outputId": "012f116d-66ec-452a-e116-4ee19bb59e75"
      },
      "source": [
        "df_record.describe().T"
      ],
      "execution_count": null,
      "outputs": [
        {
          "output_type": "execute_result",
          "data": {
            "text/html": [
              "<div>\n",
              "<style scoped>\n",
              "    .dataframe tbody tr th:only-of-type {\n",
              "        vertical-align: middle;\n",
              "    }\n",
              "\n",
              "    .dataframe tbody tr th {\n",
              "        vertical-align: top;\n",
              "    }\n",
              "\n",
              "    .dataframe thead th {\n",
              "        text-align: right;\n",
              "    }\n",
              "</style>\n",
              "<table border=\"1\" class=\"dataframe\">\n",
              "  <thead>\n",
              "    <tr style=\"text-align: right;\">\n",
              "      <th></th>\n",
              "      <th>count</th>\n",
              "      <th>mean</th>\n",
              "      <th>std</th>\n",
              "      <th>min</th>\n",
              "      <th>25%</th>\n",
              "      <th>50%</th>\n",
              "      <th>75%</th>\n",
              "      <th>max</th>\n",
              "    </tr>\n",
              "  </thead>\n",
              "  <tbody>\n",
              "    <tr>\n",
              "      <th>ID</th>\n",
              "      <td>777715.0</td>\n",
              "      <td>5.078743e+06</td>\n",
              "      <td>41804.424817</td>\n",
              "      <td>5008804.0</td>\n",
              "      <td>5044568.5</td>\n",
              "      <td>5069530.0</td>\n",
              "      <td>5115551.0</td>\n",
              "      <td>5150487.0</td>\n",
              "    </tr>\n",
              "    <tr>\n",
              "      <th>CNT_CHILDREN</th>\n",
              "      <td>777715.0</td>\n",
              "      <td>4.280823e-01</td>\n",
              "      <td>0.745755</td>\n",
              "      <td>0.0</td>\n",
              "      <td>0.0</td>\n",
              "      <td>0.0</td>\n",
              "      <td>1.0</td>\n",
              "      <td>19.0</td>\n",
              "    </tr>\n",
              "    <tr>\n",
              "      <th>AMT_INCOME_TOTAL</th>\n",
              "      <td>777715.0</td>\n",
              "      <td>1.885348e+05</td>\n",
              "      <td>101622.450076</td>\n",
              "      <td>27000.0</td>\n",
              "      <td>121500.0</td>\n",
              "      <td>162000.0</td>\n",
              "      <td>225000.0</td>\n",
              "      <td>1575000.0</td>\n",
              "    </tr>\n",
              "    <tr>\n",
              "      <th>DAYS_BIRTH</th>\n",
              "      <td>777715.0</td>\n",
              "      <td>-1.612494e+04</td>\n",
              "      <td>4104.304018</td>\n",
              "      <td>-25152.0</td>\n",
              "      <td>-19453.0</td>\n",
              "      <td>-15760.0</td>\n",
              "      <td>-12716.0</td>\n",
              "      <td>-7489.0</td>\n",
              "    </tr>\n",
              "    <tr>\n",
              "      <th>DAYS_EMPLOYED</th>\n",
              "      <td>777715.0</td>\n",
              "      <td>5.777583e+04</td>\n",
              "      <td>136471.735391</td>\n",
              "      <td>-15713.0</td>\n",
              "      <td>-3292.0</td>\n",
              "      <td>-1682.0</td>\n",
              "      <td>-431.0</td>\n",
              "      <td>365243.0</td>\n",
              "    </tr>\n",
              "    <tr>\n",
              "      <th>FLAG_MOBIL</th>\n",
              "      <td>777715.0</td>\n",
              "      <td>1.000000e+00</td>\n",
              "      <td>0.000000</td>\n",
              "      <td>1.0</td>\n",
              "      <td>1.0</td>\n",
              "      <td>1.0</td>\n",
              "      <td>1.0</td>\n",
              "      <td>1.0</td>\n",
              "    </tr>\n",
              "    <tr>\n",
              "      <th>FLAG_WORK_PHONE</th>\n",
              "      <td>777715.0</td>\n",
              "      <td>2.318176e-01</td>\n",
              "      <td>0.421993</td>\n",
              "      <td>0.0</td>\n",
              "      <td>0.0</td>\n",
              "      <td>0.0</td>\n",
              "      <td>0.0</td>\n",
              "      <td>1.0</td>\n",
              "    </tr>\n",
              "    <tr>\n",
              "      <th>FLAG_PHONE</th>\n",
              "      <td>777715.0</td>\n",
              "      <td>3.009650e-01</td>\n",
              "      <td>0.458678</td>\n",
              "      <td>0.0</td>\n",
              "      <td>0.0</td>\n",
              "      <td>0.0</td>\n",
              "      <td>1.0</td>\n",
              "      <td>1.0</td>\n",
              "    </tr>\n",
              "    <tr>\n",
              "      <th>FLAG_EMAIL</th>\n",
              "      <td>777715.0</td>\n",
              "      <td>9.167497e-02</td>\n",
              "      <td>0.288567</td>\n",
              "      <td>0.0</td>\n",
              "      <td>0.0</td>\n",
              "      <td>0.0</td>\n",
              "      <td>0.0</td>\n",
              "      <td>1.0</td>\n",
              "    </tr>\n",
              "    <tr>\n",
              "      <th>CNT_FAM_MEMBERS</th>\n",
              "      <td>777715.0</td>\n",
              "      <td>2.208837e+00</td>\n",
              "      <td>0.907380</td>\n",
              "      <td>1.0</td>\n",
              "      <td>2.0</td>\n",
              "      <td>2.0</td>\n",
              "      <td>3.0</td>\n",
              "      <td>20.0</td>\n",
              "    </tr>\n",
              "    <tr>\n",
              "      <th>MONTHS_BALANCE</th>\n",
              "      <td>777715.0</td>\n",
              "      <td>-1.937356e+01</td>\n",
              "      <td>14.082208</td>\n",
              "      <td>-60.0</td>\n",
              "      <td>-29.0</td>\n",
              "      <td>-17.0</td>\n",
              "      <td>-8.0</td>\n",
              "      <td>0.0</td>\n",
              "    </tr>\n",
              "  </tbody>\n",
              "</table>\n",
              "</div>"
            ],
            "text/plain": [
              "                     count          mean            std        min        25%  \\\n",
              "ID                777715.0  5.078743e+06   41804.424817  5008804.0  5044568.5   \n",
              "CNT_CHILDREN      777715.0  4.280823e-01       0.745755        0.0        0.0   \n",
              "AMT_INCOME_TOTAL  777715.0  1.885348e+05  101622.450076    27000.0   121500.0   \n",
              "DAYS_BIRTH        777715.0 -1.612494e+04    4104.304018   -25152.0   -19453.0   \n",
              "DAYS_EMPLOYED     777715.0  5.777583e+04  136471.735391   -15713.0    -3292.0   \n",
              "FLAG_MOBIL        777715.0  1.000000e+00       0.000000        1.0        1.0   \n",
              "FLAG_WORK_PHONE   777715.0  2.318176e-01       0.421993        0.0        0.0   \n",
              "FLAG_PHONE        777715.0  3.009650e-01       0.458678        0.0        0.0   \n",
              "FLAG_EMAIL        777715.0  9.167497e-02       0.288567        0.0        0.0   \n",
              "CNT_FAM_MEMBERS   777715.0  2.208837e+00       0.907380        1.0        2.0   \n",
              "MONTHS_BALANCE    777715.0 -1.937356e+01      14.082208      -60.0      -29.0   \n",
              "\n",
              "                        50%        75%        max  \n",
              "ID                5069530.0  5115551.0  5150487.0  \n",
              "CNT_CHILDREN            0.0        1.0       19.0  \n",
              "AMT_INCOME_TOTAL   162000.0   225000.0  1575000.0  \n",
              "DAYS_BIRTH         -15760.0   -12716.0    -7489.0  \n",
              "DAYS_EMPLOYED       -1682.0     -431.0   365243.0  \n",
              "FLAG_MOBIL              1.0        1.0        1.0  \n",
              "FLAG_WORK_PHONE         0.0        0.0        1.0  \n",
              "FLAG_PHONE              0.0        1.0        1.0  \n",
              "FLAG_EMAIL              0.0        0.0        1.0  \n",
              "CNT_FAM_MEMBERS         2.0        3.0       20.0  \n",
              "MONTHS_BALANCE        -17.0       -8.0        0.0  "
            ]
          },
          "metadata": {
            "tags": []
          },
          "execution_count": 15
        }
      ]
    },
    {
      "cell_type": "markdown",
      "metadata": {
        "id": "aikkhk1r1O4D"
      },
      "source": [
        "From this table, we can find:\n",
        "- the DAYS_EMPLOYED is recorded wrong since the max data is 365243, which is more than 1000 years and it's obviously impossible. I will check all positive values in this column specifically."
      ]
    },
    {
      "cell_type": "code",
      "metadata": {
        "colab": {
          "base_uri": "https://localhost:8080/"
        },
        "id": "fHIU7TZUQSUj",
        "outputId": "79fc4738-1e40-47a1-966a-ccbd7953328e"
      },
      "source": [
        "# check the min value of DAYS_EMPLOYED\n",
        "df_record[df_record.DAYS_EMPLOYED > 0 ]['DAYS_EMPLOYED'].min()"
      ],
      "execution_count": null,
      "outputs": [
        {
          "output_type": "execute_result",
          "data": {
            "text/plain": [
              "365243"
            ]
          },
          "metadata": {
            "tags": []
          },
          "execution_count": 16
        }
      ]
    },
    {
      "cell_type": "markdown",
      "metadata": {
        "id": "Sy08OY1xRDrL"
      },
      "source": [
        "The min value of the positive value in DAYS_EMPLOYED is exactly equal to the max, which make us confused. so we will continualy to check those unemployed customers information"
      ]
    },
    {
      "cell_type": "code",
      "metadata": {
        "colab": {
          "base_uri": "https://localhost:8080/",
          "height": 660
        },
        "id": "yx_0nbuURAhI",
        "outputId": "d76ebc8d-d424-4ff1-a892-a39cbccbc357"
      },
      "source": [
        "df_unemploy = df_record[df_record.DAYS_EMPLOYED > 0 ]\n",
        "df_unemploy.sample(10).T"
      ],
      "execution_count": null,
      "outputs": [
        {
          "output_type": "execute_result",
          "data": {
            "text/html": [
              "<div>\n",
              "<style scoped>\n",
              "    .dataframe tbody tr th:only-of-type {\n",
              "        vertical-align: middle;\n",
              "    }\n",
              "\n",
              "    .dataframe tbody tr th {\n",
              "        vertical-align: top;\n",
              "    }\n",
              "\n",
              "    .dataframe thead th {\n",
              "        text-align: right;\n",
              "    }\n",
              "</style>\n",
              "<table border=\"1\" class=\"dataframe\">\n",
              "  <thead>\n",
              "    <tr style=\"text-align: right;\">\n",
              "      <th></th>\n",
              "      <th>389441</th>\n",
              "      <th>416716</th>\n",
              "      <th>580321</th>\n",
              "      <th>129973</th>\n",
              "      <th>745779</th>\n",
              "      <th>505620</th>\n",
              "      <th>167984</th>\n",
              "      <th>467586</th>\n",
              "      <th>78209</th>\n",
              "      <th>318311</th>\n",
              "    </tr>\n",
              "  </thead>\n",
              "  <tbody>\n",
              "    <tr>\n",
              "      <th>ID</th>\n",
              "      <td>5068869</td>\n",
              "      <td>5088231</td>\n",
              "      <td>5113924</td>\n",
              "      <td>5029207</td>\n",
              "      <td>5148865</td>\n",
              "      <td>5096576</td>\n",
              "      <td>5150245</td>\n",
              "      <td>5091680</td>\n",
              "      <td>5023471</td>\n",
              "      <td>5061733</td>\n",
              "    </tr>\n",
              "    <tr>\n",
              "      <th>CODE_GENDER</th>\n",
              "      <td>F</td>\n",
              "      <td>F</td>\n",
              "      <td>F</td>\n",
              "      <td>F</td>\n",
              "      <td>F</td>\n",
              "      <td>F</td>\n",
              "      <td>F</td>\n",
              "      <td>F</td>\n",
              "      <td>F</td>\n",
              "      <td>F</td>\n",
              "    </tr>\n",
              "    <tr>\n",
              "      <th>FLAG_OWN_CAR</th>\n",
              "      <td>Y</td>\n",
              "      <td>N</td>\n",
              "      <td>N</td>\n",
              "      <td>N</td>\n",
              "      <td>N</td>\n",
              "      <td>N</td>\n",
              "      <td>N</td>\n",
              "      <td>N</td>\n",
              "      <td>Y</td>\n",
              "      <td>N</td>\n",
              "    </tr>\n",
              "    <tr>\n",
              "      <th>FLAG_OWN_REALTY</th>\n",
              "      <td>Y</td>\n",
              "      <td>Y</td>\n",
              "      <td>N</td>\n",
              "      <td>Y</td>\n",
              "      <td>Y</td>\n",
              "      <td>N</td>\n",
              "      <td>Y</td>\n",
              "      <td>Y</td>\n",
              "      <td>Y</td>\n",
              "      <td>Y</td>\n",
              "    </tr>\n",
              "    <tr>\n",
              "      <th>CNT_CHILDREN</th>\n",
              "      <td>0</td>\n",
              "      <td>0</td>\n",
              "      <td>0</td>\n",
              "      <td>0</td>\n",
              "      <td>0</td>\n",
              "      <td>0</td>\n",
              "      <td>0</td>\n",
              "      <td>0</td>\n",
              "      <td>0</td>\n",
              "      <td>0</td>\n",
              "    </tr>\n",
              "    <tr>\n",
              "      <th>AMT_INCOME_TOTAL</th>\n",
              "      <td>337500</td>\n",
              "      <td>135000</td>\n",
              "      <td>90000</td>\n",
              "      <td>180000</td>\n",
              "      <td>126000</td>\n",
              "      <td>117000</td>\n",
              "      <td>112500</td>\n",
              "      <td>112500</td>\n",
              "      <td>315000</td>\n",
              "      <td>135000</td>\n",
              "    </tr>\n",
              "    <tr>\n",
              "      <th>NAME_INCOME_TYPE</th>\n",
              "      <td>Pensioner</td>\n",
              "      <td>Pensioner</td>\n",
              "      <td>Pensioner</td>\n",
              "      <td>Pensioner</td>\n",
              "      <td>Pensioner</td>\n",
              "      <td>Pensioner</td>\n",
              "      <td>Pensioner</td>\n",
              "      <td>Pensioner</td>\n",
              "      <td>Pensioner</td>\n",
              "      <td>Pensioner</td>\n",
              "    </tr>\n",
              "    <tr>\n",
              "      <th>NAME_EDUCATION_TYPE</th>\n",
              "      <td>Secondary / secondary special</td>\n",
              "      <td>Secondary / secondary special</td>\n",
              "      <td>Secondary / secondary special</td>\n",
              "      <td>Secondary / secondary special</td>\n",
              "      <td>Higher education</td>\n",
              "      <td>Secondary / secondary special</td>\n",
              "      <td>Secondary / secondary special</td>\n",
              "      <td>Secondary / secondary special</td>\n",
              "      <td>Secondary / secondary special</td>\n",
              "      <td>Secondary / secondary special</td>\n",
              "    </tr>\n",
              "    <tr>\n",
              "      <th>NAME_FAMILY_STATUS</th>\n",
              "      <td>Married</td>\n",
              "      <td>Married</td>\n",
              "      <td>Single / not married</td>\n",
              "      <td>Married</td>\n",
              "      <td>Married</td>\n",
              "      <td>Married</td>\n",
              "      <td>Married</td>\n",
              "      <td>Married</td>\n",
              "      <td>Single / not married</td>\n",
              "      <td>Single / not married</td>\n",
              "    </tr>\n",
              "    <tr>\n",
              "      <th>NAME_HOUSING_TYPE</th>\n",
              "      <td>House / apartment</td>\n",
              "      <td>House / apartment</td>\n",
              "      <td>Municipal apartment</td>\n",
              "      <td>House / apartment</td>\n",
              "      <td>House / apartment</td>\n",
              "      <td>House / apartment</td>\n",
              "      <td>House / apartment</td>\n",
              "      <td>House / apartment</td>\n",
              "      <td>House / apartment</td>\n",
              "      <td>House / apartment</td>\n",
              "    </tr>\n",
              "    <tr>\n",
              "      <th>DAYS_BIRTH</th>\n",
              "      <td>-20629</td>\n",
              "      <td>-21647</td>\n",
              "      <td>-23478</td>\n",
              "      <td>-22115</td>\n",
              "      <td>-21892</td>\n",
              "      <td>-23283</td>\n",
              "      <td>-19709</td>\n",
              "      <td>-23026</td>\n",
              "      <td>-21012</td>\n",
              "      <td>-23929</td>\n",
              "    </tr>\n",
              "    <tr>\n",
              "      <th>DAYS_EMPLOYED</th>\n",
              "      <td>365243</td>\n",
              "      <td>365243</td>\n",
              "      <td>365243</td>\n",
              "      <td>365243</td>\n",
              "      <td>365243</td>\n",
              "      <td>365243</td>\n",
              "      <td>365243</td>\n",
              "      <td>365243</td>\n",
              "      <td>365243</td>\n",
              "      <td>365243</td>\n",
              "    </tr>\n",
              "    <tr>\n",
              "      <th>FLAG_MOBIL</th>\n",
              "      <td>1</td>\n",
              "      <td>1</td>\n",
              "      <td>1</td>\n",
              "      <td>1</td>\n",
              "      <td>1</td>\n",
              "      <td>1</td>\n",
              "      <td>1</td>\n",
              "      <td>1</td>\n",
              "      <td>1</td>\n",
              "      <td>1</td>\n",
              "    </tr>\n",
              "    <tr>\n",
              "      <th>FLAG_WORK_PHONE</th>\n",
              "      <td>0</td>\n",
              "      <td>0</td>\n",
              "      <td>0</td>\n",
              "      <td>0</td>\n",
              "      <td>0</td>\n",
              "      <td>0</td>\n",
              "      <td>0</td>\n",
              "      <td>0</td>\n",
              "      <td>0</td>\n",
              "      <td>0</td>\n",
              "    </tr>\n",
              "    <tr>\n",
              "      <th>FLAG_PHONE</th>\n",
              "      <td>0</td>\n",
              "      <td>0</td>\n",
              "      <td>0</td>\n",
              "      <td>1</td>\n",
              "      <td>0</td>\n",
              "      <td>1</td>\n",
              "      <td>0</td>\n",
              "      <td>0</td>\n",
              "      <td>0</td>\n",
              "      <td>1</td>\n",
              "    </tr>\n",
              "    <tr>\n",
              "      <th>FLAG_EMAIL</th>\n",
              "      <td>1</td>\n",
              "      <td>0</td>\n",
              "      <td>0</td>\n",
              "      <td>0</td>\n",
              "      <td>0</td>\n",
              "      <td>0</td>\n",
              "      <td>0</td>\n",
              "      <td>0</td>\n",
              "      <td>0</td>\n",
              "      <td>0</td>\n",
              "    </tr>\n",
              "    <tr>\n",
              "      <th>CNT_FAM_MEMBERS</th>\n",
              "      <td>2</td>\n",
              "      <td>2</td>\n",
              "      <td>1</td>\n",
              "      <td>2</td>\n",
              "      <td>2</td>\n",
              "      <td>2</td>\n",
              "      <td>2</td>\n",
              "      <td>2</td>\n",
              "      <td>1</td>\n",
              "      <td>1</td>\n",
              "    </tr>\n",
              "    <tr>\n",
              "      <th>MONTHS_BALANCE</th>\n",
              "      <td>-43</td>\n",
              "      <td>-49</td>\n",
              "      <td>-19</td>\n",
              "      <td>-3</td>\n",
              "      <td>-21</td>\n",
              "      <td>-3</td>\n",
              "      <td>-5</td>\n",
              "      <td>-19</td>\n",
              "      <td>-37</td>\n",
              "      <td>-22</td>\n",
              "    </tr>\n",
              "    <tr>\n",
              "      <th>STATUS</th>\n",
              "      <td>X</td>\n",
              "      <td>C</td>\n",
              "      <td>0</td>\n",
              "      <td>C</td>\n",
              "      <td>X</td>\n",
              "      <td>0</td>\n",
              "      <td>X</td>\n",
              "      <td>C</td>\n",
              "      <td>X</td>\n",
              "      <td>X</td>\n",
              "    </tr>\n",
              "  </tbody>\n",
              "</table>\n",
              "</div>"
            ],
            "text/plain": [
              "                                            389441  \\\n",
              "ID                                         5068869   \n",
              "CODE_GENDER                                      F   \n",
              "FLAG_OWN_CAR                                     Y   \n",
              "FLAG_OWN_REALTY                                  Y   \n",
              "CNT_CHILDREN                                     0   \n",
              "AMT_INCOME_TOTAL                            337500   \n",
              "NAME_INCOME_TYPE                         Pensioner   \n",
              "NAME_EDUCATION_TYPE  Secondary / secondary special   \n",
              "NAME_FAMILY_STATUS                         Married   \n",
              "NAME_HOUSING_TYPE                House / apartment   \n",
              "DAYS_BIRTH                                  -20629   \n",
              "DAYS_EMPLOYED                               365243   \n",
              "FLAG_MOBIL                                       1   \n",
              "FLAG_WORK_PHONE                                  0   \n",
              "FLAG_PHONE                                       0   \n",
              "FLAG_EMAIL                                       1   \n",
              "CNT_FAM_MEMBERS                                  2   \n",
              "MONTHS_BALANCE                                 -43   \n",
              "STATUS                                           X   \n",
              "\n",
              "                                            416716  \\\n",
              "ID                                         5088231   \n",
              "CODE_GENDER                                      F   \n",
              "FLAG_OWN_CAR                                     N   \n",
              "FLAG_OWN_REALTY                                  Y   \n",
              "CNT_CHILDREN                                     0   \n",
              "AMT_INCOME_TOTAL                            135000   \n",
              "NAME_INCOME_TYPE                         Pensioner   \n",
              "NAME_EDUCATION_TYPE  Secondary / secondary special   \n",
              "NAME_FAMILY_STATUS                         Married   \n",
              "NAME_HOUSING_TYPE                House / apartment   \n",
              "DAYS_BIRTH                                  -21647   \n",
              "DAYS_EMPLOYED                               365243   \n",
              "FLAG_MOBIL                                       1   \n",
              "FLAG_WORK_PHONE                                  0   \n",
              "FLAG_PHONE                                       0   \n",
              "FLAG_EMAIL                                       0   \n",
              "CNT_FAM_MEMBERS                                  2   \n",
              "MONTHS_BALANCE                                 -49   \n",
              "STATUS                                           C   \n",
              "\n",
              "                                            580321  \\\n",
              "ID                                         5113924   \n",
              "CODE_GENDER                                      F   \n",
              "FLAG_OWN_CAR                                     N   \n",
              "FLAG_OWN_REALTY                                  N   \n",
              "CNT_CHILDREN                                     0   \n",
              "AMT_INCOME_TOTAL                             90000   \n",
              "NAME_INCOME_TYPE                         Pensioner   \n",
              "NAME_EDUCATION_TYPE  Secondary / secondary special   \n",
              "NAME_FAMILY_STATUS            Single / not married   \n",
              "NAME_HOUSING_TYPE              Municipal apartment   \n",
              "DAYS_BIRTH                                  -23478   \n",
              "DAYS_EMPLOYED                               365243   \n",
              "FLAG_MOBIL                                       1   \n",
              "FLAG_WORK_PHONE                                  0   \n",
              "FLAG_PHONE                                       0   \n",
              "FLAG_EMAIL                                       0   \n",
              "CNT_FAM_MEMBERS                                  1   \n",
              "MONTHS_BALANCE                                 -19   \n",
              "STATUS                                           0   \n",
              "\n",
              "                                            129973             745779  \\\n",
              "ID                                         5029207            5148865   \n",
              "CODE_GENDER                                      F                  F   \n",
              "FLAG_OWN_CAR                                     N                  N   \n",
              "FLAG_OWN_REALTY                                  Y                  Y   \n",
              "CNT_CHILDREN                                     0                  0   \n",
              "AMT_INCOME_TOTAL                            180000             126000   \n",
              "NAME_INCOME_TYPE                         Pensioner          Pensioner   \n",
              "NAME_EDUCATION_TYPE  Secondary / secondary special   Higher education   \n",
              "NAME_FAMILY_STATUS                         Married            Married   \n",
              "NAME_HOUSING_TYPE                House / apartment  House / apartment   \n",
              "DAYS_BIRTH                                  -22115             -21892   \n",
              "DAYS_EMPLOYED                               365243             365243   \n",
              "FLAG_MOBIL                                       1                  1   \n",
              "FLAG_WORK_PHONE                                  0                  0   \n",
              "FLAG_PHONE                                       1                  0   \n",
              "FLAG_EMAIL                                       0                  0   \n",
              "CNT_FAM_MEMBERS                                  2                  2   \n",
              "MONTHS_BALANCE                                  -3                -21   \n",
              "STATUS                                           C                  X   \n",
              "\n",
              "                                            505620  \\\n",
              "ID                                         5096576   \n",
              "CODE_GENDER                                      F   \n",
              "FLAG_OWN_CAR                                     N   \n",
              "FLAG_OWN_REALTY                                  N   \n",
              "CNT_CHILDREN                                     0   \n",
              "AMT_INCOME_TOTAL                            117000   \n",
              "NAME_INCOME_TYPE                         Pensioner   \n",
              "NAME_EDUCATION_TYPE  Secondary / secondary special   \n",
              "NAME_FAMILY_STATUS                         Married   \n",
              "NAME_HOUSING_TYPE                House / apartment   \n",
              "DAYS_BIRTH                                  -23283   \n",
              "DAYS_EMPLOYED                               365243   \n",
              "FLAG_MOBIL                                       1   \n",
              "FLAG_WORK_PHONE                                  0   \n",
              "FLAG_PHONE                                       1   \n",
              "FLAG_EMAIL                                       0   \n",
              "CNT_FAM_MEMBERS                                  2   \n",
              "MONTHS_BALANCE                                  -3   \n",
              "STATUS                                           0   \n",
              "\n",
              "                                            167984  \\\n",
              "ID                                         5150245   \n",
              "CODE_GENDER                                      F   \n",
              "FLAG_OWN_CAR                                     N   \n",
              "FLAG_OWN_REALTY                                  Y   \n",
              "CNT_CHILDREN                                     0   \n",
              "AMT_INCOME_TOTAL                            112500   \n",
              "NAME_INCOME_TYPE                         Pensioner   \n",
              "NAME_EDUCATION_TYPE  Secondary / secondary special   \n",
              "NAME_FAMILY_STATUS                         Married   \n",
              "NAME_HOUSING_TYPE                House / apartment   \n",
              "DAYS_BIRTH                                  -19709   \n",
              "DAYS_EMPLOYED                               365243   \n",
              "FLAG_MOBIL                                       1   \n",
              "FLAG_WORK_PHONE                                  0   \n",
              "FLAG_PHONE                                       0   \n",
              "FLAG_EMAIL                                       0   \n",
              "CNT_FAM_MEMBERS                                  2   \n",
              "MONTHS_BALANCE                                  -5   \n",
              "STATUS                                           X   \n",
              "\n",
              "                                            467586  \\\n",
              "ID                                         5091680   \n",
              "CODE_GENDER                                      F   \n",
              "FLAG_OWN_CAR                                     N   \n",
              "FLAG_OWN_REALTY                                  Y   \n",
              "CNT_CHILDREN                                     0   \n",
              "AMT_INCOME_TOTAL                            112500   \n",
              "NAME_INCOME_TYPE                         Pensioner   \n",
              "NAME_EDUCATION_TYPE  Secondary / secondary special   \n",
              "NAME_FAMILY_STATUS                         Married   \n",
              "NAME_HOUSING_TYPE                House / apartment   \n",
              "DAYS_BIRTH                                  -23026   \n",
              "DAYS_EMPLOYED                               365243   \n",
              "FLAG_MOBIL                                       1   \n",
              "FLAG_WORK_PHONE                                  0   \n",
              "FLAG_PHONE                                       0   \n",
              "FLAG_EMAIL                                       0   \n",
              "CNT_FAM_MEMBERS                                  2   \n",
              "MONTHS_BALANCE                                 -19   \n",
              "STATUS                                           C   \n",
              "\n",
              "                                            78209   \\\n",
              "ID                                         5023471   \n",
              "CODE_GENDER                                      F   \n",
              "FLAG_OWN_CAR                                     Y   \n",
              "FLAG_OWN_REALTY                                  Y   \n",
              "CNT_CHILDREN                                     0   \n",
              "AMT_INCOME_TOTAL                            315000   \n",
              "NAME_INCOME_TYPE                         Pensioner   \n",
              "NAME_EDUCATION_TYPE  Secondary / secondary special   \n",
              "NAME_FAMILY_STATUS            Single / not married   \n",
              "NAME_HOUSING_TYPE                House / apartment   \n",
              "DAYS_BIRTH                                  -21012   \n",
              "DAYS_EMPLOYED                               365243   \n",
              "FLAG_MOBIL                                       1   \n",
              "FLAG_WORK_PHONE                                  0   \n",
              "FLAG_PHONE                                       0   \n",
              "FLAG_EMAIL                                       0   \n",
              "CNT_FAM_MEMBERS                                  1   \n",
              "MONTHS_BALANCE                                 -37   \n",
              "STATUS                                           X   \n",
              "\n",
              "                                            318311  \n",
              "ID                                         5061733  \n",
              "CODE_GENDER                                      F  \n",
              "FLAG_OWN_CAR                                     N  \n",
              "FLAG_OWN_REALTY                                  Y  \n",
              "CNT_CHILDREN                                     0  \n",
              "AMT_INCOME_TOTAL                            135000  \n",
              "NAME_INCOME_TYPE                         Pensioner  \n",
              "NAME_EDUCATION_TYPE  Secondary / secondary special  \n",
              "NAME_FAMILY_STATUS            Single / not married  \n",
              "NAME_HOUSING_TYPE                House / apartment  \n",
              "DAYS_BIRTH                                  -23929  \n",
              "DAYS_EMPLOYED                               365243  \n",
              "FLAG_MOBIL                                       1  \n",
              "FLAG_WORK_PHONE                                  0  \n",
              "FLAG_PHONE                                       1  \n",
              "FLAG_EMAIL                                       0  \n",
              "CNT_FAM_MEMBERS                                  1  \n",
              "MONTHS_BALANCE                                 -22  \n",
              "STATUS                                           X  "
            ]
          },
          "metadata": {
            "tags": []
          },
          "execution_count": 17
        }
      ]
    },
    {
      "cell_type": "code",
      "metadata": {
        "colab": {
          "base_uri": "https://localhost:8080/"
        },
        "id": "4-RBeiHOSPM7",
        "outputId": "194f75e9-6522-42fa-b888-50a8944adaec"
      },
      "source": [
        "df_unemploy.NAME_INCOME_TYPE.unique()"
      ],
      "execution_count": null,
      "outputs": [
        {
          "output_type": "execute_result",
          "data": {
            "text/plain": [
              "array(['Pensioner'], dtype=object)"
            ]
          },
          "metadata": {
            "tags": []
          },
          "execution_count": 18
        }
      ]
    },
    {
      "cell_type": "markdown",
      "metadata": {
        "id": "i04xqUUqR8Ba"
      },
      "source": [
        "From the sample table as shown above, the unemployment customers are all Pensioner.This means the recorder use number 365243 to indicate the applicant is Pensioner."
      ]
    },
    {
      "cell_type": "markdown",
      "metadata": {
        "id": "LHO5E8ScLg7F"
      },
      "source": [
        "Next, we start to check the response variable- STATUS."
      ]
    },
    {
      "cell_type": "markdown",
      "metadata": {
        "id": "0xHHoMGpq1hh"
      },
      "source": [
        "### Response variable"
      ]
    },
    {
      "cell_type": "markdown",
      "metadata": {
        "id": "uP-Cpd1LPgFE"
      },
      "source": [
        "We can get a rough view of the values in 'STATUS'"
      ]
    },
    {
      "cell_type": "code",
      "metadata": {
        "colab": {
          "base_uri": "https://localhost:8080/"
        },
        "id": "dYIyH4FXMxz5",
        "outputId": "43aafd65-ef9d-43b3-c065-e1c2c1e96f2c"
      },
      "source": [
        "df_record['STATUS'].value_counts()"
      ],
      "execution_count": null,
      "outputs": [
        {
          "output_type": "execute_result",
          "data": {
            "text/plain": [
              "C    329536\n",
              "0    290654\n",
              "X    145950\n",
              "1      8747\n",
              "5      1527\n",
              "2       801\n",
              "3       286\n",
              "4       214\n",
              "Name: STATUS, dtype: int64"
            ]
          },
          "metadata": {
            "tags": []
          },
          "execution_count": 19
        }
      ]
    },
    {
      "cell_type": "code",
      "metadata": {
        "colab": {
          "base_uri": "https://localhost:8080/",
          "height": 295
        },
        "id": "rUeHMC8XLkwR",
        "outputId": "524a0afe-19aa-4a1b-b30e-9576cb1523f8"
      },
      "source": [
        "import matplotlib.pyplot as plt\n",
        "import seaborn as sns\n",
        "ax = sns.countplot(x=\"STATUS\", data=df_record)\n",
        "plt.title('STATUS')\n",
        "total = len(df_record['STATUS'])\n",
        "for p in ax.patches:\n",
        "    height = p.get_height()\n",
        "    ax.text(p.get_x()+p.get_width()/2.,\n",
        "            height + 3,\n",
        "            '{:1.3f}%'.format(100*(height/total)),\n",
        "            ha=\"center\")"
      ],
      "execution_count": null,
      "outputs": [
        {
          "output_type": "display_data",
          "data": {
            "image/png": "[encoded data removed]",
            "text/plain": [
              "<Figure size 432x288 with 1 Axes>"
            ]
          },
          "metadata": {
            "tags": [],
            "needs_background": "light"
          }
        }
      ]
    },
    {
      "cell_type": "markdown",
      "metadata": {
        "id": "VynLiPIj2m7w"
      },
      "source": [
        "By looking at the STATUS gragh, the qualifier(C,X) is about 60%, 37% of customers defaulted for a month,  the rest for more than a month"
      ]
    },
    {
      "cell_type": "code",
      "metadata": {
        "colab": {
          "base_uri": "https://localhost:8080/",
          "height": 610
        },
        "id": "q6wtDyHfFH0s",
        "outputId": "c0bc27fa-08f7-4312-97b0-0a114b45dc57"
      },
      "source": [
        "# check sample data\n",
        "df_record.sample(5).T"
      ],
      "execution_count": null,
      "outputs": [
        {
          "output_type": "execute_result",
          "data": {
            "text/html": [
              "<div>\n",
              "<style scoped>\n",
              "    .dataframe tbody tr th:only-of-type {\n",
              "        vertical-align: middle;\n",
              "    }\n",
              "\n",
              "    .dataframe tbody tr th {\n",
              "        vertical-align: top;\n",
              "    }\n",
              "\n",
              "    .dataframe thead th {\n",
              "        text-align: right;\n",
              "    }\n",
              "</style>\n",
              "<table border=\"1\" class=\"dataframe\">\n",
              "  <thead>\n",
              "    <tr style=\"text-align: right;\">\n",
              "      <th></th>\n",
              "      <th>65721</th>\n",
              "      <th>713183</th>\n",
              "      <th>66573</th>\n",
              "      <th>305930</th>\n",
              "      <th>251596</th>\n",
              "    </tr>\n",
              "  </thead>\n",
              "  <tbody>\n",
              "    <tr>\n",
              "      <th>ID</th>\n",
              "      <td>5022730</td>\n",
              "      <td>5142730</td>\n",
              "      <td>5022776</td>\n",
              "      <td>5061183</td>\n",
              "      <td>5050780</td>\n",
              "    </tr>\n",
              "    <tr>\n",
              "      <th>CODE_GENDER</th>\n",
              "      <td>M</td>\n",
              "      <td>M</td>\n",
              "      <td>F</td>\n",
              "      <td>M</td>\n",
              "      <td>M</td>\n",
              "    </tr>\n",
              "    <tr>\n",
              "      <th>FLAG_OWN_CAR</th>\n",
              "      <td>Y</td>\n",
              "      <td>Y</td>\n",
              "      <td>Y</td>\n",
              "      <td>Y</td>\n",
              "      <td>N</td>\n",
              "    </tr>\n",
              "    <tr>\n",
              "      <th>FLAG_OWN_REALTY</th>\n",
              "      <td>N</td>\n",
              "      <td>N</td>\n",
              "      <td>Y</td>\n",
              "      <td>Y</td>\n",
              "      <td>N</td>\n",
              "    </tr>\n",
              "    <tr>\n",
              "      <th>CNT_CHILDREN</th>\n",
              "      <td>3</td>\n",
              "      <td>1</td>\n",
              "      <td>0</td>\n",
              "      <td>0</td>\n",
              "      <td>0</td>\n",
              "    </tr>\n",
              "    <tr>\n",
              "      <th>AMT_INCOME_TOTAL</th>\n",
              "      <td>360000</td>\n",
              "      <td>144000</td>\n",
              "      <td>225000</td>\n",
              "      <td>135000</td>\n",
              "      <td>180000</td>\n",
              "    </tr>\n",
              "    <tr>\n",
              "      <th>NAME_INCOME_TYPE</th>\n",
              "      <td>Commercial associate</td>\n",
              "      <td>Working</td>\n",
              "      <td>Pensioner</td>\n",
              "      <td>Working</td>\n",
              "      <td>State servant</td>\n",
              "    </tr>\n",
              "    <tr>\n",
              "      <th>NAME_EDUCATION_TYPE</th>\n",
              "      <td>Secondary / secondary special</td>\n",
              "      <td>Secondary / secondary special</td>\n",
              "      <td>Higher education</td>\n",
              "      <td>Secondary / secondary special</td>\n",
              "      <td>Secondary / secondary special</td>\n",
              "    </tr>\n",
              "    <tr>\n",
              "      <th>NAME_FAMILY_STATUS</th>\n",
              "      <td>Married</td>\n",
              "      <td>Married</td>\n",
              "      <td>Married</td>\n",
              "      <td>Married</td>\n",
              "      <td>Single / not married</td>\n",
              "    </tr>\n",
              "    <tr>\n",
              "      <th>NAME_HOUSING_TYPE</th>\n",
              "      <td>House / apartment</td>\n",
              "      <td>House / apartment</td>\n",
              "      <td>House / apartment</td>\n",
              "      <td>House / apartment</td>\n",
              "      <td>House / apartment</td>\n",
              "    </tr>\n",
              "    <tr>\n",
              "      <th>DAYS_BIRTH</th>\n",
              "      <td>-15262</td>\n",
              "      <td>-12116</td>\n",
              "      <td>-22964</td>\n",
              "      <td>-12616</td>\n",
              "      <td>-10294</td>\n",
              "    </tr>\n",
              "    <tr>\n",
              "      <th>DAYS_EMPLOYED</th>\n",
              "      <td>-1674</td>\n",
              "      <td>-196</td>\n",
              "      <td>365243</td>\n",
              "      <td>-777</td>\n",
              "      <td>-1992</td>\n",
              "    </tr>\n",
              "    <tr>\n",
              "      <th>FLAG_MOBIL</th>\n",
              "      <td>1</td>\n",
              "      <td>1</td>\n",
              "      <td>1</td>\n",
              "      <td>1</td>\n",
              "      <td>1</td>\n",
              "    </tr>\n",
              "    <tr>\n",
              "      <th>FLAG_WORK_PHONE</th>\n",
              "      <td>0</td>\n",
              "      <td>1</td>\n",
              "      <td>0</td>\n",
              "      <td>0</td>\n",
              "      <td>0</td>\n",
              "    </tr>\n",
              "    <tr>\n",
              "      <th>FLAG_PHONE</th>\n",
              "      <td>0</td>\n",
              "      <td>1</td>\n",
              "      <td>0</td>\n",
              "      <td>0</td>\n",
              "      <td>0</td>\n",
              "    </tr>\n",
              "    <tr>\n",
              "      <th>FLAG_EMAIL</th>\n",
              "      <td>0</td>\n",
              "      <td>0</td>\n",
              "      <td>0</td>\n",
              "      <td>0</td>\n",
              "      <td>0</td>\n",
              "    </tr>\n",
              "    <tr>\n",
              "      <th>CNT_FAM_MEMBERS</th>\n",
              "      <td>5</td>\n",
              "      <td>3</td>\n",
              "      <td>2</td>\n",
              "      <td>2</td>\n",
              "      <td>1</td>\n",
              "    </tr>\n",
              "    <tr>\n",
              "      <th>MONTHS_BALANCE</th>\n",
              "      <td>-19</td>\n",
              "      <td>-2</td>\n",
              "      <td>-4</td>\n",
              "      <td>-14</td>\n",
              "      <td>-34</td>\n",
              "    </tr>\n",
              "    <tr>\n",
              "      <th>STATUS</th>\n",
              "      <td>C</td>\n",
              "      <td>C</td>\n",
              "      <td>C</td>\n",
              "      <td>X</td>\n",
              "      <td>X</td>\n",
              "    </tr>\n",
              "  </tbody>\n",
              "</table>\n",
              "</div>"
            ],
            "text/plain": [
              "                                            65721   \\\n",
              "ID                                         5022730   \n",
              "CODE_GENDER                                      M   \n",
              "FLAG_OWN_CAR                                     Y   \n",
              "FLAG_OWN_REALTY                                  N   \n",
              "CNT_CHILDREN                                     3   \n",
              "AMT_INCOME_TOTAL                            360000   \n",
              "NAME_INCOME_TYPE              Commercial associate   \n",
              "NAME_EDUCATION_TYPE  Secondary / secondary special   \n",
              "NAME_FAMILY_STATUS                         Married   \n",
              "NAME_HOUSING_TYPE                House / apartment   \n",
              "DAYS_BIRTH                                  -15262   \n",
              "DAYS_EMPLOYED                                -1674   \n",
              "FLAG_MOBIL                                       1   \n",
              "FLAG_WORK_PHONE                                  0   \n",
              "FLAG_PHONE                                       0   \n",
              "FLAG_EMAIL                                       0   \n",
              "CNT_FAM_MEMBERS                                  5   \n",
              "MONTHS_BALANCE                                 -19   \n",
              "STATUS                                           C   \n",
              "\n",
              "                                            713183             66573   \\\n",
              "ID                                         5142730            5022776   \n",
              "CODE_GENDER                                      M                  F   \n",
              "FLAG_OWN_CAR                                     Y                  Y   \n",
              "FLAG_OWN_REALTY                                  N                  Y   \n",
              "CNT_CHILDREN                                     1                  0   \n",
              "AMT_INCOME_TOTAL                            144000             225000   \n",
              "NAME_INCOME_TYPE                           Working          Pensioner   \n",
              "NAME_EDUCATION_TYPE  Secondary / secondary special   Higher education   \n",
              "NAME_FAMILY_STATUS                         Married            Married   \n",
              "NAME_HOUSING_TYPE                House / apartment  House / apartment   \n",
              "DAYS_BIRTH                                  -12116             -22964   \n",
              "DAYS_EMPLOYED                                 -196             365243   \n",
              "FLAG_MOBIL                                       1                  1   \n",
              "FLAG_WORK_PHONE                                  1                  0   \n",
              "FLAG_PHONE                                       1                  0   \n",
              "FLAG_EMAIL                                       0                  0   \n",
              "CNT_FAM_MEMBERS                                  3                  2   \n",
              "MONTHS_BALANCE                                  -2                 -4   \n",
              "STATUS                                           C                  C   \n",
              "\n",
              "                                            305930  \\\n",
              "ID                                         5061183   \n",
              "CODE_GENDER                                      M   \n",
              "FLAG_OWN_CAR                                     Y   \n",
              "FLAG_OWN_REALTY                                  Y   \n",
              "CNT_CHILDREN                                     0   \n",
              "AMT_INCOME_TOTAL                            135000   \n",
              "NAME_INCOME_TYPE                           Working   \n",
              "NAME_EDUCATION_TYPE  Secondary / secondary special   \n",
              "NAME_FAMILY_STATUS                         Married   \n",
              "NAME_HOUSING_TYPE                House / apartment   \n",
              "DAYS_BIRTH                                  -12616   \n",
              "DAYS_EMPLOYED                                 -777   \n",
              "FLAG_MOBIL                                       1   \n",
              "FLAG_WORK_PHONE                                  0   \n",
              "FLAG_PHONE                                       0   \n",
              "FLAG_EMAIL                                       0   \n",
              "CNT_FAM_MEMBERS                                  2   \n",
              "MONTHS_BALANCE                                 -14   \n",
              "STATUS                                           X   \n",
              "\n",
              "                                            251596  \n",
              "ID                                         5050780  \n",
              "CODE_GENDER                                      M  \n",
              "FLAG_OWN_CAR                                     N  \n",
              "FLAG_OWN_REALTY                                  N  \n",
              "CNT_CHILDREN                                     0  \n",
              "AMT_INCOME_TOTAL                            180000  \n",
              "NAME_INCOME_TYPE                     State servant  \n",
              "NAME_EDUCATION_TYPE  Secondary / secondary special  \n",
              "NAME_FAMILY_STATUS            Single / not married  \n",
              "NAME_HOUSING_TYPE                House / apartment  \n",
              "DAYS_BIRTH                                  -10294  \n",
              "DAYS_EMPLOYED                                -1992  \n",
              "FLAG_MOBIL                                       1  \n",
              "FLAG_WORK_PHONE                                  0  \n",
              "FLAG_PHONE                                       0  \n",
              "FLAG_EMAIL                                       0  \n",
              "CNT_FAM_MEMBERS                                  1  \n",
              "MONTHS_BALANCE                                 -34  \n",
              "STATUS                                           X  "
            ]
          },
          "metadata": {
            "tags": []
          },
          "execution_count": 21
        }
      ]
    },
    {
      "cell_type": "markdown",
      "metadata": {
        "id": "5q_MHLXieF3y"
      },
      "source": [
        "### Numerical variable"
      ]
    },
    {
      "cell_type": "code",
      "metadata": {
        "colab": {
          "base_uri": "https://localhost:8080/",
          "height": 826
        },
        "id": "XVpeYuPtJeOz",
        "outputId": "ef5e2388-3d6c-428d-9a10-c947df68d34b"
      },
      "source": [
        "df_record.hist(figsize=(12,10))"
      ],
      "execution_count": null,
      "outputs": [
        {
          "output_type": "execute_result",
          "data": {
            "text/plain": [
              "array([[<matplotlib.axes._subplots.AxesSubplot object at 0x00000182DD9320D0>,\n",
              "        <matplotlib.axes._subplots.AxesSubplot object at 0x00000182DD960730>,\n",
              "        <matplotlib.axes._subplots.AxesSubplot object at 0x00000182DD98DBE0>],\n",
              "       [<matplotlib.axes._subplots.AxesSubplot object at 0x00000182DE889100>,\n",
              "        <matplotlib.axes._subplots.AxesSubplot object at 0x00000182DE8C44F0>,\n",
              "        <matplotlib.axes._subplots.AxesSubplot object at 0x00000182DE8EE8E0>],\n",
              "       [<matplotlib.axes._subplots.AxesSubplot object at 0x00000182DE8EE9D0>,\n",
              "        <matplotlib.axes._subplots.AxesSubplot object at 0x00000182DE91DE80>,\n",
              "        <matplotlib.axes._subplots.AxesSubplot object at 0x00000182DE981760>],\n",
              "       [<matplotlib.axes._subplots.AxesSubplot object at 0x00000182DE9ACBE0>,\n",
              "        <matplotlib.axes._subplots.AxesSubplot object at 0x00000182DE9DB0D0>,\n",
              "        <matplotlib.axes._subplots.AxesSubplot object at 0x00000182DEA15400>]],\n",
              "      dtype=object)"
            ]
          },
          "metadata": {
            "tags": []
          },
          "execution_count": 22
        },
        {
          "output_type": "display_data",
          "data": {
            "image/png": "[encoded data removed]",
            "text/plain": [
              "<Figure size 864x720 with 12 Axes>"
            ]
          },
          "metadata": {
            "tags": [],
            "needs_background": "light"
          }
        }
      ]
    },
    {
      "cell_type": "markdown",
      "metadata": {
        "id": "JMSJfUpeLruv"
      },
      "source": [
        "Based on the distribution of the numerical data set, we can find most customers:\n",
        "- have 0 or few children\n",
        "- have low income\n",
        "- have more than about 27 years old(10000/365)\n",
        "- all have mobile and it has only one value\n",
        "- are employed for not too long\n",
        "- don't have email\n",
        "- have small family members\n",
        "\n",
        " "
      ]
    },
    {
      "cell_type": "code",
      "metadata": {
        "colab": {
          "base_uri": "https://localhost:8080/",
          "height": 729
        },
        "id": "E4IibPCCYQcR",
        "outputId": "e9c9a739-8f41-4920-cea6-7faf0762f292"
      },
      "source": [
        "#numerical attribute\n",
        "num_cols = [\"CNT_CHILDREN\",\"DAYS_BIRTH\",\"DAYS_EMPLOYED\",\"CNT_FAM_MEMBERS\"]\n",
        "\n",
        "# set figure size\n",
        "fig, axes =plt.subplots(4,1,figsize=(5,10))\n",
        "for col, ax in zip(df_record[num_cols], axes):\n",
        "    sns.boxplot(x= df_record[col], ax=ax, orient = 'h' )\n",
        "plt.tight_layout()    \n",
        "plt.show()"
      ],
      "execution_count": null,
      "outputs": [
        {
          "output_type": "display_data",
          "data": {
            "image/png": "[encoded data removed]",
            "text/plain": [
              "<Figure size 360x720 with 4 Axes>"
            ]
          },
          "metadata": {
            "tags": [],
            "needs_background": "light"
          }
        }
      ]
    },
    {
      "cell_type": "markdown",
      "metadata": {
        "id": "EjbTiUvIvDw6"
      },
      "source": [
        "The outlier of 'DAYS_EMPLOYED' is 365243, which is a lable to customer who is Pensioner as we just analized.There are some outliers in 'CNT_CHILDREN' and 'CNT_FAM_MEMBERS', which can be retained since they are valuable for our model."
      ]
    },
    {
      "cell_type": "markdown",
      "metadata": {
        "id": "UUV_DlLMq6zE"
      },
      "source": [
        "### Categorical variable"
      ]
    },
    {
      "cell_type": "code",
      "metadata": {
        "colab": {
          "base_uri": "https://localhost:8080/",
          "height": 729
        },
        "id": "dQOOkiC4FT-E",
        "outputId": "bd9bf5fa-f99b-4201-c9c1-9da265acf4b3"
      },
      "source": [
        "#plot categorical data\n",
        "fig, axes =plt.subplots(4,2, figsize=(12,10))\n",
        "axes = axes.flatten()\n",
        "\n",
        "object_bol = df_record.dtypes == 'object'\n",
        "for ax, catplot in zip(axes, df_record.dtypes[object_bol].index):\n",
        "    gragh = sns.countplot(y=catplot, data=df_record, ax=ax, order=df_record[catplot].value_counts().index)\n",
        "    \n",
        "plt.tight_layout()  \n",
        "plt.show()"
      ],
      "execution_count": null,
      "outputs": [
        {
          "output_type": "display_data",
          "data": {
            "image/png": "[encoded data removed]",
            "text/plain": [
              "<Figure size 864x720 with 8 Axes>"
            ]
          },
          "metadata": {
            "tags": [],
            "needs_background": "light"
          }
        }
      ]
    },
    {
      "cell_type": "markdown",
      "metadata": {
        "id": "MGCme1KjLreF"
      },
      "source": [
        "Based on the distribution of the categorical data set, we can find most customers:\n",
        "- have more than higher education level\n",
        "- are married\n",
        "- have House/apartment housing type\n",
        "\n",
        " "
      ]
    },
    {
      "cell_type": "code",
      "metadata": {
        "colab": {
          "base_uri": "https://localhost:8080/"
        },
        "id": "0G4ZjMhwhhSj",
        "outputId": "728e611b-f9d4-4413-d84f-2c06217f280f"
      },
      "source": [
        "# check the value count in 'NAME_HOUSING_TYPE' \n",
        "df_record.NAME_HOUSING_TYPE.value_counts()/df_record.NAME_HOUSING_TYPE.count() *100"
      ],
      "execution_count": null,
      "outputs": [
        {
          "output_type": "execute_result",
          "data": {
            "text/plain": [
              "House / apartment      89.640935\n",
              "With parents            4.594871\n",
              "Municipal apartment     3.168256\n",
              "Rented apartment        1.401285\n",
              "Office apartment        0.724687\n",
              "Co-op apartment         0.469967\n",
              "Name: NAME_HOUSING_TYPE, dtype: float64"
            ]
          },
          "metadata": {
            "tags": []
          },
          "execution_count": 25
        }
      ]
    },
    {
      "cell_type": "markdown",
      "metadata": {
        "id": "DgAl_nDG4FmQ"
      },
      "source": [
        "Through the count number and diagram, we know the majority values in 'NAME_HOUSING_TYPE' variable is House/apartment, which means we can seperate the value to 1 and 0 display is a applicant has house or not."
      ]
    },
    {
      "cell_type": "markdown",
      "metadata": {
        "id": "r8znX51hPDHR"
      },
      "source": [
        "After EDA process, we need to handle the import data now."
      ]
    },
    {
      "cell_type": "markdown",
      "metadata": {
        "id": "RfoVH02yIic_"
      },
      "source": [
        "## Data Preparation & Prepped Data Review"
      ]
    },
    {
      "cell_type": "markdown",
      "metadata": {
        "id": "a4Rl7GMahbdh"
      },
      "source": [
        "### Dealing with repetative data"
      ]
    },
    {
      "cell_type": "markdown",
      "metadata": {
        "id": "lgcI9RUTSVL8"
      },
      "source": [
        "We need to check row of the data to ensure there is no repetative data"
      ]
    },
    {
      "cell_type": "code",
      "metadata": {
        "colab": {
          "base_uri": "https://localhost:8080/",
          "height": 506
        },
        "id": "soVDfS1F2hB0",
        "outputId": "2d593d0e-76c7-4bec-bae9-62b4ad960d02"
      },
      "source": [
        "# check duplicate in the dataset\n",
        "df_record[df_record['ID'].duplicated(keep=False)]"
      ],
      "execution_count": null,
      "outputs": [
        {
          "output_type": "execute_result",
          "data": {
            "text/html": [
              "<div>\n",
              "<style scoped>\n",
              "    .dataframe tbody tr th:only-of-type {\n",
              "        vertical-align: middle;\n",
              "    }\n",
              "\n",
              "    .dataframe tbody tr th {\n",
              "        vertical-align: top;\n",
              "    }\n",
              "\n",
              "    .dataframe thead th {\n",
              "        text-align: right;\n",
              "    }\n",
              "</style>\n",
              "<table border=\"1\" class=\"dataframe\">\n",
              "  <thead>\n",
              "    <tr style=\"text-align: right;\">\n",
              "      <th></th>\n",
              "      <th>ID</th>\n",
              "      <th>CODE_GENDER</th>\n",
              "      <th>FLAG_OWN_CAR</th>\n",
              "      <th>FLAG_OWN_REALTY</th>\n",
              "      <th>CNT_CHILDREN</th>\n",
              "      <th>AMT_INCOME_TOTAL</th>\n",
              "      <th>NAME_INCOME_TYPE</th>\n",
              "      <th>NAME_EDUCATION_TYPE</th>\n",
              "      <th>NAME_FAMILY_STATUS</th>\n",
              "      <th>NAME_HOUSING_TYPE</th>\n",
              "      <th>DAYS_BIRTH</th>\n",
              "      <th>DAYS_EMPLOYED</th>\n",
              "      <th>FLAG_MOBIL</th>\n",
              "      <th>FLAG_WORK_PHONE</th>\n",
              "      <th>FLAG_PHONE</th>\n",
              "      <th>FLAG_EMAIL</th>\n",
              "      <th>CNT_FAM_MEMBERS</th>\n",
              "      <th>MONTHS_BALANCE</th>\n",
              "      <th>STATUS</th>\n",
              "    </tr>\n",
              "  </thead>\n",
              "  <tbody>\n",
              "    <tr>\n",
              "      <th>0</th>\n",
              "      <td>5008804</td>\n",
              "      <td>M</td>\n",
              "      <td>Y</td>\n",
              "      <td>Y</td>\n",
              "      <td>0</td>\n",
              "      <td>427500.0</td>\n",
              "      <td>Working</td>\n",
              "      <td>Higher education</td>\n",
              "      <td>Civil marriage</td>\n",
              "      <td>Rented apartment</td>\n",
              "      <td>-12005</td>\n",
              "      <td>-4542</td>\n",
              "      <td>1</td>\n",
              "      <td>1</td>\n",
              "      <td>0</td>\n",
              "      <td>0</td>\n",
              "      <td>2.0</td>\n",
              "      <td>0</td>\n",
              "      <td>C</td>\n",
              "    </tr>\n",
              "    <tr>\n",
              "      <th>1</th>\n",
              "      <td>5008804</td>\n",
              "      <td>M</td>\n",
              "      <td>Y</td>\n",
              "      <td>Y</td>\n",
              "      <td>0</td>\n",
              "      <td>427500.0</td>\n",
              "      <td>Working</td>\n",
              "      <td>Higher education</td>\n",
              "      <td>Civil marriage</td>\n",
              "      <td>Rented apartment</td>\n",
              "      <td>-12005</td>\n",
              "      <td>-4542</td>\n",
              "      <td>1</td>\n",
              "      <td>1</td>\n",
              "      <td>0</td>\n",
              "      <td>0</td>\n",
              "      <td>2.0</td>\n",
              "      <td>-1</td>\n",
              "      <td>C</td>\n",
              "    </tr>\n",
              "    <tr>\n",
              "      <th>2</th>\n",
              "      <td>5008804</td>\n",
              "      <td>M</td>\n",
              "      <td>Y</td>\n",
              "      <td>Y</td>\n",
              "      <td>0</td>\n",
              "      <td>427500.0</td>\n",
              "      <td>Working</td>\n",
              "      <td>Higher education</td>\n",
              "      <td>Civil marriage</td>\n",
              "      <td>Rented apartment</td>\n",
              "      <td>-12005</td>\n",
              "      <td>-4542</td>\n",
              "      <td>1</td>\n",
              "      <td>1</td>\n",
              "      <td>0</td>\n",
              "      <td>0</td>\n",
              "      <td>2.0</td>\n",
              "      <td>-2</td>\n",
              "      <td>C</td>\n",
              "    </tr>\n",
              "    <tr>\n",
              "      <th>3</th>\n",
              "      <td>5008804</td>\n",
              "      <td>M</td>\n",
              "      <td>Y</td>\n",
              "      <td>Y</td>\n",
              "      <td>0</td>\n",
              "      <td>427500.0</td>\n",
              "      <td>Working</td>\n",
              "      <td>Higher education</td>\n",
              "      <td>Civil marriage</td>\n",
              "      <td>Rented apartment</td>\n",
              "      <td>-12005</td>\n",
              "      <td>-4542</td>\n",
              "      <td>1</td>\n",
              "      <td>1</td>\n",
              "      <td>0</td>\n",
              "      <td>0</td>\n",
              "      <td>2.0</td>\n",
              "      <td>-3</td>\n",
              "      <td>C</td>\n",
              "    </tr>\n",
              "    <tr>\n",
              "      <th>4</th>\n",
              "      <td>5008804</td>\n",
              "      <td>M</td>\n",
              "      <td>Y</td>\n",
              "      <td>Y</td>\n",
              "      <td>0</td>\n",
              "      <td>427500.0</td>\n",
              "      <td>Working</td>\n",
              "      <td>Higher education</td>\n",
              "      <td>Civil marriage</td>\n",
              "      <td>Rented apartment</td>\n",
              "      <td>-12005</td>\n",
              "      <td>-4542</td>\n",
              "      <td>1</td>\n",
              "      <td>1</td>\n",
              "      <td>0</td>\n",
              "      <td>0</td>\n",
              "      <td>2.0</td>\n",
              "      <td>-4</td>\n",
              "      <td>C</td>\n",
              "    </tr>\n",
              "    <tr>\n",
              "      <th>...</th>\n",
              "      <td>...</td>\n",
              "      <td>...</td>\n",
              "      <td>...</td>\n",
              "      <td>...</td>\n",
              "      <td>...</td>\n",
              "      <td>...</td>\n",
              "      <td>...</td>\n",
              "      <td>...</td>\n",
              "      <td>...</td>\n",
              "      <td>...</td>\n",
              "      <td>...</td>\n",
              "      <td>...</td>\n",
              "      <td>...</td>\n",
              "      <td>...</td>\n",
              "      <td>...</td>\n",
              "      <td>...</td>\n",
              "      <td>...</td>\n",
              "      <td>...</td>\n",
              "      <td>...</td>\n",
              "    </tr>\n",
              "    <tr>\n",
              "      <th>777710</th>\n",
              "      <td>5150337</td>\n",
              "      <td>M</td>\n",
              "      <td>N</td>\n",
              "      <td>Y</td>\n",
              "      <td>0</td>\n",
              "      <td>112500.0</td>\n",
              "      <td>Working</td>\n",
              "      <td>Secondary / secondary special</td>\n",
              "      <td>Single / not married</td>\n",
              "      <td>Rented apartment</td>\n",
              "      <td>-9188</td>\n",
              "      <td>-1193</td>\n",
              "      <td>1</td>\n",
              "      <td>0</td>\n",
              "      <td>0</td>\n",
              "      <td>0</td>\n",
              "      <td>1.0</td>\n",
              "      <td>-9</td>\n",
              "      <td>0</td>\n",
              "    </tr>\n",
              "    <tr>\n",
              "      <th>777711</th>\n",
              "      <td>5150337</td>\n",
              "      <td>M</td>\n",
              "      <td>N</td>\n",
              "      <td>Y</td>\n",
              "      <td>0</td>\n",
              "      <td>112500.0</td>\n",
              "      <td>Working</td>\n",
              "      <td>Secondary / secondary special</td>\n",
              "      <td>Single / not married</td>\n",
              "      <td>Rented apartment</td>\n",
              "      <td>-9188</td>\n",
              "      <td>-1193</td>\n",
              "      <td>1</td>\n",
              "      <td>0</td>\n",
              "      <td>0</td>\n",
              "      <td>0</td>\n",
              "      <td>1.0</td>\n",
              "      <td>-10</td>\n",
              "      <td>2</td>\n",
              "    </tr>\n",
              "    <tr>\n",
              "      <th>777712</th>\n",
              "      <td>5150337</td>\n",
              "      <td>M</td>\n",
              "      <td>N</td>\n",
              "      <td>Y</td>\n",
              "      <td>0</td>\n",
              "      <td>112500.0</td>\n",
              "      <td>Working</td>\n",
              "      <td>Secondary / secondary special</td>\n",
              "      <td>Single / not married</td>\n",
              "      <td>Rented apartment</td>\n",
              "      <td>-9188</td>\n",
              "      <td>-1193</td>\n",
              "      <td>1</td>\n",
              "      <td>0</td>\n",
              "      <td>0</td>\n",
              "      <td>0</td>\n",
              "      <td>1.0</td>\n",
              "      <td>-11</td>\n",
              "      <td>1</td>\n",
              "    </tr>\n",
              "    <tr>\n",
              "      <th>777713</th>\n",
              "      <td>5150337</td>\n",
              "      <td>M</td>\n",
              "      <td>N</td>\n",
              "      <td>Y</td>\n",
              "      <td>0</td>\n",
              "      <td>112500.0</td>\n",
              "      <td>Working</td>\n",
              "      <td>Secondary / secondary special</td>\n",
              "      <td>Single / not married</td>\n",
              "      <td>Rented apartment</td>\n",
              "      <td>-9188</td>\n",
              "      <td>-1193</td>\n",
              "      <td>1</td>\n",
              "      <td>0</td>\n",
              "      <td>0</td>\n",
              "      <td>0</td>\n",
              "      <td>1.0</td>\n",
              "      <td>-12</td>\n",
              "      <td>0</td>\n",
              "    </tr>\n",
              "    <tr>\n",
              "      <th>777714</th>\n",
              "      <td>5150337</td>\n",
              "      <td>M</td>\n",
              "      <td>N</td>\n",
              "      <td>Y</td>\n",
              "      <td>0</td>\n",
              "      <td>112500.0</td>\n",
              "      <td>Working</td>\n",
              "      <td>Secondary / secondary special</td>\n",
              "      <td>Single / not married</td>\n",
              "      <td>Rented apartment</td>\n",
              "      <td>-9188</td>\n",
              "      <td>-1193</td>\n",
              "      <td>1</td>\n",
              "      <td>0</td>\n",
              "      <td>0</td>\n",
              "      <td>0</td>\n",
              "      <td>1.0</td>\n",
              "      <td>-13</td>\n",
              "      <td>0</td>\n",
              "    </tr>\n",
              "  </tbody>\n",
              "</table>\n",
              "<p>777374 rows × 19 columns</p>\n",
              "</div>"
            ],
            "text/plain": [
              "             ID CODE_GENDER FLAG_OWN_CAR FLAG_OWN_REALTY  CNT_CHILDREN  \\\n",
              "0       5008804           M            Y               Y             0   \n",
              "1       5008804           M            Y               Y             0   \n",
              "2       5008804           M            Y               Y             0   \n",
              "3       5008804           M            Y               Y             0   \n",
              "4       5008804           M            Y               Y             0   \n",
              "...         ...         ...          ...             ...           ...   \n",
              "777710  5150337           M            N               Y             0   \n",
              "777711  5150337           M            N               Y             0   \n",
              "777712  5150337           M            N               Y             0   \n",
              "777713  5150337           M            N               Y             0   \n",
              "777714  5150337           M            N               Y             0   \n",
              "\n",
              "        AMT_INCOME_TOTAL NAME_INCOME_TYPE            NAME_EDUCATION_TYPE  \\\n",
              "0               427500.0          Working               Higher education   \n",
              "1               427500.0          Working               Higher education   \n",
              "2               427500.0          Working               Higher education   \n",
              "3               427500.0          Working               Higher education   \n",
              "4               427500.0          Working               Higher education   \n",
              "...                  ...              ...                            ...   \n",
              "777710          112500.0          Working  Secondary / secondary special   \n",
              "777711          112500.0          Working  Secondary / secondary special   \n",
              "777712          112500.0          Working  Secondary / secondary special   \n",
              "777713          112500.0          Working  Secondary / secondary special   \n",
              "777714          112500.0          Working  Secondary / secondary special   \n",
              "\n",
              "          NAME_FAMILY_STATUS NAME_HOUSING_TYPE  DAYS_BIRTH  DAYS_EMPLOYED  \\\n",
              "0             Civil marriage  Rented apartment      -12005          -4542   \n",
              "1             Civil marriage  Rented apartment      -12005          -4542   \n",
              "2             Civil marriage  Rented apartment      -12005          -4542   \n",
              "3             Civil marriage  Rented apartment      -12005          -4542   \n",
              "4             Civil marriage  Rented apartment      -12005          -4542   \n",
              "...                      ...               ...         ...            ...   \n",
              "777710  Single / not married  Rented apartment       -9188          -1193   \n",
              "777711  Single / not married  Rented apartment       -9188          -1193   \n",
              "777712  Single / not married  Rented apartment       -9188          -1193   \n",
              "777713  Single / not married  Rented apartment       -9188          -1193   \n",
              "777714  Single / not married  Rented apartment       -9188          -1193   \n",
              "\n",
              "        FLAG_MOBIL  FLAG_WORK_PHONE  FLAG_PHONE  FLAG_EMAIL  CNT_FAM_MEMBERS  \\\n",
              "0                1                1           0           0              2.0   \n",
              "1                1                1           0           0              2.0   \n",
              "2                1                1           0           0              2.0   \n",
              "3                1                1           0           0              2.0   \n",
              "4                1                1           0           0              2.0   \n",
              "...            ...              ...         ...         ...              ...   \n",
              "777710           1                0           0           0              1.0   \n",
              "777711           1                0           0           0              1.0   \n",
              "777712           1                0           0           0              1.0   \n",
              "777713           1                0           0           0              1.0   \n",
              "777714           1                0           0           0              1.0   \n",
              "\n",
              "        MONTHS_BALANCE STATUS  \n",
              "0                    0      C  \n",
              "1                   -1      C  \n",
              "2                   -2      C  \n",
              "3                   -3      C  \n",
              "4                   -4      C  \n",
              "...                ...    ...  \n",
              "777710              -9      0  \n",
              "777711             -10      2  \n",
              "777712             -11      1  \n",
              "777713             -12      0  \n",
              "777714             -13      0  \n",
              "\n",
              "[777374 rows x 19 columns]"
            ]
          },
          "metadata": {
            "tags": []
          },
          "execution_count": 26
        }
      ]
    },
    {
      "cell_type": "code",
      "metadata": {
        "colab": {
          "base_uri": "https://localhost:8080/",
          "height": 717
        },
        "id": "9osbLVRnIja1",
        "outputId": "a1352434-d0f4-4012-8800-80990be8dc63"
      },
      "source": [
        "#choose one row to check the duplicate\n",
        "df_record[df_record['ID'] ==  5150337]"
      ],
      "execution_count": null,
      "outputs": [
        {
          "output_type": "execute_result",
          "data": {
            "text/html": [
              "<div>\n",
              "<style scoped>\n",
              "    .dataframe tbody tr th:only-of-type {\n",
              "        vertical-align: middle;\n",
              "    }\n",
              "\n",
              "    .dataframe tbody tr th {\n",
              "        vertical-align: top;\n",
              "    }\n",
              "\n",
              "    .dataframe thead th {\n",
              "        text-align: right;\n",
              "    }\n",
              "</style>\n",
              "<table border=\"1\" class=\"dataframe\">\n",
              "  <thead>\n",
              "    <tr style=\"text-align: right;\">\n",
              "      <th></th>\n",
              "      <th>ID</th>\n",
              "      <th>CODE_GENDER</th>\n",
              "      <th>FLAG_OWN_CAR</th>\n",
              "      <th>FLAG_OWN_REALTY</th>\n",
              "      <th>CNT_CHILDREN</th>\n",
              "      <th>AMT_INCOME_TOTAL</th>\n",
              "      <th>NAME_INCOME_TYPE</th>\n",
              "      <th>NAME_EDUCATION_TYPE</th>\n",
              "      <th>NAME_FAMILY_STATUS</th>\n",
              "      <th>NAME_HOUSING_TYPE</th>\n",
              "      <th>DAYS_BIRTH</th>\n",
              "      <th>DAYS_EMPLOYED</th>\n",
              "      <th>FLAG_MOBIL</th>\n",
              "      <th>FLAG_WORK_PHONE</th>\n",
              "      <th>FLAG_PHONE</th>\n",
              "      <th>FLAG_EMAIL</th>\n",
              "      <th>CNT_FAM_MEMBERS</th>\n",
              "      <th>MONTHS_BALANCE</th>\n",
              "      <th>STATUS</th>\n",
              "    </tr>\n",
              "  </thead>\n",
              "  <tbody>\n",
              "    <tr>\n",
              "      <th>777701</th>\n",
              "      <td>5150337</td>\n",
              "      <td>M</td>\n",
              "      <td>N</td>\n",
              "      <td>Y</td>\n",
              "      <td>0</td>\n",
              "      <td>112500.0</td>\n",
              "      <td>Working</td>\n",
              "      <td>Secondary / secondary special</td>\n",
              "      <td>Single / not married</td>\n",
              "      <td>Rented apartment</td>\n",
              "      <td>-9188</td>\n",
              "      <td>-1193</td>\n",
              "      <td>1</td>\n",
              "      <td>0</td>\n",
              "      <td>0</td>\n",
              "      <td>0</td>\n",
              "      <td>1.0</td>\n",
              "      <td>0</td>\n",
              "      <td>0</td>\n",
              "    </tr>\n",
              "    <tr>\n",
              "      <th>777702</th>\n",
              "      <td>5150337</td>\n",
              "      <td>M</td>\n",
              "      <td>N</td>\n",
              "      <td>Y</td>\n",
              "      <td>0</td>\n",
              "      <td>112500.0</td>\n",
              "      <td>Working</td>\n",
              "      <td>Secondary / secondary special</td>\n",
              "      <td>Single / not married</td>\n",
              "      <td>Rented apartment</td>\n",
              "      <td>-9188</td>\n",
              "      <td>-1193</td>\n",
              "      <td>1</td>\n",
              "      <td>0</td>\n",
              "      <td>0</td>\n",
              "      <td>0</td>\n",
              "      <td>1.0</td>\n",
              "      <td>-1</td>\n",
              "      <td>0</td>\n",
              "    </tr>\n",
              "    <tr>\n",
              "      <th>777703</th>\n",
              "      <td>5150337</td>\n",
              "      <td>M</td>\n",
              "      <td>N</td>\n",
              "      <td>Y</td>\n",
              "      <td>0</td>\n",
              "      <td>112500.0</td>\n",
              "      <td>Working</td>\n",
              "      <td>Secondary / secondary special</td>\n",
              "      <td>Single / not married</td>\n",
              "      <td>Rented apartment</td>\n",
              "      <td>-9188</td>\n",
              "      <td>-1193</td>\n",
              "      <td>1</td>\n",
              "      <td>0</td>\n",
              "      <td>0</td>\n",
              "      <td>0</td>\n",
              "      <td>1.0</td>\n",
              "      <td>-2</td>\n",
              "      <td>0</td>\n",
              "    </tr>\n",
              "    <tr>\n",
              "      <th>777704</th>\n",
              "      <td>5150337</td>\n",
              "      <td>M</td>\n",
              "      <td>N</td>\n",
              "      <td>Y</td>\n",
              "      <td>0</td>\n",
              "      <td>112500.0</td>\n",
              "      <td>Working</td>\n",
              "      <td>Secondary / secondary special</td>\n",
              "      <td>Single / not married</td>\n",
              "      <td>Rented apartment</td>\n",
              "      <td>-9188</td>\n",
              "      <td>-1193</td>\n",
              "      <td>1</td>\n",
              "      <td>0</td>\n",
              "      <td>0</td>\n",
              "      <td>0</td>\n",
              "      <td>1.0</td>\n",
              "      <td>-3</td>\n",
              "      <td>0</td>\n",
              "    </tr>\n",
              "    <tr>\n",
              "      <th>777705</th>\n",
              "      <td>5150337</td>\n",
              "      <td>M</td>\n",
              "      <td>N</td>\n",
              "      <td>Y</td>\n",
              "      <td>0</td>\n",
              "      <td>112500.0</td>\n",
              "      <td>Working</td>\n",
              "      <td>Secondary / secondary special</td>\n",
              "      <td>Single / not married</td>\n",
              "      <td>Rented apartment</td>\n",
              "      <td>-9188</td>\n",
              "      <td>-1193</td>\n",
              "      <td>1</td>\n",
              "      <td>0</td>\n",
              "      <td>0</td>\n",
              "      <td>0</td>\n",
              "      <td>1.0</td>\n",
              "      <td>-4</td>\n",
              "      <td>0</td>\n",
              "    </tr>\n",
              "    <tr>\n",
              "      <th>777706</th>\n",
              "      <td>5150337</td>\n",
              "      <td>M</td>\n",
              "      <td>N</td>\n",
              "      <td>Y</td>\n",
              "      <td>0</td>\n",
              "      <td>112500.0</td>\n",
              "      <td>Working</td>\n",
              "      <td>Secondary / secondary special</td>\n",
              "      <td>Single / not married</td>\n",
              "      <td>Rented apartment</td>\n",
              "      <td>-9188</td>\n",
              "      <td>-1193</td>\n",
              "      <td>1</td>\n",
              "      <td>0</td>\n",
              "      <td>0</td>\n",
              "      <td>0</td>\n",
              "      <td>1.0</td>\n",
              "      <td>-5</td>\n",
              "      <td>0</td>\n",
              "    </tr>\n",
              "    <tr>\n",
              "      <th>777707</th>\n",
              "      <td>5150337</td>\n",
              "      <td>M</td>\n",
              "      <td>N</td>\n",
              "      <td>Y</td>\n",
              "      <td>0</td>\n",
              "      <td>112500.0</td>\n",
              "      <td>Working</td>\n",
              "      <td>Secondary / secondary special</td>\n",
              "      <td>Single / not married</td>\n",
              "      <td>Rented apartment</td>\n",
              "      <td>-9188</td>\n",
              "      <td>-1193</td>\n",
              "      <td>1</td>\n",
              "      <td>0</td>\n",
              "      <td>0</td>\n",
              "      <td>0</td>\n",
              "      <td>1.0</td>\n",
              "      <td>-6</td>\n",
              "      <td>0</td>\n",
              "    </tr>\n",
              "    <tr>\n",
              "      <th>777708</th>\n",
              "      <td>5150337</td>\n",
              "      <td>M</td>\n",
              "      <td>N</td>\n",
              "      <td>Y</td>\n",
              "      <td>0</td>\n",
              "      <td>112500.0</td>\n",
              "      <td>Working</td>\n",
              "      <td>Secondary / secondary special</td>\n",
              "      <td>Single / not married</td>\n",
              "      <td>Rented apartment</td>\n",
              "      <td>-9188</td>\n",
              "      <td>-1193</td>\n",
              "      <td>1</td>\n",
              "      <td>0</td>\n",
              "      <td>0</td>\n",
              "      <td>0</td>\n",
              "      <td>1.0</td>\n",
              "      <td>-7</td>\n",
              "      <td>0</td>\n",
              "    </tr>\n",
              "    <tr>\n",
              "      <th>777709</th>\n",
              "      <td>5150337</td>\n",
              "      <td>M</td>\n",
              "      <td>N</td>\n",
              "      <td>Y</td>\n",
              "      <td>0</td>\n",
              "      <td>112500.0</td>\n",
              "      <td>Working</td>\n",
              "      <td>Secondary / secondary special</td>\n",
              "      <td>Single / not married</td>\n",
              "      <td>Rented apartment</td>\n",
              "      <td>-9188</td>\n",
              "      <td>-1193</td>\n",
              "      <td>1</td>\n",
              "      <td>0</td>\n",
              "      <td>0</td>\n",
              "      <td>0</td>\n",
              "      <td>1.0</td>\n",
              "      <td>-8</td>\n",
              "      <td>0</td>\n",
              "    </tr>\n",
              "    <tr>\n",
              "      <th>777710</th>\n",
              "      <td>5150337</td>\n",
              "      <td>M</td>\n",
              "      <td>N</td>\n",
              "      <td>Y</td>\n",
              "      <td>0</td>\n",
              "      <td>112500.0</td>\n",
              "      <td>Working</td>\n",
              "      <td>Secondary / secondary special</td>\n",
              "      <td>Single / not married</td>\n",
              "      <td>Rented apartment</td>\n",
              "      <td>-9188</td>\n",
              "      <td>-1193</td>\n",
              "      <td>1</td>\n",
              "      <td>0</td>\n",
              "      <td>0</td>\n",
              "      <td>0</td>\n",
              "      <td>1.0</td>\n",
              "      <td>-9</td>\n",
              "      <td>0</td>\n",
              "    </tr>\n",
              "    <tr>\n",
              "      <th>777711</th>\n",
              "      <td>5150337</td>\n",
              "      <td>M</td>\n",
              "      <td>N</td>\n",
              "      <td>Y</td>\n",
              "      <td>0</td>\n",
              "      <td>112500.0</td>\n",
              "      <td>Working</td>\n",
              "      <td>Secondary / secondary special</td>\n",
              "      <td>Single / not married</td>\n",
              "      <td>Rented apartment</td>\n",
              "      <td>-9188</td>\n",
              "      <td>-1193</td>\n",
              "      <td>1</td>\n",
              "      <td>0</td>\n",
              "      <td>0</td>\n",
              "      <td>0</td>\n",
              "      <td>1.0</td>\n",
              "      <td>-10</td>\n",
              "      <td>2</td>\n",
              "    </tr>\n",
              "    <tr>\n",
              "      <th>777712</th>\n",
              "      <td>5150337</td>\n",
              "      <td>M</td>\n",
              "      <td>N</td>\n",
              "      <td>Y</td>\n",
              "      <td>0</td>\n",
              "      <td>112500.0</td>\n",
              "      <td>Working</td>\n",
              "      <td>Secondary / secondary special</td>\n",
              "      <td>Single / not married</td>\n",
              "      <td>Rented apartment</td>\n",
              "      <td>-9188</td>\n",
              "      <td>-1193</td>\n",
              "      <td>1</td>\n",
              "      <td>0</td>\n",
              "      <td>0</td>\n",
              "      <td>0</td>\n",
              "      <td>1.0</td>\n",
              "      <td>-11</td>\n",
              "      <td>1</td>\n",
              "    </tr>\n",
              "    <tr>\n",
              "      <th>777713</th>\n",
              "      <td>5150337</td>\n",
              "      <td>M</td>\n",
              "      <td>N</td>\n",
              "      <td>Y</td>\n",
              "      <td>0</td>\n",
              "      <td>112500.0</td>\n",
              "      <td>Working</td>\n",
              "      <td>Secondary / secondary special</td>\n",
              "      <td>Single / not married</td>\n",
              "      <td>Rented apartment</td>\n",
              "      <td>-9188</td>\n",
              "      <td>-1193</td>\n",
              "      <td>1</td>\n",
              "      <td>0</td>\n",
              "      <td>0</td>\n",
              "      <td>0</td>\n",
              "      <td>1.0</td>\n",
              "      <td>-12</td>\n",
              "      <td>0</td>\n",
              "    </tr>\n",
              "    <tr>\n",
              "      <th>777714</th>\n",
              "      <td>5150337</td>\n",
              "      <td>M</td>\n",
              "      <td>N</td>\n",
              "      <td>Y</td>\n",
              "      <td>0</td>\n",
              "      <td>112500.0</td>\n",
              "      <td>Working</td>\n",
              "      <td>Secondary / secondary special</td>\n",
              "      <td>Single / not married</td>\n",
              "      <td>Rented apartment</td>\n",
              "      <td>-9188</td>\n",
              "      <td>-1193</td>\n",
              "      <td>1</td>\n",
              "      <td>0</td>\n",
              "      <td>0</td>\n",
              "      <td>0</td>\n",
              "      <td>1.0</td>\n",
              "      <td>-13</td>\n",
              "      <td>0</td>\n",
              "    </tr>\n",
              "  </tbody>\n",
              "</table>\n",
              "</div>"
            ],
            "text/plain": [
              "             ID CODE_GENDER FLAG_OWN_CAR FLAG_OWN_REALTY  CNT_CHILDREN  \\\n",
              "777701  5150337           M            N               Y             0   \n",
              "777702  5150337           M            N               Y             0   \n",
              "777703  5150337           M            N               Y             0   \n",
              "777704  5150337           M            N               Y             0   \n",
              "777705  5150337           M            N               Y             0   \n",
              "777706  5150337           M            N               Y             0   \n",
              "777707  5150337           M            N               Y             0   \n",
              "777708  5150337           M            N               Y             0   \n",
              "777709  5150337           M            N               Y             0   \n",
              "777710  5150337           M            N               Y             0   \n",
              "777711  5150337           M            N               Y             0   \n",
              "777712  5150337           M            N               Y             0   \n",
              "777713  5150337           M            N               Y             0   \n",
              "777714  5150337           M            N               Y             0   \n",
              "\n",
              "        AMT_INCOME_TOTAL NAME_INCOME_TYPE            NAME_EDUCATION_TYPE  \\\n",
              "777701          112500.0          Working  Secondary / secondary special   \n",
              "777702          112500.0          Working  Secondary / secondary special   \n",
              "777703          112500.0          Working  Secondary / secondary special   \n",
              "777704          112500.0          Working  Secondary / secondary special   \n",
              "777705          112500.0          Working  Secondary / secondary special   \n",
              "777706          112500.0          Working  Secondary / secondary special   \n",
              "777707          112500.0          Working  Secondary / secondary special   \n",
              "777708          112500.0          Working  Secondary / secondary special   \n",
              "777709          112500.0          Working  Secondary / secondary special   \n",
              "777710          112500.0          Working  Secondary / secondary special   \n",
              "777711          112500.0          Working  Secondary / secondary special   \n",
              "777712          112500.0          Working  Secondary / secondary special   \n",
              "777713          112500.0          Working  Secondary / secondary special   \n",
              "777714          112500.0          Working  Secondary / secondary special   \n",
              "\n",
              "          NAME_FAMILY_STATUS NAME_HOUSING_TYPE  DAYS_BIRTH  DAYS_EMPLOYED  \\\n",
              "777701  Single / not married  Rented apartment       -9188          -1193   \n",
              "777702  Single / not married  Rented apartment       -9188          -1193   \n",
              "777703  Single / not married  Rented apartment       -9188          -1193   \n",
              "777704  Single / not married  Rented apartment       -9188          -1193   \n",
              "777705  Single / not married  Rented apartment       -9188          -1193   \n",
              "777706  Single / not married  Rented apartment       -9188          -1193   \n",
              "777707  Single / not married  Rented apartment       -9188          -1193   \n",
              "777708  Single / not married  Rented apartment       -9188          -1193   \n",
              "777709  Single / not married  Rented apartment       -9188          -1193   \n",
              "777710  Single / not married  Rented apartment       -9188          -1193   \n",
              "777711  Single / not married  Rented apartment       -9188          -1193   \n",
              "777712  Single / not married  Rented apartment       -9188          -1193   \n",
              "777713  Single / not married  Rented apartment       -9188          -1193   \n",
              "777714  Single / not married  Rented apartment       -9188          -1193   \n",
              "\n",
              "        FLAG_MOBIL  FLAG_WORK_PHONE  FLAG_PHONE  FLAG_EMAIL  CNT_FAM_MEMBERS  \\\n",
              "777701           1                0           0           0              1.0   \n",
              "777702           1                0           0           0              1.0   \n",
              "777703           1                0           0           0              1.0   \n",
              "777704           1                0           0           0              1.0   \n",
              "777705           1                0           0           0              1.0   \n",
              "777706           1                0           0           0              1.0   \n",
              "777707           1                0           0           0              1.0   \n",
              "777708           1                0           0           0              1.0   \n",
              "777709           1                0           0           0              1.0   \n",
              "777710           1                0           0           0              1.0   \n",
              "777711           1                0           0           0              1.0   \n",
              "777712           1                0           0           0              1.0   \n",
              "777713           1                0           0           0              1.0   \n",
              "777714           1                0           0           0              1.0   \n",
              "\n",
              "        MONTHS_BALANCE STATUS  \n",
              "777701               0      0  \n",
              "777702              -1      0  \n",
              "777703              -2      0  \n",
              "777704              -3      0  \n",
              "777705              -4      0  \n",
              "777706              -5      0  \n",
              "777707              -6      0  \n",
              "777708              -7      0  \n",
              "777709              -8      0  \n",
              "777710              -9      0  \n",
              "777711             -10      2  \n",
              "777712             -11      1  \n",
              "777713             -12      0  \n",
              "777714             -13      0  "
            ]
          },
          "metadata": {
            "tags": []
          },
          "execution_count": 27
        }
      ]
    },
    {
      "cell_type": "markdown",
      "metadata": {
        "id": "m9orbAMKQkRX"
      },
      "source": [
        "Interesting , just for candidate 5150337, he/she has quite different result along with duplicates. We need to alter the history record for each applicant to only one record since all attributes for each applicant are the same besides the 'MONTHS_BALANCE'."
      ]
    },
    {
      "cell_type": "markdown",
      "metadata": {
        "id": "vgFm4DIKxmth"
      },
      "source": [
        "Based on the Data attribution, 'MONTHS_BALANCE' means each month record. In order to determine wheather an applicant is a qulifier or defalter, we use only the most recently record of the status infomation for each applicant."
      ]
    },
    {
      "cell_type": "code",
      "metadata": {
        "colab": {
          "base_uri": "https://localhost:8080/",
          "height": 383
        },
        "id": "_GPRayBfkSVB",
        "outputId": "42a44e99-9953-49c9-a902-92bc1b0be780"
      },
      "source": [
        "# encode the qualifier\n",
        "df_record['STATUS'][df_record[\"STATUS\"] == 'C'] = -1\n",
        "df_record['STATUS'][df_record[\"STATUS\"] == 'X'] = -1\n",
        "df_record.head()"
      ],
      "execution_count": null,
      "outputs": [
        {
          "output_type": "stream",
          "text": [
            "<ipython-input-28-0f28d574e699>:2: SettingWithCopyWarning: \n",
            "A value is trying to be set on a copy of a slice from a DataFrame\n",
            "\n",
            "See the caveats in the documentation: https://pandas.pydata.org/pandas-docs/stable/user_guide/indexing.html#returning-a-view-versus-a-copy\n",
            "  df_record['STATUS'][df_record[\"STATUS\"] == 'C'] = -1\n",
            "<ipython-input-28-0f28d574e699>:3: SettingWithCopyWarning: \n",
            "A value is trying to be set on a copy of a slice from a DataFrame\n",
            "\n",
            "See the caveats in the documentation: https://pandas.pydata.org/pandas-docs/stable/user_guide/indexing.html#returning-a-view-versus-a-copy\n",
            "  df_record['STATUS'][df_record[\"STATUS\"] == 'X'] = -1\n"
          ],
          "name": "stderr"
        },
        {
          "output_type": "execute_result",
          "data": {
            "text/html": [
              "<div>\n",
              "<style scoped>\n",
              "    .dataframe tbody tr th:only-of-type {\n",
              "        vertical-align: middle;\n",
              "    }\n",
              "\n",
              "    .dataframe tbody tr th {\n",
              "        vertical-align: top;\n",
              "    }\n",
              "\n",
              "    .dataframe thead th {\n",
              "        text-align: right;\n",
              "    }\n",
              "</style>\n",
              "<table border=\"1\" class=\"dataframe\">\n",
              "  <thead>\n",
              "    <tr style=\"text-align: right;\">\n",
              "      <th></th>\n",
              "      <th>ID</th>\n",
              "      <th>CODE_GENDER</th>\n",
              "      <th>FLAG_OWN_CAR</th>\n",
              "      <th>FLAG_OWN_REALTY</th>\n",
              "      <th>CNT_CHILDREN</th>\n",
              "      <th>AMT_INCOME_TOTAL</th>\n",
              "      <th>NAME_INCOME_TYPE</th>\n",
              "      <th>NAME_EDUCATION_TYPE</th>\n",
              "      <th>NAME_FAMILY_STATUS</th>\n",
              "      <th>NAME_HOUSING_TYPE</th>\n",
              "      <th>DAYS_BIRTH</th>\n",
              "      <th>DAYS_EMPLOYED</th>\n",
              "      <th>FLAG_MOBIL</th>\n",
              "      <th>FLAG_WORK_PHONE</th>\n",
              "      <th>FLAG_PHONE</th>\n",
              "      <th>FLAG_EMAIL</th>\n",
              "      <th>CNT_FAM_MEMBERS</th>\n",
              "      <th>MONTHS_BALANCE</th>\n",
              "      <th>STATUS</th>\n",
              "    </tr>\n",
              "  </thead>\n",
              "  <tbody>\n",
              "    <tr>\n",
              "      <th>0</th>\n",
              "      <td>5008804</td>\n",
              "      <td>M</td>\n",
              "      <td>Y</td>\n",
              "      <td>Y</td>\n",
              "      <td>0</td>\n",
              "      <td>427500.0</td>\n",
              "      <td>Working</td>\n",
              "      <td>Higher education</td>\n",
              "      <td>Civil marriage</td>\n",
              "      <td>Rented apartment</td>\n",
              "      <td>-12005</td>\n",
              "      <td>-4542</td>\n",
              "      <td>1</td>\n",
              "      <td>1</td>\n",
              "      <td>0</td>\n",
              "      <td>0</td>\n",
              "      <td>2.0</td>\n",
              "      <td>0</td>\n",
              "      <td>-1</td>\n",
              "    </tr>\n",
              "    <tr>\n",
              "      <th>1</th>\n",
              "      <td>5008804</td>\n",
              "      <td>M</td>\n",
              "      <td>Y</td>\n",
              "      <td>Y</td>\n",
              "      <td>0</td>\n",
              "      <td>427500.0</td>\n",
              "      <td>Working</td>\n",
              "      <td>Higher education</td>\n",
              "      <td>Civil marriage</td>\n",
              "      <td>Rented apartment</td>\n",
              "      <td>-12005</td>\n",
              "      <td>-4542</td>\n",
              "      <td>1</td>\n",
              "      <td>1</td>\n",
              "      <td>0</td>\n",
              "      <td>0</td>\n",
              "      <td>2.0</td>\n",
              "      <td>-1</td>\n",
              "      <td>-1</td>\n",
              "    </tr>\n",
              "    <tr>\n",
              "      <th>2</th>\n",
              "      <td>5008804</td>\n",
              "      <td>M</td>\n",
              "      <td>Y</td>\n",
              "      <td>Y</td>\n",
              "      <td>0</td>\n",
              "      <td>427500.0</td>\n",
              "      <td>Working</td>\n",
              "      <td>Higher education</td>\n",
              "      <td>Civil marriage</td>\n",
              "      <td>Rented apartment</td>\n",
              "      <td>-12005</td>\n",
              "      <td>-4542</td>\n",
              "      <td>1</td>\n",
              "      <td>1</td>\n",
              "      <td>0</td>\n",
              "      <td>0</td>\n",
              "      <td>2.0</td>\n",
              "      <td>-2</td>\n",
              "      <td>-1</td>\n",
              "    </tr>\n",
              "    <tr>\n",
              "      <th>3</th>\n",
              "      <td>5008804</td>\n",
              "      <td>M</td>\n",
              "      <td>Y</td>\n",
              "      <td>Y</td>\n",
              "      <td>0</td>\n",
              "      <td>427500.0</td>\n",
              "      <td>Working</td>\n",
              "      <td>Higher education</td>\n",
              "      <td>Civil marriage</td>\n",
              "      <td>Rented apartment</td>\n",
              "      <td>-12005</td>\n",
              "      <td>-4542</td>\n",
              "      <td>1</td>\n",
              "      <td>1</td>\n",
              "      <td>0</td>\n",
              "      <td>0</td>\n",
              "      <td>2.0</td>\n",
              "      <td>-3</td>\n",
              "      <td>-1</td>\n",
              "    </tr>\n",
              "    <tr>\n",
              "      <th>4</th>\n",
              "      <td>5008804</td>\n",
              "      <td>M</td>\n",
              "      <td>Y</td>\n",
              "      <td>Y</td>\n",
              "      <td>0</td>\n",
              "      <td>427500.0</td>\n",
              "      <td>Working</td>\n",
              "      <td>Higher education</td>\n",
              "      <td>Civil marriage</td>\n",
              "      <td>Rented apartment</td>\n",
              "      <td>-12005</td>\n",
              "      <td>-4542</td>\n",
              "      <td>1</td>\n",
              "      <td>1</td>\n",
              "      <td>0</td>\n",
              "      <td>0</td>\n",
              "      <td>2.0</td>\n",
              "      <td>-4</td>\n",
              "      <td>-1</td>\n",
              "    </tr>\n",
              "  </tbody>\n",
              "</table>\n",
              "</div>"
            ],
            "text/plain": [
              "        ID CODE_GENDER FLAG_OWN_CAR FLAG_OWN_REALTY  CNT_CHILDREN  \\\n",
              "0  5008804           M            Y               Y             0   \n",
              "1  5008804           M            Y               Y             0   \n",
              "2  5008804           M            Y               Y             0   \n",
              "3  5008804           M            Y               Y             0   \n",
              "4  5008804           M            Y               Y             0   \n",
              "\n",
              "   AMT_INCOME_TOTAL NAME_INCOME_TYPE NAME_EDUCATION_TYPE NAME_FAMILY_STATUS  \\\n",
              "0          427500.0          Working    Higher education     Civil marriage   \n",
              "1          427500.0          Working    Higher education     Civil marriage   \n",
              "2          427500.0          Working    Higher education     Civil marriage   \n",
              "3          427500.0          Working    Higher education     Civil marriage   \n",
              "4          427500.0          Working    Higher education     Civil marriage   \n",
              "\n",
              "  NAME_HOUSING_TYPE  DAYS_BIRTH  DAYS_EMPLOYED  FLAG_MOBIL  FLAG_WORK_PHONE  \\\n",
              "0  Rented apartment      -12005          -4542           1                1   \n",
              "1  Rented apartment      -12005          -4542           1                1   \n",
              "2  Rented apartment      -12005          -4542           1                1   \n",
              "3  Rented apartment      -12005          -4542           1                1   \n",
              "4  Rented apartment      -12005          -4542           1                1   \n",
              "\n",
              "   FLAG_PHONE  FLAG_EMAIL  CNT_FAM_MEMBERS  MONTHS_BALANCE STATUS  \n",
              "0           0           0              2.0               0     -1  \n",
              "1           0           0              2.0              -1     -1  \n",
              "2           0           0              2.0              -2     -1  \n",
              "3           0           0              2.0              -3     -1  \n",
              "4           0           0              2.0              -4     -1  "
            ]
          },
          "metadata": {
            "tags": []
          },
          "execution_count": 28
        }
      ]
    },
    {
      "cell_type": "code",
      "metadata": {
        "id": "R8Sa7MYQowA_"
      },
      "source": [
        "df_record['STATUS'] = df_record.STATUS.astype('int32')"
      ],
      "execution_count": null,
      "outputs": []
    },
    {
      "cell_type": "markdown",
      "metadata": {
        "id": "WrZx7qxJhg77"
      },
      "source": [
        "We can tell dupliates with same ID has same value on other column, now we are safe to drop duplicates."
      ]
    },
    {
      "cell_type": "code",
      "metadata": {
        "colab": {
          "base_uri": "https://localhost:8080/",
          "height": 266
        },
        "id": "nP1HnN8FkwS2",
        "outputId": "b8222a7a-674a-4693-e765-d06b2e49a08e"
      },
      "source": [
        "# select the first row sort by STATUS\n",
        "df_record.sort_values(by = 'STATUS',ascending = False,inplace = True)# \n",
        "df_record.drop_duplicates(subset = ['ID'],inplace = True)\n",
        "\n",
        "df_record.sort_values(\"ID\", inplace = True)\n",
        "df_record.index = pd.RangeIndex(len(df_record.index))\n",
        "df_record.head(5)"
      ],
      "execution_count": null,
      "outputs": [
        {
          "output_type": "execute_result",
          "data": {
            "text/html": [
              "<div>\n",
              "<style scoped>\n",
              "    .dataframe tbody tr th:only-of-type {\n",
              "        vertical-align: middle;\n",
              "    }\n",
              "\n",
              "    .dataframe tbody tr th {\n",
              "        vertical-align: top;\n",
              "    }\n",
              "\n",
              "    .dataframe thead th {\n",
              "        text-align: right;\n",
              "    }\n",
              "</style>\n",
              "<table border=\"1\" class=\"dataframe\">\n",
              "  <thead>\n",
              "    <tr style=\"text-align: right;\">\n",
              "      <th></th>\n",
              "      <th>ID</th>\n",
              "      <th>CODE_GENDER</th>\n",
              "      <th>FLAG_OWN_CAR</th>\n",
              "      <th>FLAG_OWN_REALTY</th>\n",
              "      <th>CNT_CHILDREN</th>\n",
              "      <th>AMT_INCOME_TOTAL</th>\n",
              "      <th>NAME_INCOME_TYPE</th>\n",
              "      <th>NAME_EDUCATION_TYPE</th>\n",
              "      <th>NAME_FAMILY_STATUS</th>\n",
              "      <th>NAME_HOUSING_TYPE</th>\n",
              "      <th>DAYS_BIRTH</th>\n",
              "      <th>DAYS_EMPLOYED</th>\n",
              "      <th>FLAG_MOBIL</th>\n",
              "      <th>FLAG_WORK_PHONE</th>\n",
              "      <th>FLAG_PHONE</th>\n",
              "      <th>FLAG_EMAIL</th>\n",
              "      <th>CNT_FAM_MEMBERS</th>\n",
              "      <th>MONTHS_BALANCE</th>\n",
              "      <th>STATUS</th>\n",
              "    </tr>\n",
              "  </thead>\n",
              "  <tbody>\n",
              "    <tr>\n",
              "      <th>0</th>\n",
              "      <td>5008804</td>\n",
              "      <td>M</td>\n",
              "      <td>Y</td>\n",
              "      <td>Y</td>\n",
              "      <td>0</td>\n",
              "      <td>427500.0</td>\n",
              "      <td>Working</td>\n",
              "      <td>Higher education</td>\n",
              "      <td>Civil marriage</td>\n",
              "      <td>Rented apartment</td>\n",
              "      <td>-12005</td>\n",
              "      <td>-4542</td>\n",
              "      <td>1</td>\n",
              "      <td>1</td>\n",
              "      <td>0</td>\n",
              "      <td>0</td>\n",
              "      <td>2.0</td>\n",
              "      <td>-13</td>\n",
              "      <td>1</td>\n",
              "    </tr>\n",
              "    <tr>\n",
              "      <th>1</th>\n",
              "      <td>5008805</td>\n",
              "      <td>M</td>\n",
              "      <td>Y</td>\n",
              "      <td>Y</td>\n",
              "      <td>0</td>\n",
              "      <td>427500.0</td>\n",
              "      <td>Working</td>\n",
              "      <td>Higher education</td>\n",
              "      <td>Civil marriage</td>\n",
              "      <td>Rented apartment</td>\n",
              "      <td>-12005</td>\n",
              "      <td>-4542</td>\n",
              "      <td>1</td>\n",
              "      <td>1</td>\n",
              "      <td>0</td>\n",
              "      <td>0</td>\n",
              "      <td>2.0</td>\n",
              "      <td>-12</td>\n",
              "      <td>1</td>\n",
              "    </tr>\n",
              "    <tr>\n",
              "      <th>2</th>\n",
              "      <td>5008806</td>\n",
              "      <td>M</td>\n",
              "      <td>Y</td>\n",
              "      <td>Y</td>\n",
              "      <td>0</td>\n",
              "      <td>112500.0</td>\n",
              "      <td>Working</td>\n",
              "      <td>Secondary / secondary special</td>\n",
              "      <td>Married</td>\n",
              "      <td>House / apartment</td>\n",
              "      <td>-21474</td>\n",
              "      <td>-1134</td>\n",
              "      <td>1</td>\n",
              "      <td>0</td>\n",
              "      <td>0</td>\n",
              "      <td>0</td>\n",
              "      <td>2.0</td>\n",
              "      <td>-11</td>\n",
              "      <td>0</td>\n",
              "    </tr>\n",
              "    <tr>\n",
              "      <th>3</th>\n",
              "      <td>5008808</td>\n",
              "      <td>F</td>\n",
              "      <td>N</td>\n",
              "      <td>Y</td>\n",
              "      <td>0</td>\n",
              "      <td>270000.0</td>\n",
              "      <td>Commercial associate</td>\n",
              "      <td>Secondary / secondary special</td>\n",
              "      <td>Single / not married</td>\n",
              "      <td>House / apartment</td>\n",
              "      <td>-19110</td>\n",
              "      <td>-3051</td>\n",
              "      <td>1</td>\n",
              "      <td>0</td>\n",
              "      <td>1</td>\n",
              "      <td>1</td>\n",
              "      <td>1.0</td>\n",
              "      <td>-2</td>\n",
              "      <td>0</td>\n",
              "    </tr>\n",
              "    <tr>\n",
              "      <th>4</th>\n",
              "      <td>5008809</td>\n",
              "      <td>F</td>\n",
              "      <td>N</td>\n",
              "      <td>Y</td>\n",
              "      <td>0</td>\n",
              "      <td>270000.0</td>\n",
              "      <td>Commercial associate</td>\n",
              "      <td>Secondary / secondary special</td>\n",
              "      <td>Single / not married</td>\n",
              "      <td>House / apartment</td>\n",
              "      <td>-19110</td>\n",
              "      <td>-3051</td>\n",
              "      <td>1</td>\n",
              "      <td>0</td>\n",
              "      <td>1</td>\n",
              "      <td>1</td>\n",
              "      <td>1.0</td>\n",
              "      <td>-24</td>\n",
              "      <td>-1</td>\n",
              "    </tr>\n",
              "  </tbody>\n",
              "</table>\n",
              "</div>"
            ],
            "text/plain": [
              "        ID CODE_GENDER FLAG_OWN_CAR FLAG_OWN_REALTY  CNT_CHILDREN  \\\n",
              "0  5008804           M            Y               Y             0   \n",
              "1  5008805           M            Y               Y             0   \n",
              "2  5008806           M            Y               Y             0   \n",
              "3  5008808           F            N               Y             0   \n",
              "4  5008809           F            N               Y             0   \n",
              "\n",
              "   AMT_INCOME_TOTAL      NAME_INCOME_TYPE            NAME_EDUCATION_TYPE  \\\n",
              "0          427500.0               Working               Higher education   \n",
              "1          427500.0               Working               Higher education   \n",
              "2          112500.0               Working  Secondary / secondary special   \n",
              "3          270000.0  Commercial associate  Secondary / secondary special   \n",
              "4          270000.0  Commercial associate  Secondary / secondary special   \n",
              "\n",
              "     NAME_FAMILY_STATUS  NAME_HOUSING_TYPE  DAYS_BIRTH  DAYS_EMPLOYED  \\\n",
              "0        Civil marriage   Rented apartment      -12005          -4542   \n",
              "1        Civil marriage   Rented apartment      -12005          -4542   \n",
              "2               Married  House / apartment      -21474          -1134   \n",
              "3  Single / not married  House / apartment      -19110          -3051   \n",
              "4  Single / not married  House / apartment      -19110          -3051   \n",
              "\n",
              "   FLAG_MOBIL  FLAG_WORK_PHONE  FLAG_PHONE  FLAG_EMAIL  CNT_FAM_MEMBERS  \\\n",
              "0           1                1           0           0              2.0   \n",
              "1           1                1           0           0              2.0   \n",
              "2           1                0           0           0              2.0   \n",
              "3           1                0           1           1              1.0   \n",
              "4           1                0           1           1              1.0   \n",
              "\n",
              "   MONTHS_BALANCE  STATUS  \n",
              "0             -13       1  \n",
              "1             -12       1  \n",
              "2             -11       0  \n",
              "3              -2       0  \n",
              "4             -24      -1  "
            ]
          },
          "metadata": {
            "tags": []
          },
          "execution_count": 30
        }
      ]
    },
    {
      "cell_type": "code",
      "metadata": {
        "colab": {
          "base_uri": "https://localhost:8080/"
        },
        "id": "aoqxH1xrqw7c",
        "outputId": "d5e8a5c1-904d-4ac4-d268-6bf1a22e8af1"
      },
      "source": [
        "df_record.shape"
      ],
      "execution_count": null,
      "outputs": [
        {
          "output_type": "execute_result",
          "data": {
            "text/plain": [
              "(36457, 19)"
            ]
          },
          "metadata": {
            "tags": []
          },
          "execution_count": 31
        }
      ]
    },
    {
      "cell_type": "code",
      "metadata": {
        "colab": {
          "base_uri": "https://localhost:8080/"
        },
        "id": "Vf34v6Gyt0Hx",
        "outputId": "18124800-d235-4b5a-e011-6291a5c80d3b"
      },
      "source": [
        "# check the STATUS values and account after droping the duplicates\n",
        "df_record.STATUS.value_counts()"
      ],
      "execution_count": null,
      "outputs": [
        {
          "output_type": "execute_result",
          "data": {
            "text/plain": [
              " 0    27711\n",
              "-1     4455\n",
              " 1     3675\n",
              " 2      314\n",
              " 5      180\n",
              " 3       76\n",
              " 4       46\n",
              "Name: STATUS, dtype: int64"
            ]
          },
          "metadata": {
            "tags": []
          },
          "execution_count": 32
        }
      ]
    },
    {
      "cell_type": "markdown",
      "metadata": {
        "id": "i48mjcw9qqjW"
      },
      "source": [
        "We assume that STATUS is greater than 0 means that the applicant is a defaulter, where 0-2 means minor default, and the other means severe default"
      ]
    },
    {
      "cell_type": "code",
      "metadata": {
        "colab": {
          "base_uri": "https://localhost:8080/",
          "height": 266
        },
        "id": "xYH-JJWllDeZ",
        "outputId": "00c7c86b-1df5-4234-f048-b03c0fd71b83"
      },
      "source": [
        "df_record['STATUS'] = df_record.STATUS.apply(lambda x : 0 if 0<=x<=2 else( 2 if x>2 else 1))\n",
        "# drop the  column we don't need\n",
        "df_record.drop(['MONTHS_BALANCE'],axis = 1,inplace = True)\n",
        "df_record.head()"
      ],
      "execution_count": null,
      "outputs": [
        {
          "output_type": "execute_result",
          "data": {
            "text/html": [
              "<div>\n",
              "<style scoped>\n",
              "    .dataframe tbody tr th:only-of-type {\n",
              "        vertical-align: middle;\n",
              "    }\n",
              "\n",
              "    .dataframe tbody tr th {\n",
              "        vertical-align: top;\n",
              "    }\n",
              "\n",
              "    .dataframe thead th {\n",
              "        text-align: right;\n",
              "    }\n",
              "</style>\n",
              "<table border=\"1\" class=\"dataframe\">\n",
              "  <thead>\n",
              "    <tr style=\"text-align: right;\">\n",
              "      <th></th>\n",
              "      <th>ID</th>\n",
              "      <th>CODE_GENDER</th>\n",
              "      <th>FLAG_OWN_CAR</th>\n",
              "      <th>FLAG_OWN_REALTY</th>\n",
              "      <th>CNT_CHILDREN</th>\n",
              "      <th>AMT_INCOME_TOTAL</th>\n",
              "      <th>NAME_INCOME_TYPE</th>\n",
              "      <th>NAME_EDUCATION_TYPE</th>\n",
              "      <th>NAME_FAMILY_STATUS</th>\n",
              "      <th>NAME_HOUSING_TYPE</th>\n",
              "      <th>DAYS_BIRTH</th>\n",
              "      <th>DAYS_EMPLOYED</th>\n",
              "      <th>FLAG_MOBIL</th>\n",
              "      <th>FLAG_WORK_PHONE</th>\n",
              "      <th>FLAG_PHONE</th>\n",
              "      <th>FLAG_EMAIL</th>\n",
              "      <th>CNT_FAM_MEMBERS</th>\n",
              "      <th>STATUS</th>\n",
              "    </tr>\n",
              "  </thead>\n",
              "  <tbody>\n",
              "    <tr>\n",
              "      <th>0</th>\n",
              "      <td>5008804</td>\n",
              "      <td>M</td>\n",
              "      <td>Y</td>\n",
              "      <td>Y</td>\n",
              "      <td>0</td>\n",
              "      <td>427500.0</td>\n",
              "      <td>Working</td>\n",
              "      <td>Higher education</td>\n",
              "      <td>Civil marriage</td>\n",
              "      <td>Rented apartment</td>\n",
              "      <td>-12005</td>\n",
              "      <td>-4542</td>\n",
              "      <td>1</td>\n",
              "      <td>1</td>\n",
              "      <td>0</td>\n",
              "      <td>0</td>\n",
              "      <td>2.0</td>\n",
              "      <td>0</td>\n",
              "    </tr>\n",
              "    <tr>\n",
              "      <th>1</th>\n",
              "      <td>5008805</td>\n",
              "      <td>M</td>\n",
              "      <td>Y</td>\n",
              "      <td>Y</td>\n",
              "      <td>0</td>\n",
              "      <td>427500.0</td>\n",
              "      <td>Working</td>\n",
              "      <td>Higher education</td>\n",
              "      <td>Civil marriage</td>\n",
              "      <td>Rented apartment</td>\n",
              "      <td>-12005</td>\n",
              "      <td>-4542</td>\n",
              "      <td>1</td>\n",
              "      <td>1</td>\n",
              "      <td>0</td>\n",
              "      <td>0</td>\n",
              "      <td>2.0</td>\n",
              "      <td>0</td>\n",
              "    </tr>\n",
              "    <tr>\n",
              "      <th>2</th>\n",
              "      <td>5008806</td>\n",
              "      <td>M</td>\n",
              "      <td>Y</td>\n",
              "      <td>Y</td>\n",
              "      <td>0</td>\n",
              "      <td>112500.0</td>\n",
              "      <td>Working</td>\n",
              "      <td>Secondary / secondary special</td>\n",
              "      <td>Married</td>\n",
              "      <td>House / apartment</td>\n",
              "      <td>-21474</td>\n",
              "      <td>-1134</td>\n",
              "      <td>1</td>\n",
              "      <td>0</td>\n",
              "      <td>0</td>\n",
              "      <td>0</td>\n",
              "      <td>2.0</td>\n",
              "      <td>0</td>\n",
              "    </tr>\n",
              "    <tr>\n",
              "      <th>3</th>\n",
              "      <td>5008808</td>\n",
              "      <td>F</td>\n",
              "      <td>N</td>\n",
              "      <td>Y</td>\n",
              "      <td>0</td>\n",
              "      <td>270000.0</td>\n",
              "      <td>Commercial associate</td>\n",
              "      <td>Secondary / secondary special</td>\n",
              "      <td>Single / not married</td>\n",
              "      <td>House / apartment</td>\n",
              "      <td>-19110</td>\n",
              "      <td>-3051</td>\n",
              "      <td>1</td>\n",
              "      <td>0</td>\n",
              "      <td>1</td>\n",
              "      <td>1</td>\n",
              "      <td>1.0</td>\n",
              "      <td>0</td>\n",
              "    </tr>\n",
              "    <tr>\n",
              "      <th>4</th>\n",
              "      <td>5008809</td>\n",
              "      <td>F</td>\n",
              "      <td>N</td>\n",
              "      <td>Y</td>\n",
              "      <td>0</td>\n",
              "      <td>270000.0</td>\n",
              "      <td>Commercial associate</td>\n",
              "      <td>Secondary / secondary special</td>\n",
              "      <td>Single / not married</td>\n",
              "      <td>House / apartment</td>\n",
              "      <td>-19110</td>\n",
              "      <td>-3051</td>\n",
              "      <td>1</td>\n",
              "      <td>0</td>\n",
              "      <td>1</td>\n",
              "      <td>1</td>\n",
              "      <td>1.0</td>\n",
              "      <td>1</td>\n",
              "    </tr>\n",
              "  </tbody>\n",
              "</table>\n",
              "</div>"
            ],
            "text/plain": [
              "        ID CODE_GENDER FLAG_OWN_CAR FLAG_OWN_REALTY  CNT_CHILDREN  \\\n",
              "0  5008804           M            Y               Y             0   \n",
              "1  5008805           M            Y               Y             0   \n",
              "2  5008806           M            Y               Y             0   \n",
              "3  5008808           F            N               Y             0   \n",
              "4  5008809           F            N               Y             0   \n",
              "\n",
              "   AMT_INCOME_TOTAL      NAME_INCOME_TYPE            NAME_EDUCATION_TYPE  \\\n",
              "0          427500.0               Working               Higher education   \n",
              "1          427500.0               Working               Higher education   \n",
              "2          112500.0               Working  Secondary / secondary special   \n",
              "3          270000.0  Commercial associate  Secondary / secondary special   \n",
              "4          270000.0  Commercial associate  Secondary / secondary special   \n",
              "\n",
              "     NAME_FAMILY_STATUS  NAME_HOUSING_TYPE  DAYS_BIRTH  DAYS_EMPLOYED  \\\n",
              "0        Civil marriage   Rented apartment      -12005          -4542   \n",
              "1        Civil marriage   Rented apartment      -12005          -4542   \n",
              "2               Married  House / apartment      -21474          -1134   \n",
              "3  Single / not married  House / apartment      -19110          -3051   \n",
              "4  Single / not married  House / apartment      -19110          -3051   \n",
              "\n",
              "   FLAG_MOBIL  FLAG_WORK_PHONE  FLAG_PHONE  FLAG_EMAIL  CNT_FAM_MEMBERS  \\\n",
              "0           1                1           0           0              2.0   \n",
              "1           1                1           0           0              2.0   \n",
              "2           1                0           0           0              2.0   \n",
              "3           1                0           1           1              1.0   \n",
              "4           1                0           1           1              1.0   \n",
              "\n",
              "   STATUS  \n",
              "0       0  \n",
              "1       0  \n",
              "2       0  \n",
              "3       0  \n",
              "4       1  "
            ]
          },
          "metadata": {
            "tags": []
          },
          "execution_count": 33
        }
      ]
    },
    {
      "cell_type": "markdown",
      "metadata": {
        "id": "LPfb_hdJ3zYu"
      },
      "source": [
        "Next, based on the previous EDA, we can drop the 'FLAG_MOBIL' since it only includes one unique value."
      ]
    },
    {
      "cell_type": "code",
      "metadata": {
        "colab": {
          "base_uri": "https://localhost:8080/"
        },
        "id": "1CDXshN24RLq",
        "outputId": "79c7476e-1475-4686-cfe7-672cdc24506b"
      },
      "source": [
        "df_record.drop('FLAG_MOBIL',axis = 1, inplace = True)\n",
        "# check current dataset columns\n",
        "df_record.columns.to_list()"
      ],
      "execution_count": null,
      "outputs": [
        {
          "output_type": "execute_result",
          "data": {
            "text/plain": [
              "['ID',\n",
              " 'CODE_GENDER',\n",
              " 'FLAG_OWN_CAR',\n",
              " 'FLAG_OWN_REALTY',\n",
              " 'CNT_CHILDREN',\n",
              " 'AMT_INCOME_TOTAL',\n",
              " 'NAME_INCOME_TYPE',\n",
              " 'NAME_EDUCATION_TYPE',\n",
              " 'NAME_FAMILY_STATUS',\n",
              " 'NAME_HOUSING_TYPE',\n",
              " 'DAYS_BIRTH',\n",
              " 'DAYS_EMPLOYED',\n",
              " 'FLAG_WORK_PHONE',\n",
              " 'FLAG_PHONE',\n",
              " 'FLAG_EMAIL',\n",
              " 'CNT_FAM_MEMBERS',\n",
              " 'STATUS']"
            ]
          },
          "metadata": {
            "tags": []
          },
          "execution_count": 34
        }
      ]
    },
    {
      "cell_type": "markdown",
      "metadata": {
        "id": "okO1ESVJesHh"
      },
      "source": [
        "### Encoding Categorical Columns"
      ]
    },
    {
      "cell_type": "markdown",
      "metadata": {
        "id": "1QoeVYDSHb4K"
      },
      "source": [
        "Next, I will go and check the categorical data values and lable encoding them to digital values."
      ]
    },
    {
      "cell_type": "code",
      "metadata": {
        "colab": {
          "base_uri": "https://localhost:8080/"
        },
        "id": "OwJ57ti0Ncqu",
        "outputId": "26eea85e-8437-4ff3-af8d-6e027c31c710"
      },
      "source": [
        "# get catogorical column name list\n",
        "cat_cols = df_record.dtypes[df_record.dtypes == 'object'].index.to_list()\n",
        "cat_cols"
      ],
      "execution_count": null,
      "outputs": [
        {
          "output_type": "execute_result",
          "data": {
            "text/plain": [
              "['CODE_GENDER',\n",
              " 'FLAG_OWN_CAR',\n",
              " 'FLAG_OWN_REALTY',\n",
              " 'NAME_INCOME_TYPE',\n",
              " 'NAME_EDUCATION_TYPE',\n",
              " 'NAME_FAMILY_STATUS',\n",
              " 'NAME_HOUSING_TYPE']"
            ]
          },
          "metadata": {
            "tags": []
          },
          "execution_count": 35
        }
      ]
    },
    {
      "cell_type": "code",
      "metadata": {
        "colab": {
          "base_uri": "https://localhost:8080/",
          "height": 588
        },
        "id": "8Ej7RrUaF2ud",
        "outputId": "63d93d8f-df9c-4eb1-ff09-acdcf23713ec"
      },
      "source": [
        "# check all categorical columns values and count\n",
        "\n",
        "display(df_record['CODE_GENDER'].value_counts())\n",
        "\n",
        "display(df_record['FLAG_OWN_CAR'].value_counts())\n",
        "\n",
        "display(df_record['FLAG_OWN_REALTY'].value_counts())\n",
        "\n",
        "display(df_record['NAME_INCOME_TYPE'].value_counts())\n",
        "\n",
        "display(df_record['NAME_EDUCATION_TYPE'].value_counts())\n",
        "\n",
        "display(df_record['NAME_FAMILY_STATUS'].value_counts())\n",
        "\n",
        "display(df_record['NAME_HOUSING_TYPE'].value_counts())"
      ],
      "execution_count": null,
      "outputs": [
        {
          "output_type": "display_data",
          "data": {
            "text/plain": [
              "F    24430\n",
              "M    12027\n",
              "Name: CODE_GENDER, dtype: int64"
            ]
          },
          "metadata": {
            "tags": []
          }
        },
        {
          "output_type": "display_data",
          "data": {
            "text/plain": [
              "N    22614\n",
              "Y    13843\n",
              "Name: FLAG_OWN_CAR, dtype: int64"
            ]
          },
          "metadata": {
            "tags": []
          }
        },
        {
          "output_type": "display_data",
          "data": {
            "text/plain": [
              "Y    24506\n",
              "N    11951\n",
              "Name: FLAG_OWN_REALTY, dtype: int64"
            ]
          },
          "metadata": {
            "tags": []
          }
        },
        {
          "output_type": "display_data",
          "data": {
            "text/plain": [
              "Working                 18819\n",
              "Commercial associate     8490\n",
              "Pensioner                6152\n",
              "State servant            2985\n",
              "Student                    11\n",
              "Name: NAME_INCOME_TYPE, dtype: int64"
            ]
          },
          "metadata": {
            "tags": []
          }
        },
        {
          "output_type": "display_data",
          "data": {
            "text/plain": [
              "Secondary / secondary special    24777\n",
              "Higher education                  9864\n",
              "Incomplete higher                 1410\n",
              "Lower secondary                    374\n",
              "Academic degree                     32\n",
              "Name: NAME_EDUCATION_TYPE, dtype: int64"
            ]
          },
          "metadata": {
            "tags": []
          }
        },
        {
          "output_type": "display_data",
          "data": {
            "text/plain": [
              "Married                 25048\n",
              "Single / not married     4829\n",
              "Civil marriage           2945\n",
              "Separated                2103\n",
              "Widow                    1532\n",
              "Name: NAME_FAMILY_STATUS, dtype: int64"
            ]
          },
          "metadata": {
            "tags": []
          }
        },
        {
          "output_type": "display_data",
          "data": {
            "text/plain": [
              "House / apartment      32548\n",
              "With parents            1776\n",
              "Municipal apartment     1128\n",
              "Rented apartment         575\n",
              "Office apartment         262\n",
              "Co-op apartment          168\n",
              "Name: NAME_HOUSING_TYPE, dtype: int64"
            ]
          },
          "metadata": {
            "tags": []
          }
        }
      ]
    },
    {
      "cell_type": "markdown",
      "metadata": {
        "id": "sfvTeiTI2m78"
      },
      "source": [
        "From above information, we are going to encode value on columns``"
      ]
    },
    {
      "cell_type": "code",
      "metadata": {
        "id": "n3f3-8tC2m78",
        "outputId": "5fda6501-b745-449a-a4d8-242675e91c85"
      },
      "source": [
        "from sklearn.preprocessing import LabelEncoder\n",
        "# encoding columns\n",
        "lb = LabelEncoder()\n",
        "\n",
        "df_record['CODE_GENDER'] = lb.fit_transform(df_record['CODE_GENDER'])\n",
        "df_record['FLAG_OWN_CAR'] = lb.fit_transform(df_record['FLAG_OWN_CAR'])\n",
        "df_record['FLAG_OWN_REALTY'] = lb.fit_transform(df_record['FLAG_OWN_REALTY'])\n",
        "df_record['NAME_FAMILY_STATUS'] = lb.fit_transform(df_record['NAME_FAMILY_STATUS'])\n",
        "df_record['NAME_HOUSING_TYPE'] = lb.fit_transform(df_record['NAME_HOUSING_TYPE'])\n",
        "df_record['NAME_INCOME_TYPE'] = lb.fit_transform(df_record['NAME_INCOME_TYPE'])\n",
        "df_record['NAME_EDUCATION_TYPE'] = lb.fit_transform(df_record['NAME_EDUCATION_TYPE'])\n",
        "\n",
        "df_record.head(5)"
      ],
      "execution_count": null,
      "outputs": [
        {
          "output_type": "execute_result",
          "data": {
            "text/html": [
              "<div>\n",
              "<style scoped>\n",
              "    .dataframe tbody tr th:only-of-type {\n",
              "        vertical-align: middle;\n",
              "    }\n",
              "\n",
              "    .dataframe tbody tr th {\n",
              "        vertical-align: top;\n",
              "    }\n",
              "\n",
              "    .dataframe thead th {\n",
              "        text-align: right;\n",
              "    }\n",
              "</style>\n",
              "<table border=\"1\" class=\"dataframe\">\n",
              "  <thead>\n",
              "    <tr style=\"text-align: right;\">\n",
              "      <th></th>\n",
              "      <th>ID</th>\n",
              "      <th>CODE_GENDER</th>\n",
              "      <th>FLAG_OWN_CAR</th>\n",
              "      <th>FLAG_OWN_REALTY</th>\n",
              "      <th>CNT_CHILDREN</th>\n",
              "      <th>AMT_INCOME_TOTAL</th>\n",
              "      <th>NAME_INCOME_TYPE</th>\n",
              "      <th>NAME_EDUCATION_TYPE</th>\n",
              "      <th>NAME_FAMILY_STATUS</th>\n",
              "      <th>NAME_HOUSING_TYPE</th>\n",
              "      <th>DAYS_BIRTH</th>\n",
              "      <th>DAYS_EMPLOYED</th>\n",
              "      <th>FLAG_WORK_PHONE</th>\n",
              "      <th>FLAG_PHONE</th>\n",
              "      <th>FLAG_EMAIL</th>\n",
              "      <th>CNT_FAM_MEMBERS</th>\n",
              "      <th>STATUS</th>\n",
              "    </tr>\n",
              "  </thead>\n",
              "  <tbody>\n",
              "    <tr>\n",
              "      <th>0</th>\n",
              "      <td>5008804</td>\n",
              "      <td>1</td>\n",
              "      <td>1</td>\n",
              "      <td>1</td>\n",
              "      <td>0</td>\n",
              "      <td>427500.0</td>\n",
              "      <td>4</td>\n",
              "      <td>1</td>\n",
              "      <td>0</td>\n",
              "      <td>4</td>\n",
              "      <td>-12005</td>\n",
              "      <td>-4542</td>\n",
              "      <td>1</td>\n",
              "      <td>0</td>\n",
              "      <td>0</td>\n",
              "      <td>2.0</td>\n",
              "      <td>0</td>\n",
              "    </tr>\n",
              "    <tr>\n",
              "      <th>1</th>\n",
              "      <td>5008805</td>\n",
              "      <td>1</td>\n",
              "      <td>1</td>\n",
              "      <td>1</td>\n",
              "      <td>0</td>\n",
              "      <td>427500.0</td>\n",
              "      <td>4</td>\n",
              "      <td>1</td>\n",
              "      <td>0</td>\n",
              "      <td>4</td>\n",
              "      <td>-12005</td>\n",
              "      <td>-4542</td>\n",
              "      <td>1</td>\n",
              "      <td>0</td>\n",
              "      <td>0</td>\n",
              "      <td>2.0</td>\n",
              "      <td>0</td>\n",
              "    </tr>\n",
              "    <tr>\n",
              "      <th>2</th>\n",
              "      <td>5008806</td>\n",
              "      <td>1</td>\n",
              "      <td>1</td>\n",
              "      <td>1</td>\n",
              "      <td>0</td>\n",
              "      <td>112500.0</td>\n",
              "      <td>4</td>\n",
              "      <td>4</td>\n",
              "      <td>1</td>\n",
              "      <td>1</td>\n",
              "      <td>-21474</td>\n",
              "      <td>-1134</td>\n",
              "      <td>0</td>\n",
              "      <td>0</td>\n",
              "      <td>0</td>\n",
              "      <td>2.0</td>\n",
              "      <td>0</td>\n",
              "    </tr>\n",
              "    <tr>\n",
              "      <th>3</th>\n",
              "      <td>5008808</td>\n",
              "      <td>0</td>\n",
              "      <td>0</td>\n",
              "      <td>1</td>\n",
              "      <td>0</td>\n",
              "      <td>270000.0</td>\n",
              "      <td>0</td>\n",
              "      <td>4</td>\n",
              "      <td>3</td>\n",
              "      <td>1</td>\n",
              "      <td>-19110</td>\n",
              "      <td>-3051</td>\n",
              "      <td>0</td>\n",
              "      <td>1</td>\n",
              "      <td>1</td>\n",
              "      <td>1.0</td>\n",
              "      <td>0</td>\n",
              "    </tr>\n",
              "    <tr>\n",
              "      <th>4</th>\n",
              "      <td>5008809</td>\n",
              "      <td>0</td>\n",
              "      <td>0</td>\n",
              "      <td>1</td>\n",
              "      <td>0</td>\n",
              "      <td>270000.0</td>\n",
              "      <td>0</td>\n",
              "      <td>4</td>\n",
              "      <td>3</td>\n",
              "      <td>1</td>\n",
              "      <td>-19110</td>\n",
              "      <td>-3051</td>\n",
              "      <td>0</td>\n",
              "      <td>1</td>\n",
              "      <td>1</td>\n",
              "      <td>1.0</td>\n",
              "      <td>1</td>\n",
              "    </tr>\n",
              "  </tbody>\n",
              "</table>\n",
              "</div>"
            ],
            "text/plain": [
              "        ID  CODE_GENDER  FLAG_OWN_CAR  FLAG_OWN_REALTY  CNT_CHILDREN  \\\n",
              "0  5008804            1             1                1             0   \n",
              "1  5008805            1             1                1             0   \n",
              "2  5008806            1             1                1             0   \n",
              "3  5008808            0             0                1             0   \n",
              "4  5008809            0             0                1             0   \n",
              "\n",
              "   AMT_INCOME_TOTAL  NAME_INCOME_TYPE  NAME_EDUCATION_TYPE  \\\n",
              "0          427500.0                 4                    1   \n",
              "1          427500.0                 4                    1   \n",
              "2          112500.0                 4                    4   \n",
              "3          270000.0                 0                    4   \n",
              "4          270000.0                 0                    4   \n",
              "\n",
              "   NAME_FAMILY_STATUS  NAME_HOUSING_TYPE  DAYS_BIRTH  DAYS_EMPLOYED  \\\n",
              "0                   0                  4      -12005          -4542   \n",
              "1                   0                  4      -12005          -4542   \n",
              "2                   1                  1      -21474          -1134   \n",
              "3                   3                  1      -19110          -3051   \n",
              "4                   3                  1      -19110          -3051   \n",
              "\n",
              "   FLAG_WORK_PHONE  FLAG_PHONE  FLAG_EMAIL  CNT_FAM_MEMBERS  STATUS  \n",
              "0                1           0           0              2.0       0  \n",
              "1                1           0           0              2.0       0  \n",
              "2                0           0           0              2.0       0  \n",
              "3                0           1           1              1.0       0  \n",
              "4                0           1           1              1.0       1  "
            ]
          },
          "metadata": {
            "tags": []
          },
          "execution_count": 38
        }
      ]
    },
    {
      "cell_type": "code",
      "metadata": {
        "colab": {
          "base_uri": "https://localhost:8080/",
          "height": 215
        },
        "id": "NPs3489-SxTp",
        "outputId": "a4ae1cc2-8112-4e90-feff-53a115f5fa5f"
      },
      "source": [
        "# Alter the DAY_BIRTH to age and DAYS_EMPLOYED to years\n",
        "\n",
        "df_record['AGE'] = df_record['DAYS_BIRTH'].apply(lambda x: round(abs(x/365)))\n",
        "# before be calculate the YEARS_EMPLOYED, I will replace the 365243 of Pensioner to 0 day to avoid confusion in further plot.\n",
        "df_record['DAYS_EMPLOYED'] = df_record['DAYS_EMPLOYED'].replace(365243,0)\n",
        "df_record['YEARS_EMPLOYED'] = df_record['DAYS_EMPLOYED'].apply(lambda x: round(abs(x/365),2))\n",
        "\n",
        "df_record.drop(['DAYS_BIRTH','DAYS_EMPLOYED'], axis=1, inplace=True)\n",
        "df_record.head(5)"
      ],
      "execution_count": null,
      "outputs": [
        {
          "output_type": "execute_result",
          "data": {
            "text/html": [
              "<div>\n",
              "<style scoped>\n",
              "    .dataframe tbody tr th:only-of-type {\n",
              "        vertical-align: middle;\n",
              "    }\n",
              "\n",
              "    .dataframe tbody tr th {\n",
              "        vertical-align: top;\n",
              "    }\n",
              "\n",
              "    .dataframe thead th {\n",
              "        text-align: right;\n",
              "    }\n",
              "</style>\n",
              "<table border=\"1\" class=\"dataframe\">\n",
              "  <thead>\n",
              "    <tr style=\"text-align: right;\">\n",
              "      <th></th>\n",
              "      <th>ID</th>\n",
              "      <th>CODE_GENDER</th>\n",
              "      <th>FLAG_OWN_CAR</th>\n",
              "      <th>FLAG_OWN_REALTY</th>\n",
              "      <th>CNT_CHILDREN</th>\n",
              "      <th>AMT_INCOME_TOTAL</th>\n",
              "      <th>NAME_INCOME_TYPE</th>\n",
              "      <th>NAME_EDUCATION_TYPE</th>\n",
              "      <th>NAME_FAMILY_STATUS</th>\n",
              "      <th>NAME_HOUSING_TYPE</th>\n",
              "      <th>FLAG_WORK_PHONE</th>\n",
              "      <th>FLAG_PHONE</th>\n",
              "      <th>FLAG_EMAIL</th>\n",
              "      <th>CNT_FAM_MEMBERS</th>\n",
              "      <th>STATUS</th>\n",
              "      <th>AGE</th>\n",
              "      <th>YEARS_EMPLOYED</th>\n",
              "    </tr>\n",
              "  </thead>\n",
              "  <tbody>\n",
              "    <tr>\n",
              "      <th>0</th>\n",
              "      <td>5008804</td>\n",
              "      <td>1</td>\n",
              "      <td>1</td>\n",
              "      <td>1</td>\n",
              "      <td>0</td>\n",
              "      <td>427500.0</td>\n",
              "      <td>4</td>\n",
              "      <td>1</td>\n",
              "      <td>0</td>\n",
              "      <td>4</td>\n",
              "      <td>1</td>\n",
              "      <td>0</td>\n",
              "      <td>0</td>\n",
              "      <td>2.0</td>\n",
              "      <td>0</td>\n",
              "      <td>33</td>\n",
              "      <td>12.44</td>\n",
              "    </tr>\n",
              "    <tr>\n",
              "      <th>1</th>\n",
              "      <td>5008805</td>\n",
              "      <td>1</td>\n",
              "      <td>1</td>\n",
              "      <td>1</td>\n",
              "      <td>0</td>\n",
              "      <td>427500.0</td>\n",
              "      <td>4</td>\n",
              "      <td>1</td>\n",
              "      <td>0</td>\n",
              "      <td>4</td>\n",
              "      <td>1</td>\n",
              "      <td>0</td>\n",
              "      <td>0</td>\n",
              "      <td>2.0</td>\n",
              "      <td>0</td>\n",
              "      <td>33</td>\n",
              "      <td>12.44</td>\n",
              "    </tr>\n",
              "    <tr>\n",
              "      <th>2</th>\n",
              "      <td>5008806</td>\n",
              "      <td>1</td>\n",
              "      <td>1</td>\n",
              "      <td>1</td>\n",
              "      <td>0</td>\n",
              "      <td>112500.0</td>\n",
              "      <td>4</td>\n",
              "      <td>4</td>\n",
              "      <td>1</td>\n",
              "      <td>1</td>\n",
              "      <td>0</td>\n",
              "      <td>0</td>\n",
              "      <td>0</td>\n",
              "      <td>2.0</td>\n",
              "      <td>0</td>\n",
              "      <td>59</td>\n",
              "      <td>3.11</td>\n",
              "    </tr>\n",
              "    <tr>\n",
              "      <th>3</th>\n",
              "      <td>5008808</td>\n",
              "      <td>0</td>\n",
              "      <td>0</td>\n",
              "      <td>1</td>\n",
              "      <td>0</td>\n",
              "      <td>270000.0</td>\n",
              "      <td>0</td>\n",
              "      <td>4</td>\n",
              "      <td>3</td>\n",
              "      <td>1</td>\n",
              "      <td>0</td>\n",
              "      <td>1</td>\n",
              "      <td>1</td>\n",
              "      <td>1.0</td>\n",
              "      <td>0</td>\n",
              "      <td>52</td>\n",
              "      <td>8.36</td>\n",
              "    </tr>\n",
              "    <tr>\n",
              "      <th>4</th>\n",
              "      <td>5008809</td>\n",
              "      <td>0</td>\n",
              "      <td>0</td>\n",
              "      <td>1</td>\n",
              "      <td>0</td>\n",
              "      <td>270000.0</td>\n",
              "      <td>0</td>\n",
              "      <td>4</td>\n",
              "      <td>3</td>\n",
              "      <td>1</td>\n",
              "      <td>0</td>\n",
              "      <td>1</td>\n",
              "      <td>1</td>\n",
              "      <td>1.0</td>\n",
              "      <td>1</td>\n",
              "      <td>52</td>\n",
              "      <td>8.36</td>\n",
              "    </tr>\n",
              "  </tbody>\n",
              "</table>\n",
              "</div>"
            ],
            "text/plain": [
              "        ID  CODE_GENDER  FLAG_OWN_CAR  FLAG_OWN_REALTY  CNT_CHILDREN  \\\n",
              "0  5008804            1             1                1             0   \n",
              "1  5008805            1             1                1             0   \n",
              "2  5008806            1             1                1             0   \n",
              "3  5008808            0             0                1             0   \n",
              "4  5008809            0             0                1             0   \n",
              "\n",
              "   AMT_INCOME_TOTAL  NAME_INCOME_TYPE  NAME_EDUCATION_TYPE  \\\n",
              "0          427500.0                 4                    1   \n",
              "1          427500.0                 4                    1   \n",
              "2          112500.0                 4                    4   \n",
              "3          270000.0                 0                    4   \n",
              "4          270000.0                 0                    4   \n",
              "\n",
              "   NAME_FAMILY_STATUS  NAME_HOUSING_TYPE  FLAG_WORK_PHONE  FLAG_PHONE  \\\n",
              "0                   0                  4                1           0   \n",
              "1                   0                  4                1           0   \n",
              "2                   1                  1                0           0   \n",
              "3                   3                  1                0           1   \n",
              "4                   3                  1                0           1   \n",
              "\n",
              "   FLAG_EMAIL  CNT_FAM_MEMBERS  STATUS  AGE  YEARS_EMPLOYED  \n",
              "0           0              2.0       0   33           12.44  \n",
              "1           0              2.0       0   33           12.44  \n",
              "2           0              2.0       0   59            3.11  \n",
              "3           1              1.0       0   52            8.36  \n",
              "4           1              1.0       1   52            8.36  "
            ]
          },
          "metadata": {
            "tags": []
          },
          "execution_count": 39
        }
      ]
    },
    {
      "cell_type": "code",
      "metadata": {
        "id": "rzKQvl_w2m7-",
        "outputId": "c80ba1b2-0159-4d35-e738-550009c6ca31"
      },
      "source": [
        "df_record.shape"
      ],
      "execution_count": null,
      "outputs": [
        {
          "output_type": "execute_result",
          "data": {
            "text/plain": [
              "(36457, 17)"
            ]
          },
          "metadata": {
            "tags": []
          },
          "execution_count": 40
        }
      ]
    },
    {
      "cell_type": "markdown",
      "metadata": {
        "id": "L3f7HWEA6PPs"
      },
      "source": [
        "Until now, we adjust all categorical data to digital, which can help to build the model.."
      ]
    },
    {
      "cell_type": "markdown",
      "metadata": {
        "id": "xE47GBoJiABe"
      },
      "source": [
        "Now we finished the data preparation. We can re-run our EDA to see the difference."
      ]
    },
    {
      "cell_type": "markdown",
      "metadata": {
        "id": "rWSrdLE6Mw3m"
      },
      "source": [
        "### Prepped Data Review"
      ]
    },
    {
      "cell_type": "code",
      "metadata": {
        "colab": {
          "base_uri": "https://localhost:8080/",
          "height": 295
        },
        "id": "WPpD5xF0EtbU",
        "outputId": "23834bc4-a2cb-4015-bc68-bbd06c323f26"
      },
      "source": [
        "ax = sns.countplot(x=\"STATUS\", data=df_record)\n",
        "plt.title('STATUS')\n",
        "total = len(df_record['STATUS'])\n",
        "for p in ax.patches:\n",
        "    height = p.get_height()\n",
        "    ax.text(p.get_x()+p.get_width()/2.,\n",
        "            height + 3,\n",
        "            '{:1.3f}%'.format(100*(height/total)),\n",
        "            ha=\"center\")"
      ],
      "execution_count": null,
      "outputs": [
        {
          "output_type": "display_data",
          "data": {
            "image/png": "[encoded data removed]",
            "text/plain": [
              "<Figure size 432x288 with 1 Axes>"
            ]
          },
          "metadata": {
            "tags": [],
            "needs_background": "light"
          }
        }
      ]
    },
    {
      "cell_type": "markdown",
      "metadata": {
        "id": "z-bIRGDk2m8A"
      },
      "source": [
        "Obviously, the STATUS value discription is changed and it's imbalanced since we drop the duplicates. There are only 12% qualifier, 87% are minus defaulter and the few rest customers are severe defaulter."
      ]
    },
    {
      "cell_type": "code",
      "metadata": {
        "colab": {
          "base_uri": "https://localhost:8080/",
          "height": 729
        },
        "id": "jWCCkDJSEAUC",
        "outputId": "30c68d8b-1f39-46f3-dea7-0de6550aea35"
      },
      "source": [
        "df_record.hist(figsize=(12,10))\n",
        "plt.tight_layout()"
      ],
      "execution_count": null,
      "outputs": [
        {
          "output_type": "display_data",
          "data": {
            "image/png": "[encoded data removed]",
            "text/plain": [
              "<Figure size 864x720 with 20 Axes>"
            ]
          },
          "metadata": {
            "tags": [],
            "needs_background": "light"
          }
        }
      ]
    },
    {
      "cell_type": "markdown",
      "metadata": {
        "id": "_XqPdX-RPVCp"
      },
      "source": [
        "Now we can see that after processing the duplicate model and encoding the data values, the distribution of some columns has changed, but not much."
      ]
    },
    {
      "cell_type": "markdown",
      "metadata": {
        "id": "N9Q0gvYvKqTJ"
      },
      "source": [
        "### Relationship\n",
        "Then we are going to see their relationship."
      ]
    },
    {
      "cell_type": "code",
      "metadata": {
        "colab": {
          "base_uri": "https://localhost:8080/",
          "height": 279
        },
        "id": "QhMzGwh-Olu9",
        "outputId": "5710b2d7-5213-4e2d-bf33-64384167601f"
      },
      "source": [
        "# check the response value with label datas\n",
        "label_chart = sns.countplot(x = 'STATUS', data = df_record, palette= 'hls')"
      ],
      "execution_count": null,
      "outputs": [
        {
          "output_type": "display_data",
          "data": {
            "image/png": "[encoded data removed]",
            "text/plain": [
              "<Figure size 432x288 with 1 Axes>"
            ]
          },
          "metadata": {
            "tags": [],
            "needs_background": "light"
          }
        }
      ]
    },
    {
      "cell_type": "code",
      "metadata": {
        "colab": {
          "base_uri": "https://localhost:8080/",
          "height": 729
        },
        "id": "5jPSrN7dK2rM",
        "outputId": "d683c022-3884-44b0-f544-36252f6d7d3d"
      },
      "source": [
        "# relationship of numerical data\n",
        "\n",
        "fig, axes =plt.subplots(4,1, figsize=(5,10)) #, sharex=True\n",
        "axes = axes.flatten()\n",
        "\n",
        "num_cols = [\"CNT_CHILDREN\",\"AGE\",\"YEARS_EMPLOYED\",\"CNT_FAM_MEMBERS\"]\n",
        "for ax, col in zip(axes, df_record[num_cols]):\n",
        "    g = sns.boxplot(x= df_record[col], y = df_record.STATUS,ax=ax, orient = 'h')\n",
        "\n",
        "plt.tight_layout()  \n",
        "plt.show()\n"
      ],
      "execution_count": null,
      "outputs": [
        {
          "output_type": "display_data",
          "data": {
            "image/png": "[encoded data removed]",
            "text/plain": [
              "<Figure size 360x720 with 4 Axes>"
            ]
          },
          "metadata": {
            "tags": [],
            "needs_background": "light"
          }
        }
      ]
    },
    {
      "cell_type": "markdown",
      "metadata": {
        "id": "v--mtI9y2m8C"
      },
      "source": [
        "All numeric columns are distributed as almost same as before except the YEARS_EMPLOYED. This can make sense since the previous outlier is so big that hiden other outliers."
      ]
    },
    {
      "cell_type": "code",
      "metadata": {
        "colab": {
          "base_uri": "https://localhost:8080/",
          "height": 729
        },
        "id": "yKdJ5VDaSXqV",
        "outputId": "366fcf29-31dd-41e2-88f6-50c766908212"
      },
      "source": [
        "#plot categorical data\n",
        "fig, axes =plt.subplots(3,2, figsize=(12,10))\n",
        "axes = axes.flatten()\n",
        "\n",
        "for ax, catplot in zip(axes, cat_cols):\n",
        "    gragh = sns.countplot(y=catplot, data=df_record, ax=ax, hue = 'STATUS')\n",
        "plt.tight_layout()  \n",
        "plt.show()"
      ],
      "execution_count": null,
      "outputs": [
        {
          "output_type": "display_data",
          "data": {
            "image/png": "[encoded data removed]",
            "text/plain": [
              "<Figure size 864x720 with 6 Axes>"
            ]
          },
          "metadata": {
            "tags": [],
            "needs_background": "light"
          }
        }
      ]
    },
    {
      "cell_type": "markdown",
      "metadata": {
        "id": "W9o70EDr5lNa"
      },
      "source": [
        " This categorical part reveals some interesting fact:\n",
        "- number of minus defaulter are much more than qualifier. This is because the imbalanced response data\n",
        "\n",
        "We continue to check heatmaps."
      ]
    },
    {
      "cell_type": "code",
      "metadata": {
        "colab": {
          "base_uri": "https://localhost:8080/",
          "height": 705
        },
        "id": "1POFcMReTlUJ",
        "outputId": "2431394a-1954-4356-f8d8-cc3841d2ecd0"
      },
      "source": [
        "#Using Pearson Correlation\n",
        "plt.figure(figsize=(12,10))\n",
        "\n",
        "corr = df_record[['CNT_CHILDREN', 'AMT_INCOME_TOTAL', 'AGE', 'YEARS_EMPLOYED', 'CNT_FAM_MEMBERS','STATUS']].corr()\n",
        "sns.heatmap(corr, \n",
        "        xticklabels=corr.columns,\n",
        "        yticklabels=corr.columns,\n",
        "        annot=True, cmap=plt.cm.Reds)"
      ],
      "execution_count": null,
      "outputs": [
        {
          "output_type": "execute_result",
          "data": {
            "text/plain": [
              "<matplotlib.axes._subplots.AxesSubplot at 0x182edeb7df0>"
            ]
          },
          "metadata": {
            "tags": []
          },
          "execution_count": 46
        },
        {
          "output_type": "display_data",
          "data": {
            "image/png": "[encoded data removed]",
            "text/plain": [
              "<Figure size 864x720 with 2 Axes>"
            ]
          },
          "metadata": {
            "tags": [],
            "needs_background": "light"
          }
        }
      ]
    },
    {
      "cell_type": "markdown",
      "metadata": {
        "id": "yDGoYruGVC1X"
      },
      "source": [
        "In this heatmap, if only look at this coorelation matrix, we have these findings:\n",
        "\n",
        "- There are very weak relationship between other features and STATUS\n",
        "\n",
        "- One thing noticeable is that CNT_FAM_MEMBERS and CNT_CHILDREN showed a strong collinearity. It make sense that generally since higher number of family members has more children. Overall, all value does not show a strong corelation among them."
      ]
    },
    {
      "cell_type": "markdown",
      "metadata": {
        "id": "ISSvYnJgGGCa"
      },
      "source": [
        "Then we are going to prepare the useful indicators for model in Research Questions"
      ]
    },
    {
      "cell_type": "markdown",
      "metadata": {
        "id": "JMPmjjlVAscl"
      },
      "source": [
        "## Research"
      ]
    },
    {
      "cell_type": "markdown",
      "metadata": {
        "id": "1v6BD37Z2m8E"
      },
      "source": [
        "Now we can see that after processing the duplicate model and encoding the data values, the distribution of some columns has changed, but not much.\n",
        "Based on the information given, we will explore which attributes (such as occupation or education level) or combination of attributes may be the most important predictive attributes.\n",
        "To find out, we will use chi-square to test relevant scores for categorical columns.\n",
        "In addition, we will import our second data set from the UCI open source data set, which contains customer information and real-world responses to help us determine the features that fit our predictive model."
      ]
    },
    {
      "cell_type": "markdown",
      "metadata": {
        "id": "qqh2bbSWQlUT"
      },
      "source": [
        "### Chi-square testing for selecting categorical feature\n",
        "\n",
        "We will use chi-squared statistic for feature selection on categorical data. To use chi-square test，we also need to run ordinalcoder to the explantory variable. variable. Then select K best function is to select the k lowest p-values based on chi2 Statistics. Thus p value gave the score of these relevant features."
      ]
    },
    {
      "cell_type": "code",
      "metadata": {
        "id": "XSl0Lw9gUHFn"
      },
      "source": [
        "# categorized data after droping the numerical data\n",
        "cat_data= df_record.drop(['ID','CNT_CHILDREN','AMT_INCOME_TOTAL','AGE', 'YEARS_EMPLOYED'], axis = 1).copy()"
      ],
      "execution_count": null,
      "outputs": []
    },
    {
      "cell_type": "code",
      "metadata": {
        "colab": {
          "base_uri": "https://localhost:8080/",
          "height": 186
        },
        "id": "LB9JdfHu3vzE",
        "outputId": "122c99c7-6522-44e9-925f-2a1cd8b39669"
      },
      "source": [
        "#sanity check\n",
        "cat_data.head(4)"
      ],
      "execution_count": null,
      "outputs": [
        {
          "output_type": "execute_result",
          "data": {
            "text/html": [
              "<div>\n",
              "<style scoped>\n",
              "    .dataframe tbody tr th:only-of-type {\n",
              "        vertical-align: middle;\n",
              "    }\n",
              "\n",
              "    .dataframe tbody tr th {\n",
              "        vertical-align: top;\n",
              "    }\n",
              "\n",
              "    .dataframe thead th {\n",
              "        text-align: right;\n",
              "    }\n",
              "</style>\n",
              "<table border=\"1\" class=\"dataframe\">\n",
              "  <thead>\n",
              "    <tr style=\"text-align: right;\">\n",
              "      <th></th>\n",
              "      <th>CODE_GENDER</th>\n",
              "      <th>FLAG_OWN_CAR</th>\n",
              "      <th>FLAG_OWN_REALTY</th>\n",
              "      <th>NAME_INCOME_TYPE</th>\n",
              "      <th>NAME_EDUCATION_TYPE</th>\n",
              "      <th>NAME_FAMILY_STATUS</th>\n",
              "      <th>NAME_HOUSING_TYPE</th>\n",
              "      <th>FLAG_WORK_PHONE</th>\n",
              "      <th>FLAG_PHONE</th>\n",
              "      <th>FLAG_EMAIL</th>\n",
              "      <th>CNT_FAM_MEMBERS</th>\n",
              "      <th>STATUS</th>\n",
              "    </tr>\n",
              "  </thead>\n",
              "  <tbody>\n",
              "    <tr>\n",
              "      <th>0</th>\n",
              "      <td>1</td>\n",
              "      <td>1</td>\n",
              "      <td>1</td>\n",
              "      <td>4</td>\n",
              "      <td>1</td>\n",
              "      <td>0</td>\n",
              "      <td>4</td>\n",
              "      <td>1</td>\n",
              "      <td>0</td>\n",
              "      <td>0</td>\n",
              "      <td>2.0</td>\n",
              "      <td>0</td>\n",
              "    </tr>\n",
              "    <tr>\n",
              "      <th>1</th>\n",
              "      <td>1</td>\n",
              "      <td>1</td>\n",
              "      <td>1</td>\n",
              "      <td>4</td>\n",
              "      <td>1</td>\n",
              "      <td>0</td>\n",
              "      <td>4</td>\n",
              "      <td>1</td>\n",
              "      <td>0</td>\n",
              "      <td>0</td>\n",
              "      <td>2.0</td>\n",
              "      <td>0</td>\n",
              "    </tr>\n",
              "    <tr>\n",
              "      <th>2</th>\n",
              "      <td>1</td>\n",
              "      <td>1</td>\n",
              "      <td>1</td>\n",
              "      <td>4</td>\n",
              "      <td>4</td>\n",
              "      <td>1</td>\n",
              "      <td>1</td>\n",
              "      <td>0</td>\n",
              "      <td>0</td>\n",
              "      <td>0</td>\n",
              "      <td>2.0</td>\n",
              "      <td>0</td>\n",
              "    </tr>\n",
              "    <tr>\n",
              "      <th>3</th>\n",
              "      <td>0</td>\n",
              "      <td>0</td>\n",
              "      <td>1</td>\n",
              "      <td>0</td>\n",
              "      <td>4</td>\n",
              "      <td>3</td>\n",
              "      <td>1</td>\n",
              "      <td>0</td>\n",
              "      <td>1</td>\n",
              "      <td>1</td>\n",
              "      <td>1.0</td>\n",
              "      <td>0</td>\n",
              "    </tr>\n",
              "  </tbody>\n",
              "</table>\n",
              "</div>"
            ],
            "text/plain": [
              "   CODE_GENDER  FLAG_OWN_CAR  FLAG_OWN_REALTY  NAME_INCOME_TYPE  \\\n",
              "0            1             1                1                 4   \n",
              "1            1             1                1                 4   \n",
              "2            1             1                1                 4   \n",
              "3            0             0                1                 0   \n",
              "\n",
              "   NAME_EDUCATION_TYPE  NAME_FAMILY_STATUS  NAME_HOUSING_TYPE  \\\n",
              "0                    1                   0                  4   \n",
              "1                    1                   0                  4   \n",
              "2                    4                   1                  1   \n",
              "3                    4                   3                  1   \n",
              "\n",
              "   FLAG_WORK_PHONE  FLAG_PHONE  FLAG_EMAIL  CNT_FAM_MEMBERS  STATUS  \n",
              "0                1           0           0              2.0       0  \n",
              "1                1           0           0              2.0       0  \n",
              "2                0           0           0              2.0       0  \n",
              "3                0           1           1              1.0       0  "
            ]
          },
          "metadata": {
            "tags": []
          },
          "execution_count": 48
        }
      ]
    },
    {
      "cell_type": "code",
      "metadata": {
        "id": "PDCQwXm5rSET"
      },
      "source": [
        "# set data and response columns\n",
        "X = cat_data.drop(columns = ['STATUS'])\n",
        "y = cat_data['STATUS'].astype('category')"
      ],
      "execution_count": null,
      "outputs": []
    },
    {
      "cell_type": "code",
      "metadata": {
        "colab": {
          "base_uri": "https://localhost:8080/"
        },
        "id": "Oj1W-MPVrKSq",
        "outputId": "3bb8767d-d46d-4bfc-f680-e06b6d7d65c6"
      },
      "source": [
        "# Print before and after smote data value counts comparison\n",
        "print(\"Before OverSampling, counts of label '1': {}\".format(sum(y == 1))) \n",
        "print(\"Before OverSampling, counts of label '0': {} \\n\".format(sum(y == 0))) \n",
        "print(\"Before OverSampling, counts of label '2': {} \\n\".format(sum(y == 2))) \n",
        "\n",
        "# import SMOTE module from imblearn library \n",
        "# pip install imblearn \n",
        "from imblearn.over_sampling import SMOTE \n",
        "sm = SMOTE(random_state = 2) \n",
        "X_train_res, y_train_res = sm.fit_sample(X, y.ravel()) \n",
        "  \n",
        "print('After OverSampling, the shape of train_X: {}'.format(X_train_res.shape)) \n",
        "print('After OverSampling, the shape of train_y: {} \\n'.format(y_train_res.shape)) \n",
        "  \n",
        "print(\"After OverSampling, counts of label '1': {}\".format(sum(y_train_res == 1))) \n",
        "print(\"After OverSampling, counts of label '0': {}\".format(sum(y_train_res == 0))) \n",
        "print(\"After OverSampling, counts of label '2': {}\".format(sum(y_train_res == 2))) "
      ],
      "execution_count": null,
      "outputs": [
        {
          "output_type": "stream",
          "text": [
            "Before OverSampling, counts of label '1': 4455\n",
            "Before OverSampling, counts of label '0': 31700 \n",
            "\n",
            "Before OverSampling, counts of label '2': 302 \n",
            "\n",
            "After OverSampling, the shape of train_X: (95100, 11)\n",
            "After OverSampling, the shape of train_y: (95100,) \n",
            "\n",
            "After OverSampling, counts of label '1': 31700\n",
            "After OverSampling, counts of label '0': 31700\n",
            "After OverSampling, counts of label '2': 31700\n"
          ],
          "name": "stdout"
        }
      ]
    },
    {
      "cell_type": "code",
      "metadata": {
        "colab": {
          "base_uri": "https://localhost:8080/"
        },
        "id": "_aFfvXR5-u3-",
        "outputId": "0224e77e-036a-491b-9afa-dbf3de6ea920"
      },
      "source": [
        "from sklearn.model_selection import train_test_split\n",
        "\n",
        "#The data is divided into training set and test set\n",
        "X_train,X_test,Y_train,Y_test = train_test_split(X_train_res,y_train_res,test_size = 0.3,random_state = 1)\n",
        "print(X_train.shape)\n",
        "print(Y_train.shape)\n",
        "print(X_test.shape)\n",
        "print(Y_test.shape)"
      ],
      "execution_count": null,
      "outputs": [
        {
          "output_type": "stream",
          "text": [
            "(66570, 11)\n",
            "(66570,)\n",
            "(28530, 11)\n",
            "(28530,)\n"
          ],
          "name": "stdout"
        }
      ]
    },
    {
      "cell_type": "code",
      "metadata": {
        "colab": {
          "base_uri": "https://localhost:8080/",
          "height": 126
        },
        "id": "f9rutZr3p-UM",
        "outputId": "1cfd443f-690a-4601-d521-3a7fc9539871"
      },
      "source": [
        "from sklearn.feature_selection import SelectKBest\n",
        "from sklearn.feature_selection import chi2\n",
        "# train the algorism\n",
        "\n",
        "bestfeatures = SelectKBest(score_func=chi2, k=10)\n",
        "fit = bestfeatures.fit(X_train_res,y_train_res)\n",
        "dfscores = pd.DataFrame(fit.scores_)\n",
        "dfcolumns = pd.DataFrame(X.columns)\n",
        "#concat two dataframes for better visualization \n",
        "featureScores = pd.concat([dfcolumns,dfscores],axis=1)\n",
        "featureScores.columns = ['element','Score']  #naming the dataframe columns\n",
        "featureScores = featureScores.sort_values(by='Score', ascending=False) # set the order from high to low\n",
        "featureScores.T"
      ],
      "execution_count": null,
      "outputs": [
        {
          "output_type": "execute_result",
          "data": {
            "text/html": [
              "<div>\n",
              "<style scoped>\n",
              "    .dataframe tbody tr th:only-of-type {\n",
              "        vertical-align: middle;\n",
              "    }\n",
              "\n",
              "    .dataframe tbody tr th {\n",
              "        vertical-align: top;\n",
              "    }\n",
              "\n",
              "    .dataframe thead th {\n",
              "        text-align: right;\n",
              "    }\n",
              "</style>\n",
              "<table border=\"1\" class=\"dataframe\">\n",
              "  <thead>\n",
              "    <tr style=\"text-align: right;\">\n",
              "      <th></th>\n",
              "      <th>3</th>\n",
              "      <th>1</th>\n",
              "      <th>2</th>\n",
              "      <th>9</th>\n",
              "      <th>7</th>\n",
              "      <th>5</th>\n",
              "      <th>8</th>\n",
              "      <th>6</th>\n",
              "      <th>4</th>\n",
              "      <th>10</th>\n",
              "      <th>0</th>\n",
              "    </tr>\n",
              "  </thead>\n",
              "  <tbody>\n",
              "    <tr>\n",
              "      <th>element</th>\n",
              "      <td>NAME_INCOME_TYPE</td>\n",
              "      <td>FLAG_OWN_CAR</td>\n",
              "      <td>FLAG_OWN_REALTY</td>\n",
              "      <td>FLAG_EMAIL</td>\n",
              "      <td>FLAG_WORK_PHONE</td>\n",
              "      <td>NAME_FAMILY_STATUS</td>\n",
              "      <td>FLAG_PHONE</td>\n",
              "      <td>NAME_HOUSING_TYPE</td>\n",
              "      <td>NAME_EDUCATION_TYPE</td>\n",
              "      <td>CNT_FAM_MEMBERS</td>\n",
              "      <td>CODE_GENDER</td>\n",
              "    </tr>\n",
              "    <tr>\n",
              "      <th>Score</th>\n",
              "      <td>1204.51</td>\n",
              "      <td>1010.99</td>\n",
              "      <td>674.122</td>\n",
              "      <td>607.514</td>\n",
              "      <td>432.368</td>\n",
              "      <td>371.52</td>\n",
              "      <td>345.778</td>\n",
              "      <td>224.69</td>\n",
              "      <td>211.915</td>\n",
              "      <td>186.728</td>\n",
              "      <td>140.689</td>\n",
              "    </tr>\n",
              "  </tbody>\n",
              "</table>\n",
              "</div>"
            ],
            "text/plain": [
              "                       3             1                2           9   \\\n",
              "element  NAME_INCOME_TYPE  FLAG_OWN_CAR  FLAG_OWN_REALTY  FLAG_EMAIL   \n",
              "Score             1204.51       1010.99          674.122     607.514   \n",
              "\n",
              "                      7                   5           8                  6   \\\n",
              "element  FLAG_WORK_PHONE  NAME_FAMILY_STATUS  FLAG_PHONE  NAME_HOUSING_TYPE   \n",
              "Score            432.368              371.52     345.778             224.69   \n",
              "\n",
              "                          4                10           0   \n",
              "element  NAME_EDUCATION_TYPE  CNT_FAM_MEMBERS  CODE_GENDER  \n",
              "Score                211.915          186.728      140.689  "
            ]
          },
          "metadata": {
            "tags": []
          },
          "execution_count": 52
        }
      ]
    },
    {
      "cell_type": "code",
      "metadata": {
        "colab": {
          "base_uri": "https://localhost:8080/",
          "height": 467
        },
        "id": "Um9P9rxeqAZN",
        "outputId": "ad58158d-22d8-49f7-8a72-2f5e29045af4"
      },
      "source": [
        "# plot sort importance features\n",
        "plt.figure(figsize=(20,5))\n",
        "plt.xticks(rotation=90)\n",
        "sns.barplot(x='element', y='Score', data= featureScores)\n",
        "plt.box(False)\n",
        "plt.xlabel('Features', fontsize=16)\n",
        "plt.ylabel('Importance',fontsize=16)\n",
        "plt.title('Target Customer')\n",
        "plt.show()"
      ],
      "execution_count": null,
      "outputs": [
        {
          "output_type": "display_data",
          "data": {
            "image/png": "[encoded data removed]",
            "text/plain": [
              "<Figure size 1440x360 with 1 Axes>"
            ]
          },
          "metadata": {
            "tags": [],
            "needs_background": "light"
          }
        }
      ]
    },
    {
      "cell_type": "markdown",
      "metadata": {
        "id": "o5j4wFDn33fE"
      },
      "source": [
        "Based on the score, we choose the 3 most important categorical features.\n"
      ]
    },
    {
      "cell_type": "markdown",
      "metadata": {
        "id": "8GRwiaRrRwAG"
      },
      "source": [
        "Combining our analysis of both features from numerical and categorical variables.\n",
        "We choose features as follows:\n",
        "- NAME_INCOME_TYPE\t\n",
        "- FLAG_OWN_CAR\t\n",
        "- FLAG_OWN_REALITY\n",
        "- 'CNT_CHILDREN'\n",
        "- 'YEARS_EMPLOYED'\n",
        "- AGE\n"
      ]
    },
    {
      "cell_type": "markdown",
      "metadata": {
        "id": "Y5vY92mgTQ9-"
      },
      "source": [
        "Inorder to confirm the features we selected is valid, we will import the real probability of defaulter credit card dataset to compare the feature importance since the response of default is true."
      ]
    },
    {
      "cell_type": "code",
      "metadata": {
        "colab": {
          "base_uri": "https://localhost:8080/",
          "height": 206
        },
        "id": "RtjI-2-ZTQTy",
        "outputId": "43d5a632-a0b0-4254-adb3-d6a7d921569f"
      },
      "source": [
        "import pandas as pd\n",
        "df_default = pd.read_excel(\"https://archive.ics.uci.edu/ml/machine-learning-databases/00350/default%20of%20credit%20card%20clients.xls\", header =1)\n",
        "df_default.head(3) "
      ],
      "execution_count": null,
      "outputs": [
        {
          "output_type": "execute_result",
          "data": {
            "text/html": [
              "<div>\n",
              "<style scoped>\n",
              "    .dataframe tbody tr th:only-of-type {\n",
              "        vertical-align: middle;\n",
              "    }\n",
              "\n",
              "    .dataframe tbody tr th {\n",
              "        vertical-align: top;\n",
              "    }\n",
              "\n",
              "    .dataframe thead th {\n",
              "        text-align: right;\n",
              "    }\n",
              "</style>\n",
              "<table border=\"1\" class=\"dataframe\">\n",
              "  <thead>\n",
              "    <tr style=\"text-align: right;\">\n",
              "      <th></th>\n",
              "      <th>ID</th>\n",
              "      <th>LIMIT_BAL</th>\n",
              "      <th>SEX</th>\n",
              "      <th>EDUCATION</th>\n",
              "      <th>MARRIAGE</th>\n",
              "      <th>AGE</th>\n",
              "      <th>PAY_0</th>\n",
              "      <th>PAY_2</th>\n",
              "      <th>PAY_3</th>\n",
              "      <th>PAY_4</th>\n",
              "      <th>...</th>\n",
              "      <th>BILL_AMT4</th>\n",
              "      <th>BILL_AMT5</th>\n",
              "      <th>BILL_AMT6</th>\n",
              "      <th>PAY_AMT1</th>\n",
              "      <th>PAY_AMT2</th>\n",
              "      <th>PAY_AMT3</th>\n",
              "      <th>PAY_AMT4</th>\n",
              "      <th>PAY_AMT5</th>\n",
              "      <th>PAY_AMT6</th>\n",
              "      <th>default payment next month</th>\n",
              "    </tr>\n",
              "  </thead>\n",
              "  <tbody>\n",
              "    <tr>\n",
              "      <th>0</th>\n",
              "      <td>1</td>\n",
              "      <td>20000</td>\n",
              "      <td>2</td>\n",
              "      <td>2</td>\n",
              "      <td>1</td>\n",
              "      <td>24</td>\n",
              "      <td>2</td>\n",
              "      <td>2</td>\n",
              "      <td>-1</td>\n",
              "      <td>-1</td>\n",
              "      <td>...</td>\n",
              "      <td>0</td>\n",
              "      <td>0</td>\n",
              "      <td>0</td>\n",
              "      <td>0</td>\n",
              "      <td>689</td>\n",
              "      <td>0</td>\n",
              "      <td>0</td>\n",
              "      <td>0</td>\n",
              "      <td>0</td>\n",
              "      <td>1</td>\n",
              "    </tr>\n",
              "    <tr>\n",
              "      <th>1</th>\n",
              "      <td>2</td>\n",
              "      <td>120000</td>\n",
              "      <td>2</td>\n",
              "      <td>2</td>\n",
              "      <td>2</td>\n",
              "      <td>26</td>\n",
              "      <td>-1</td>\n",
              "      <td>2</td>\n",
              "      <td>0</td>\n",
              "      <td>0</td>\n",
              "      <td>...</td>\n",
              "      <td>3272</td>\n",
              "      <td>3455</td>\n",
              "      <td>3261</td>\n",
              "      <td>0</td>\n",
              "      <td>1000</td>\n",
              "      <td>1000</td>\n",
              "      <td>1000</td>\n",
              "      <td>0</td>\n",
              "      <td>2000</td>\n",
              "      <td>1</td>\n",
              "    </tr>\n",
              "    <tr>\n",
              "      <th>2</th>\n",
              "      <td>3</td>\n",
              "      <td>90000</td>\n",
              "      <td>2</td>\n",
              "      <td>2</td>\n",
              "      <td>2</td>\n",
              "      <td>34</td>\n",
              "      <td>0</td>\n",
              "      <td>0</td>\n",
              "      <td>0</td>\n",
              "      <td>0</td>\n",
              "      <td>...</td>\n",
              "      <td>14331</td>\n",
              "      <td>14948</td>\n",
              "      <td>15549</td>\n",
              "      <td>1518</td>\n",
              "      <td>1500</td>\n",
              "      <td>1000</td>\n",
              "      <td>1000</td>\n",
              "      <td>1000</td>\n",
              "      <td>5000</td>\n",
              "      <td>0</td>\n",
              "    </tr>\n",
              "  </tbody>\n",
              "</table>\n",
              "<p>3 rows × 25 columns</p>\n",
              "</div>"
            ],
            "text/plain": [
              "   ID  LIMIT_BAL  SEX  EDUCATION  MARRIAGE  AGE  PAY_0  PAY_2  PAY_3  PAY_4  \\\n",
              "0   1      20000    2          2         1   24      2      2     -1     -1   \n",
              "1   2     120000    2          2         2   26     -1      2      0      0   \n",
              "2   3      90000    2          2         2   34      0      0      0      0   \n",
              "\n",
              "   ...  BILL_AMT4  BILL_AMT5  BILL_AMT6  PAY_AMT1  PAY_AMT2  PAY_AMT3  \\\n",
              "0  ...          0          0          0         0       689         0   \n",
              "1  ...       3272       3455       3261         0      1000      1000   \n",
              "2  ...      14331      14948      15549      1518      1500      1000   \n",
              "\n",
              "   PAY_AMT4  PAY_AMT5  PAY_AMT6  default payment next month  \n",
              "0         0         0         0                           1  \n",
              "1      1000         0      2000                           1  \n",
              "2      1000      1000      5000                           0  \n",
              "\n",
              "[3 rows x 25 columns]"
            ]
          },
          "metadata": {
            "tags": []
          },
          "execution_count": 54
        }
      ]
    },
    {
      "cell_type": "markdown",
      "metadata": {
        "id": "tF0P8gPf2m8J"
      },
      "source": [
        "### Data Attribution:\n",
        "X1: Amount of the given credit (NT dollar): it includes both the individual consumer credit and his/her family (supplementary) credit.\n",
        "\n",
        "X2: Gender (1 = male; 2 = female). \n",
        "\n",
        "X3: Education (1 = graduate school; 2 = university; 3 = high school; 4 = others). \n",
        "\n",
        "X4: Marital status (1 = married; 2 = single; 3 = others). \n",
        "\n",
        "X5: Age (year). \n",
        "\n",
        "X6 - X11: History of past payment. We tracked the past monthly payment records (from April to September, 2005) as follows: X6 = the repayment status in September, 2005; X7 = the repayment status in August, 2005; . . .;X11 = the repayment status in April, 2005. The measurement scale for the repayment status is: -1 = pay duly; 1 = payment delay for one month; 2 = payment delay for two months; . . .; 8 = payment delay for eight months; 9 = payment delay for nine months and above. \n",
        "\n",
        "X12-X17: Amount of bill statement (NT dollar). X12 = amount of bill statement in September, 2005; X13 = amount of bill statement in August, 2005; . . .; X17 = amount of bill statement in April, 2005. \n",
        "\n",
        "X18-X23: Amount of previous payment (NT dollar). X18 = amount paid in September, 2005; X19 = amount paid in August, 2005; . . .;X23 = amount paid in April, 2005. "
      ]
    },
    {
      "cell_type": "code",
      "metadata": {
        "id": "CLtxU7-W2m8J",
        "outputId": "2d5577fd-46db-42c6-b2ec-6c11c0b619d2"
      },
      "source": [
        "df_default.info()"
      ],
      "execution_count": null,
      "outputs": [
        {
          "output_type": "stream",
          "text": [
            "<class 'pandas.core.frame.DataFrame'>\n",
            "RangeIndex: 30000 entries, 0 to 29999\n",
            "Data columns (total 25 columns):\n",
            " #   Column                      Non-Null Count  Dtype\n",
            "---  ------                      --------------  -----\n",
            " 0   ID                          30000 non-null  int64\n",
            " 1   LIMIT_BAL                   30000 non-null  int64\n",
            " 2   SEX                         30000 non-null  int64\n",
            " 3   EDUCATION                   30000 non-null  int64\n",
            " 4   MARRIAGE                    30000 non-null  int64\n",
            " 5   AGE                         30000 non-null  int64\n",
            " 6   PAY_0                       30000 non-null  int64\n",
            " 7   PAY_2                       30000 non-null  int64\n",
            " 8   PAY_3                       30000 non-null  int64\n",
            " 9   PAY_4                       30000 non-null  int64\n",
            " 10  PAY_5                       30000 non-null  int64\n",
            " 11  PAY_6                       30000 non-null  int64\n",
            " 12  BILL_AMT1                   30000 non-null  int64\n",
            " 13  BILL_AMT2                   30000 non-null  int64\n",
            " 14  BILL_AMT3                   30000 non-null  int64\n",
            " 15  BILL_AMT4                   30000 non-null  int64\n",
            " 16  BILL_AMT5                   30000 non-null  int64\n",
            " 17  BILL_AMT6                   30000 non-null  int64\n",
            " 18  PAY_AMT1                    30000 non-null  int64\n",
            " 19  PAY_AMT2                    30000 non-null  int64\n",
            " 20  PAY_AMT3                    30000 non-null  int64\n",
            " 21  PAY_AMT4                    30000 non-null  int64\n",
            " 22  PAY_AMT5                    30000 non-null  int64\n",
            " 23  PAY_AMT6                    30000 non-null  int64\n",
            " 24  default payment next month  30000 non-null  int64\n",
            "dtypes: int64(25)\n",
            "memory usage: 5.7 MB\n"
          ],
          "name": "stdout"
        }
      ]
    },
    {
      "cell_type": "code",
      "metadata": {
        "id": "cU9EjmZU2m8K",
        "outputId": "68319d8e-5dde-49d8-b6e7-de2f0c020fca"
      },
      "source": [
        "df_default['default payment next month'].value_counts()"
      ],
      "execution_count": null,
      "outputs": [
        {
          "output_type": "execute_result",
          "data": {
            "text/plain": [
              "0    23364\n",
              "1     6636\n",
              "Name: default payment next month, dtype: int64"
            ]
          },
          "metadata": {
            "tags": []
          },
          "execution_count": 89
        }
      ]
    },
    {
      "cell_type": "code",
      "metadata": {
        "id": "9avAzKRO2m8K",
        "outputId": "340be401-768c-4c82-9d94-03857ac26f27"
      },
      "source": [
        "df_default.groupby('default payment next month').AGE.hist()\n"
      ],
      "execution_count": null,
      "outputs": [
        {
          "output_type": "execute_result",
          "data": {
            "text/plain": [
              "default payment next month\n",
              "0    AxesSubplot(0.125,0.125;0.775x0.755)\n",
              "1    AxesSubplot(0.125,0.125;0.775x0.755)\n",
              "Name: AGE, dtype: object"
            ]
          },
          "metadata": {
            "tags": []
          },
          "execution_count": 93
        },
        {
          "output_type": "display_data",
          "data": {
            "image/png": "[encoded data removed]",
            "text/plain": [
              "<Figure size 432x288 with 1 Axes>"
            ]
          },
          "metadata": {
            "tags": [],
            "needs_background": "light"
          }
        }
      ]
    },
    {
      "cell_type": "markdown",
      "metadata": {
        "id": "6kgScRD32m8K"
      },
      "source": [
        "The qualifier age are seemly focus on 30-40 years old"
      ]
    },
    {
      "cell_type": "code",
      "metadata": {
        "id": "_v1Ae4U62m8K"
      },
      "source": [
        "# categorized data\n",
        "default_cat_data= df_default[['SEX','EDUCATION','MARRIAGE']]"
      ],
      "execution_count": null,
      "outputs": []
    },
    {
      "cell_type": "code",
      "metadata": {
        "id": "AkZg2ZUd2m8L",
        "outputId": "a5a44a00-8c82-4b43-a5e2-80880f1e3c6d"
      },
      "source": [
        "#plot categorical data\n",
        "fig, axes =plt.subplots(1,3, figsize=(15,5))\n",
        "axes = axes.flatten()\n",
        "\n",
        "for ax, catplot in zip(axes, default_cat_data):\n",
        "    gragh = sns.countplot(y=catplot, data=df_default, ax=ax, hue = 'default payment next month')\n",
        "plt.tight_layout()  \n",
        "plt.show()"
      ],
      "execution_count": null,
      "outputs": [
        {
          "output_type": "display_data",
          "data": {
            "image/png": "[encoded data removed]",
            "text/plain": [
              "<Figure size 1080x360 with 3 Axes>"
            ]
          },
          "metadata": {
            "tags": [],
            "needs_background": "light"
          }
        }
      ]
    },
    {
      "cell_type": "markdown",
      "metadata": {
        "id": "o9_Tzv7E2m8L"
      },
      "source": [
        "Chi-square the second dataset"
      ]
    },
    {
      "cell_type": "code",
      "metadata": {
        "id": "V2xllHjv1IXU"
      },
      "source": [
        "X = default_cat_data\n",
        "y = df_default['default payment next month']"
      ],
      "execution_count": null,
      "outputs": []
    },
    {
      "cell_type": "code",
      "metadata": {
        "colab": {
          "base_uri": "https://localhost:8080/"
        },
        "id": "8d5JFfLU02n4",
        "outputId": "60605dd5-a64d-4a9e-befe-782690bb603a"
      },
      "source": [
        "print(\"Before OverSampling, counts of label '1': {}\".format(sum(y == 1))) \n",
        "print(\"Before OverSampling, counts of label '0': {} \\n\".format(sum(y == 0)))  \n",
        "\n",
        "# import SMOTE module from imblearn library \n",
        "# pip install imblearn \n",
        "from imblearn.over_sampling import SMOTE \n",
        "sm = SMOTE(random_state = 2) \n",
        "X_train_res, y_train_res = sm.fit_sample(X, y.ravel()) \n",
        "  \n",
        "print('After OverSampling, the shape of train_X: {}'.format(X_train_res.shape)) \n",
        "print('After OverSampling, the shape of train_y: {} \\n'.format(y_train_res.shape)) \n",
        "  \n",
        "print(\"After OverSampling, counts of label '1': {}\".format(sum(y_train_res == 1))) \n",
        "print(\"After OverSampling, counts of label '0': {}\".format(sum(y_train_res == 0)))  "
      ],
      "execution_count": null,
      "outputs": [
        {
          "output_type": "stream",
          "text": [
            "Before OverSampling, counts of label '1': 6636\n",
            "Before OverSampling, counts of label '0': 23364 \n",
            "\n",
            "After OverSampling, the shape of train_X: (46728, 3)\n",
            "After OverSampling, the shape of train_y: (46728,) \n",
            "\n",
            "After OverSampling, counts of label '1': 23364\n",
            "After OverSampling, counts of label '0': 23364\n"
          ],
          "name": "stdout"
        }
      ]
    },
    {
      "cell_type": "code",
      "metadata": {
        "colab": {
          "base_uri": "https://localhost:8080/"
        },
        "id": "nBOP75aH2yvq",
        "outputId": "9271c5d8-6987-4a6b-93c7-069fe9339d4e"
      },
      "source": [
        "from sklearn.model_selection import train_test_split\n",
        "\n",
        "#The data is divided into training set and test set\n",
        "X_train,X_test,Y_train,Y_test = train_test_split(X_train_res,y_train_res,test_size = 0.3,random_state = 1)\n",
        "print(X_train.shape)\n",
        "print(Y_train.shape)\n",
        "print(X_test.shape)\n",
        "print(Y_test.shape)"
      ],
      "execution_count": null,
      "outputs": [
        {
          "output_type": "stream",
          "text": [
            "(32709, 3)\n",
            "(32709,)\n",
            "(14019, 3)\n",
            "(14019,)\n"
          ],
          "name": "stdout"
        }
      ]
    },
    {
      "cell_type": "code",
      "metadata": {
        "colab": {
          "base_uri": "https://localhost:8080/",
          "height": 106
        },
        "id": "T34t7mmn21Xv",
        "outputId": "267c46ab-55b2-409e-e41b-6db4011780e7"
      },
      "source": [
        "from sklearn.feature_selection import SelectKBest\n",
        "from sklearn.feature_selection import chi2\n",
        "\n",
        "bestfeatures = SelectKBest(score_func=chi2, k='all')\n",
        "fit = bestfeatures.fit(X_train_res,y_train_res)\n",
        "dfscores = pd.DataFrame(fit.scores_)\n",
        "dfcolumns = pd.DataFrame(X.columns)\n",
        "#concat two dataframes for better visualization \n",
        "featureScores = pd.concat([dfcolumns,dfscores],axis=1)\n",
        "featureScores.columns = ['element','Score']  #naming the dataframe columns\n",
        "featureScores = featureScores.sort_values(by='Score', ascending=False) # set the order from high to low\n",
        "featureScores.T"
      ],
      "execution_count": null,
      "outputs": [
        {
          "output_type": "execute_result",
          "data": {
            "text/html": [
              "<div>\n",
              "<style scoped>\n",
              "    .dataframe tbody tr th:only-of-type {\n",
              "        vertical-align: middle;\n",
              "    }\n",
              "\n",
              "    .dataframe tbody tr th {\n",
              "        vertical-align: top;\n",
              "    }\n",
              "\n",
              "    .dataframe thead th {\n",
              "        text-align: right;\n",
              "    }\n",
              "</style>\n",
              "<table border=\"1\" class=\"dataframe\">\n",
              "  <thead>\n",
              "    <tr style=\"text-align: right;\">\n",
              "      <th></th>\n",
              "      <th>0</th>\n",
              "      <th>1</th>\n",
              "      <th>2</th>\n",
              "    </tr>\n",
              "  </thead>\n",
              "  <tbody>\n",
              "    <tr>\n",
              "      <th>element</th>\n",
              "      <td>SEX</td>\n",
              "      <td>EDUCATION</td>\n",
              "      <td>MARRIAGE</td>\n",
              "    </tr>\n",
              "    <tr>\n",
              "      <th>Score</th>\n",
              "      <td>14.7382</td>\n",
              "      <td>13.3635</td>\n",
              "      <td>6.52283</td>\n",
              "    </tr>\n",
              "  </tbody>\n",
              "</table>\n",
              "</div>"
            ],
            "text/plain": [
              "               0          1         2\n",
              "element      SEX  EDUCATION  MARRIAGE\n",
              "Score    14.7382    13.3635   6.52283"
            ]
          },
          "metadata": {
            "tags": []
          },
          "execution_count": 97
        }
      ]
    },
    {
      "cell_type": "code",
      "metadata": {
        "id": "4kjmgEdq2m8M",
        "outputId": "e9ede593-3a56-4558-815d-8cbde6d1b42e"
      },
      "source": [
        "plt.figure(figsize=(20,5))\n",
        "plt.xticks(rotation=0)\n",
        "sns.barplot(x='element', y='Score', data= featureScores)\n",
        "plt.box(False)\n",
        "plt.xlabel('Features', fontsize=16)\n",
        "plt.ylabel('Importance',fontsize=16)\n",
        "plt.title('Target Customer')\n",
        "plt.show()"
      ],
      "execution_count": null,
      "outputs": [
        {
          "output_type": "display_data",
          "data": {
            "image/png": "[encoded data removed]",
            "text/plain": [
              "<Figure size 1440x360 with 1 Axes>"
            ]
          },
          "metadata": {
            "tags": [],
            "needs_background": "light"
          }
        }
      ]
    },
    {
      "cell_type": "markdown",
      "metadata": {
        "id": "amYTD2JD2m8M"
      },
      "source": [
        "Based on above information, I will add Education and Age into the features."
      ]
    },
    {
      "cell_type": "markdown",
      "metadata": {
        "id": "-EiExa7OLP-C"
      },
      "source": [
        "## Machine Learning Models"
      ]
    },
    {
      "cell_type": "markdown",
      "metadata": {
        "id": "5P5rqW7M2Nc1"
      },
      "source": [
        "Creating features and target and balancing the data using SMOTE to sdjust the imbalanced dataset."
      ]
    },
    {
      "cell_type": "code",
      "metadata": {
        "id": "Y5zXI6rEfKnw"
      },
      "source": [
        "#pick  features for modeling\n",
        "X = df_record[['NAME_INCOME_TYPE','FLAG_OWN_REALTY','NAME_FAMILY_STATUS','NAME_EDUCATION_TYPE','CNT_FAM_MEMBERS','CNT_CHILDREN','AGE','YEARS_EMPLOYED']]# \n",
        "\n",
        "y = df_record['STATUS']"
      ],
      "execution_count": null,
      "outputs": []
    },
    {
      "cell_type": "code",
      "metadata": {
        "colab": {
          "base_uri": "https://localhost:8080/"
        },
        "id": "bOlxsm6Bf5bT",
        "outputId": "a5b86caa-0955-47cc-f47d-cba04f5ba78f"
      },
      "source": [
        "print(\"Before OverSampling, counts of label '1': {}\".format(sum(y == 1))) \n",
        "print(\"Before OverSampling, counts of label '0': {} \\n\".format(sum(y == 0))) \n",
        "print(\"Before OverSampling, counts of label '2': {} \\n\".format(sum(y == 2))) \n",
        "\n",
        "# import SMOTE module from imblearn library \n",
        "# pip install imblearn (if you don't have imblearn in your system) \n",
        "from imblearn.over_sampling import SMOTE \n",
        "sm = SMOTE(random_state = 2) \n",
        "X_train_res, y_train_res = sm.fit_sample(X, y.ravel()) \n",
        "  \n",
        "print('After OverSampling, the shape of train_X: {}'.format(X_train_res.shape)) \n",
        "print('After OverSampling, the shape of train_y: {} \\n'.format(y_train_res.shape)) \n",
        "  \n",
        "print(\"After OverSampling, counts of label '1': {}\".format(sum(y_train_res == 1))) \n",
        "print(\"After OverSampling, counts of label '0': {}\".format(sum(y_train_res == 0))) \n",
        "print(\"After OverSampling, counts of label '2': {}\".format(sum(y_train_res == 2))) "
      ],
      "execution_count": null,
      "outputs": [
        {
          "output_type": "stream",
          "text": [
            "Before OverSampling, counts of label '1': 4455\n",
            "Before OverSampling, counts of label '0': 31700 \n",
            "\n",
            "Before OverSampling, counts of label '2': 302 \n",
            "\n",
            "After OverSampling, the shape of train_X: (95100, 8)\n",
            "After OverSampling, the shape of train_y: (95100,) \n",
            "\n",
            "After OverSampling, counts of label '1': 31700\n",
            "After OverSampling, counts of label '0': 31700\n",
            "After OverSampling, counts of label '2': 31700\n"
          ],
          "name": "stdout"
        }
      ]
    },
    {
      "cell_type": "code",
      "metadata": {
        "id": "22Vgqp2tNObu"
      },
      "source": [
        "from sklearn.model_selection import train_test_split\n",
        "X_train, X_test, y_train, y_test = train_test_split(X_train_res,y_train_res,test_size=0.3, random_state=21)"
      ],
      "execution_count": null,
      "outputs": []
    },
    {
      "cell_type": "code",
      "metadata": {
        "colab": {
          "base_uri": "https://localhost:8080/"
        },
        "id": "1WROEWoe7KXR",
        "outputId": "5def97b1-3f19-4cc3-8404-8315fae5e4ac"
      },
      "source": [
        "print(\"X_train\", X_train.shape)\n",
        "print(\"X_test\", X_test.shape)\n",
        "print(\"y_train\", y_train.shape)\n",
        "print(\"y_test\", y_test.shape)"
      ],
      "execution_count": null,
      "outputs": [
        {
          "output_type": "stream",
          "text": [
            "X_train (66570, 8)\n",
            "X_test (28530, 8)\n",
            "y_train (66570,)\n",
            "y_test (28530,)\n"
          ],
          "name": "stdout"
        }
      ]
    },
    {
      "cell_type": "markdown",
      "metadata": {
        "id": "6-FZyG-FotCb"
      },
      "source": [
        "Now we will start the model building. The one reason we list these  varieties of algorithms are based on the requirement of ensembling model. To gurantee the performance of the Ensemble model, we need to let base models to be diverse and independant. Thus can reduce the prediction error. "
      ]
    },
    {
      "cell_type": "markdown",
      "metadata": {
        "id": "ES1A3VibcpQA"
      },
      "source": [
        "Before we start all models, we would like to mention the general process we did for models. We either use algorithm or choose manually for hyperparameters. For the training part, we use cross validation to test how well model fits the training data. We use fold crossvalidation for its low bias and modest variance."
      ]
    },
    {
      "cell_type": "code",
      "metadata": {
        "id": "eLg-dfh2WsYz"
      },
      "source": [
        "# Classification\n",
        "from sklearn.metrics import accuracy_score,precision_score,recall_score,f1_score  \n",
        "from sklearn.model_selection import cross_val_score"
      ],
      "execution_count": null,
      "outputs": []
    },
    {
      "cell_type": "code",
      "metadata": {
        "id": "ESRO4uvYAG-r"
      },
      "source": [
        "from sklearn.metrics import confusion_matrix\n",
        "from sklearn import metrics\n",
        "from sklearn.metrics import classification_report\n",
        "from sklearn.metrics import roc_auc_score\n",
        "from sklearn.metrics import roc_curve\n",
        "from matplotlib import pyplot"
      ],
      "execution_count": null,
      "outputs": []
    },
    {
      "cell_type": "code",
      "metadata": {
        "id": "73Lj55voXAkf"
      },
      "source": [
        "# Collect all scores and mean accuracy\n",
        "Scores = []\n",
        "CV_Scores = []\n",
        "Accuracy = []\n",
        "Precision = []\n",
        "Recall = []\n",
        "F1_score = []\n",
        "Roc_auc_score = []\n",
        "models = ['logistic regression', 'Random Forest']"
      ],
      "execution_count": null,
      "outputs": []
    },
    {
      "cell_type": "markdown",
      "metadata": {
        "id": "0OH0TDkvNd22"
      },
      "source": [
        "In the model part, we choose Logistic regression and Random forest and do a comparison to choose the best one.\n",
        "\n",
        "We start with simplest model for categorical variable, logistic regression.  "
      ]
    },
    {
      "cell_type": "markdown",
      "metadata": {
        "id": "m7N4l0PLNovy"
      },
      "source": [
        "### Logistic regression"
      ]
    },
    {
      "cell_type": "code",
      "metadata": {
        "colab": {
          "base_uri": "https://localhost:8080/"
        },
        "id": "rCqM7WbZbS-V",
        "outputId": "97b2bef5-54ec-4bdb-cee1-4f9540565484"
      },
      "source": [
        "#Creating the dependent variable class\n",
        "factor = pd.factorize(df_record['STATUS'])\n",
        "df_record.STATUS = factor[0]\n",
        "definitions = factor[1]\n",
        "print(df_record.STATUS.head())\n",
        "print(definitions)"
      ],
      "execution_count": null,
      "outputs": [
        {
          "output_type": "stream",
          "text": [
            "0    0\n",
            "1    0\n",
            "2    0\n",
            "3    0\n",
            "4    1\n",
            "Name: STATUS, dtype: int64\n",
            "Int64Index([0, 1, 2], dtype='int64')\n"
          ],
          "name": "stdout"
        }
      ]
    },
    {
      "cell_type": "markdown",
      "metadata": {
        "id": "VDUXa03B2m8P"
      },
      "source": [
        "After building the model, I will test my model by looking at the Confusion Matrix"
      ]
    },
    {
      "cell_type": "code",
      "metadata": {
        "colab": {
          "base_uri": "https://localhost:8080/"
        },
        "id": "KX98j4xBbvtM",
        "outputId": "c6e09fc2-36f0-4f18-f039-5e75553e7602"
      },
      "source": [
        "from sklearn.linear_model import LogisticRegression\n",
        "\n",
        "# Start with multi class logistic regression\n",
        "Model_LogReg = LogisticRegression(random_state=0, multi_class='multinomial', penalty='none', solver='newton-cg')\n",
        "Model_LogReg.fit(X_train, y_train)\n",
        "\n",
        "# Predicting the Test set results\n",
        "LR_y_pred = Model_LogReg.predict(X_test)\n",
        "#Reverse factorize (converting y_pred from 0s,1s and 2s to Iris-setosa, Iris-versicolor and Iris-virginica\n",
        "reversefactor = dict(zip(range(3),definitions))\n",
        "y_test = np.vectorize(reversefactor.get)(y_test)\n",
        "LR_y_pred = np.vectorize(reversefactor.get)(LR_y_pred)\n",
        "# Making the Confusion Matrix\n",
        "print(pd.crosstab(y_test, LR_y_pred, rownames=['Actual Species'], colnames=['Predicted Species']))"
      ],
      "execution_count": null,
      "outputs": [
        {
          "output_type": "stream",
          "text": [
            "Predicted Species     0     1     2\n",
            "Actual Species                     \n",
            "0                  4077  2795  2680\n",
            "1                  3361  2759  3335\n",
            "2                  2069  2051  5403\n"
          ],
          "name": "stdout"
        }
      ]
    },
    {
      "cell_type": "code",
      "metadata": {
        "colab": {
          "base_uri": "https://localhost:8080/"
        },
        "id": "qudmXe1INkY9",
        "outputId": "0a59d887-b934-4dad-e6bb-ad2cbf380c01"
      },
      "source": [
        "# fold validation\n",
        "cv_score = cross_val_score(estimator = Model_LogReg, X = X_train, y = y_train, cv = 5,verbose = 1)\n",
        "\n",
        "print('###### Logistic Regression ######')\n",
        "print('Score : %.4f' % Model_LogReg.score(X_test, y_test))\n",
        "print('cv_score : %.4f' % cv_score.mean())\n",
        "print('Accuracy:', 100* accuracy_score(y_test,LR_y_pred))\n",
        "print('Precision:', 100* precision_score(y_test,LR_y_pred,average='weighted')) # for imbalanced data\n",
        "print('Recall:', 100* recall_score(y_test,LR_y_pred,average='weighted'))\n",
        "print('F1-score:', 100* f1_score(y_test,LR_y_pred,average='weighted'))\n",
        "Accuracy.append(100* accuracy_score(y_test,LR_y_pred))\n",
        "Precision.append(100* precision_score(y_test,LR_y_pred,average='weighted'))\n",
        "Recall.append(100* recall_score(y_test,LR_y_pred,average='weighted'))\n",
        "F1_score.append(100* f1_score(y_test,LR_y_pred,average='weighted'))\n",
        "CV_Scores.append(cv_score.mean())\n",
        "Scores.append(Model_LogReg.score(X_test, y_test))"
      ],
      "execution_count": null,
      "outputs": [
        {
          "output_type": "stream",
          "text": [
            "[Parallel(n_jobs=1)]: Using backend SequentialBackend with 1 concurrent workers.\n"
          ],
          "name": "stderr"
        },
        {
          "output_type": "stream",
          "text": [
            "###### Logistic Regression ######\n",
            "Score : 0.4290\n",
            "cv_score : 0.4345\n",
            "Accuracy: 42.898703119523304\n",
            "Precision: 42.17574700636089\n",
            "Recall: 42.898703119523304\n",
            "F1-score: 42.26738251317089\n"
          ],
          "name": "stdout"
        },
        {
          "output_type": "stream",
          "text": [
            "[Parallel(n_jobs=1)]: Done   5 out of   5 | elapsed:   14.7s finished\n"
          ],
          "name": "stderr"
        }
      ]
    },
    {
      "cell_type": "markdown",
      "metadata": {
        "id": "7R1TDSAjOzUH"
      },
      "source": [
        "It is not satisfying since the result is lower than the random guess of null error rate.\n",
        "\n",
        "Then we are going to build the Random Forest"
      ]
    },
    {
      "cell_type": "markdown",
      "metadata": {
        "id": "jf5lVSdgPBk_"
      },
      "source": [
        "### Random forest"
      ]
    },
    {
      "cell_type": "markdown",
      "metadata": {
        "id": "J5qaT67X9n7W"
      },
      "source": [
        "For the random forest hyperparameters tuning, one reference suggested randomforest search cv for finding hyperparameters. Since it is also a computing -expensive process on colab, we determine to choose the values manually. "
      ]
    },
    {
      "cell_type": "markdown",
      "metadata": {
        "id": "AcS-Ig1Vna5D"
      },
      "source": [
        "In this model, higher number of trees will reduce the variance of model. n_estimators means the number of trees in the forest, and the default 100 n_estimators does perform good in our model. We vary n_estimators based on one of our reference on suggestion. When the number of trees is high, it is also better for model to learn the data, due to the imbalanced nature of the dataset, we set weight to be balanced. Since higher max_depth may raise the risk of overfitting the training data, we set it to be 10 as some literature suggested."
      ]
    },
    {
      "cell_type": "code",
      "metadata": {
        "colab": {
          "base_uri": "https://localhost:8080/"
        },
        "id": "5n_6e4AuhaDs",
        "outputId": "22ef77b4-5d03-4c40-a67c-651b01cea1c5"
      },
      "source": [
        "from sklearn.ensemble import RandomForestClassifier\n",
        "# Fitting Random Forest Classification to the Training set\n",
        "RF_model = RandomForestClassifier(n_estimators = 10, criterion = 'entropy', random_state = 42)\n",
        "RF_model.fit(X_train, y_train)\n",
        "\n",
        "# Predicting the Test set results\n",
        "y_pred = RF_model.predict(X_test)\n",
        "#Reverse factorize (converting y_pred from 0s,1s and 2s to Iris-setosa, Iris-versicolor and Iris-virginica\n",
        "reversefactor = dict(zip(range(3),definitions))\n",
        "y_test = np.vectorize(reversefactor.get)(y_test)\n",
        "RF_y_pred = np.vectorize(reversefactor.get)(y_pred)\n",
        "# Making the Confusion Matrix\n",
        "print(pd.crosstab(y_test, y_pred, rownames=['Actual Species'], colnames=['Predicted Species']))"
      ],
      "execution_count": null,
      "outputs": [
        {
          "output_type": "stream",
          "text": [
            "Predicted Species     0     1     2\n",
            "Actual Species                     \n",
            "0                  7850  1361   341\n",
            "1                  1229  7836   390\n",
            "2                   178    88  9257\n"
          ],
          "name": "stdout"
        }
      ]
    },
    {
      "cell_type": "code",
      "metadata": {
        "colab": {
          "base_uri": "https://localhost:8080/"
        },
        "id": "OXxgyOU7PYRw",
        "outputId": "1a1770e8-60cd-494a-e66e-7c36e69c48ae"
      },
      "source": [
        "cv_score = cross_val_score(estimator = RF_model, X = X_train, y = y_train, cv = 5,verbose = 1)\n",
        "\n",
        "print('###### Random Forest ######')\n",
        "print('Score : %.4f' % RF_model.score(X_test, y_test))\n",
        "print('cv_score : %.4f' % cv_score.mean())\n",
        "print('Accuracy:', 100* accuracy_score(y_test,RF_y_pred))\n",
        "print('Precision:', 100* precision_score(y_test,RF_y_pred,average='weighted')) # for imbalanced data\n",
        "print('Recall:', 100* recall_score(y_test,RF_y_pred,average='weighted'))\n",
        "print('F1-score:', 100* f1_score(y_test,RF_y_pred,average='weighted'))\n",
        "Accuracy.append(100* accuracy_score(y_test,RF_y_pred))\n",
        "Precision.append(100* precision_score(y_test,RF_y_pred,average='weighted'))\n",
        "Recall.append(100* recall_score(y_test,RF_y_pred,average='weighted'))\n",
        "F1_score.append(100* f1_score(y_test,RF_y_pred,average='weighted'))\n",
        "CV_Scores.append(cv_score.mean())\n",
        "Scores.append(RF_model.score(X_test, y_test))"
      ],
      "execution_count": null,
      "outputs": [
        {
          "output_type": "stream",
          "text": [
            "[Parallel(n_jobs=1)]: Using backend SequentialBackend with 1 concurrent workers.\n",
            "[Parallel(n_jobs=1)]: Done   5 out of   5 | elapsed:    3.2s finished\n"
          ],
          "name": "stderr"
        },
        {
          "output_type": "stream",
          "text": [
            "###### Random Forest ######\n",
            "Score : 0.8743\n",
            "cv_score : 0.8633\n",
            "Accuracy: 87.4272695408342\n",
            "Precision: 87.29640550799101\n",
            "Recall: 87.4272695408342\n",
            "F1-score: 87.33467987685653\n"
          ],
          "name": "stdout"
        }
      ]
    },
    {
      "cell_type": "markdown",
      "metadata": {
        "id": "OnbEMVsj9jsL"
      },
      "source": [
        "The results has a quite satisfying value with both high accuracy and high precision."
      ]
    },
    {
      "cell_type": "markdown",
      "metadata": {
        "id": "uhQ-Q7qa_zKY"
      },
      "source": [
        "### Calculating the AUC and ROC scores"
      ]
    },
    {
      "cell_type": "code",
      "metadata": {
        "colab": {
          "base_uri": "https://localhost:8080/"
        },
        "id": "vV9tt8E7-x0O",
        "outputId": "d46d2fa3-1c3a-4b4c-ef5f-950c3bcb9d55"
      },
      "source": [
        "from sklearn import preprocessing\n",
        "lb = preprocessing.LabelBinarizer()\n",
        "lb.fit(y_test)\n",
        "y_test = lb.transform(y_test)\n",
        "LR_y_pred = lb.transform(LR_y_pred)\n",
        "LR_roc_auc_score = roc_auc_score(y_test, LR_y_pred, average=\"macro\")\n",
        "Roc_auc_score.append(100* LR_roc_auc_score)\n",
        "print(\"roc_auc_score\", LR_roc_auc_score)"
      ],
      "execution_count": null,
      "outputs": [
        {
          "output_type": "stream",
          "text": [
            "roc_auc_score 0.571559196966945\n"
          ],
          "name": "stdout"
        }
      ]
    },
    {
      "cell_type": "code",
      "metadata": {
        "colab": {
          "base_uri": "https://localhost:8080/"
        },
        "id": "Jewoz7OFYqsW",
        "outputId": "f2d3558b-b414-4741-f8a1-a41aec8995ab"
      },
      "source": [
        "from sklearn import preprocessing\n",
        "lb = preprocessing.LabelBinarizer()\n",
        "lb.fit(y_test)\n",
        "y_test = lb.transform(y_test)\n",
        "RF_y_pred = lb.transform(RF_y_pred)\n",
        "RF_roc_auc_score = roc_auc_score(y_test, RF_y_pred, average=\"macro\")\n",
        "Roc_auc_score.append(100* RF_roc_auc_score)\n",
        "print(\"roc_auc_score\", RF_roc_auc_score)"
      ],
      "execution_count": null,
      "outputs": [
        {
          "output_type": "stream",
          "text": [
            "roc_auc_score 0.905681933347537\n"
          ],
          "name": "stdout"
        }
      ]
    },
    {
      "cell_type": "markdown",
      "metadata": {
        "id": "sXws_Zn0Caye"
      },
      "source": [
        "## Model Selection"
      ]
    },
    {
      "cell_type": "code",
      "metadata": {
        "colab": {
          "base_uri": "https://localhost:8080/",
          "height": 106
        },
        "id": "P-Ag4JpNjtjS",
        "outputId": "86097a0c-5400-4538-a5a7-7ffd37957818"
      },
      "source": [
        "compare = pd.DataFrame({'Algorithms' : models , 'Scores' : Scores, 'Cross_Val' : CV_Scores, 'Accuracy(%)':Accuracy, 'Precision(%)':Precision, 'Recall(%)':Recall, 'F1-score(%)':F1_score, 'Roc_auc_score(%)': Roc_auc_score})\n",
        "compare.sort_values(by='Scores' ,ascending=False)"
      ],
      "execution_count": null,
      "outputs": [
        {
          "output_type": "execute_result",
          "data": {
            "text/html": [
              "<div>\n",
              "<style scoped>\n",
              "    .dataframe tbody tr th:only-of-type {\n",
              "        vertical-align: middle;\n",
              "    }\n",
              "\n",
              "    .dataframe tbody tr th {\n",
              "        vertical-align: top;\n",
              "    }\n",
              "\n",
              "    .dataframe thead th {\n",
              "        text-align: right;\n",
              "    }\n",
              "</style>\n",
              "<table border=\"1\" class=\"dataframe\">\n",
              "  <thead>\n",
              "    <tr style=\"text-align: right;\">\n",
              "      <th></th>\n",
              "      <th>Algorithms</th>\n",
              "      <th>Scores</th>\n",
              "      <th>Cross_Val</th>\n",
              "      <th>Accuracy(%)</th>\n",
              "      <th>Precision(%)</th>\n",
              "      <th>Recall(%)</th>\n",
              "      <th>F1-score(%)</th>\n",
              "      <th>Roc_auc_score(%)</th>\n",
              "    </tr>\n",
              "  </thead>\n",
              "  <tbody>\n",
              "    <tr>\n",
              "      <th>1</th>\n",
              "      <td>Random Forest</td>\n",
              "      <td>0.874273</td>\n",
              "      <td>0.863287</td>\n",
              "      <td>87.427270</td>\n",
              "      <td>87.296406</td>\n",
              "      <td>87.427270</td>\n",
              "      <td>87.334680</td>\n",
              "      <td>90.568193</td>\n",
              "    </tr>\n",
              "    <tr>\n",
              "      <th>0</th>\n",
              "      <td>logistic regression</td>\n",
              "      <td>0.428987</td>\n",
              "      <td>0.434535</td>\n",
              "      <td>42.898703</td>\n",
              "      <td>42.175747</td>\n",
              "      <td>42.898703</td>\n",
              "      <td>42.267383</td>\n",
              "      <td>57.155920</td>\n",
              "    </tr>\n",
              "  </tbody>\n",
              "</table>\n",
              "</div>"
            ],
            "text/plain": [
              "            Algorithms    Scores  Cross_Val  Accuracy(%)  Precision(%)  \\\n",
              "1        Random Forest  0.874273   0.863287    87.427270     87.296406   \n",
              "0  logistic regression  0.428987   0.434535    42.898703     42.175747   \n",
              "\n",
              "   Recall(%)  F1-score(%)  Roc_auc_score(%)  \n",
              "1  87.427270    87.334680         90.568193  \n",
              "0  42.898703    42.267383         57.155920  "
            ]
          },
          "metadata": {
            "tags": []
          },
          "execution_count": 120
        }
      ]
    },
    {
      "cell_type": "markdown",
      "metadata": {
        "id": "MLiw9YTmbkIx"
      },
      "source": [
        "When we compared with all the models, it is noticeable the random forest has the highest F1-score with 87%. However, the logistic regression is not suitable to be used in this dataset to predictsince it is almost close to the random score with only 42%. Therefore, we choose the random forest model to do the further exploration on our next research question.\n",
        "\n",
        "Based on the given information, determine if the applicant can be approved for the credit card? Since we've built the model, we are good to input some sample applicant data to check if the applicant will be approved a credit card. "
      ]
    },
    {
      "cell_type": "code",
      "metadata": {
        "id": "oapmhblD2m8U",
        "outputId": "ca80c3dc-cd86-44fd-e0fb-96a3d4526d80"
      },
      "source": [
        "# define input samples for prediction\n",
        "new_input = X_train.sample(5)\n",
        "new_input"
      ],
      "execution_count": null,
      "outputs": [
        {
          "output_type": "execute_result",
          "data": {
            "text/html": [
              "<div>\n",
              "<style scoped>\n",
              "    .dataframe tbody tr th:only-of-type {\n",
              "        vertical-align: middle;\n",
              "    }\n",
              "\n",
              "    .dataframe tbody tr th {\n",
              "        vertical-align: top;\n",
              "    }\n",
              "\n",
              "    .dataframe thead th {\n",
              "        text-align: right;\n",
              "    }\n",
              "</style>\n",
              "<table border=\"1\" class=\"dataframe\">\n",
              "  <thead>\n",
              "    <tr style=\"text-align: right;\">\n",
              "      <th></th>\n",
              "      <th>NAME_INCOME_TYPE</th>\n",
              "      <th>FLAG_OWN_REALTY</th>\n",
              "      <th>NAME_FAMILY_STATUS</th>\n",
              "      <th>NAME_EDUCATION_TYPE</th>\n",
              "      <th>CNT_FAM_MEMBERS</th>\n",
              "      <th>CNT_CHILDREN</th>\n",
              "      <th>AGE</th>\n",
              "      <th>YEARS_EMPLOYED</th>\n",
              "    </tr>\n",
              "  </thead>\n",
              "  <tbody>\n",
              "    <tr>\n",
              "      <th>48729</th>\n",
              "      <td>2</td>\n",
              "      <td>0</td>\n",
              "      <td>3</td>\n",
              "      <td>4</td>\n",
              "      <td>1.000000</td>\n",
              "      <td>0</td>\n",
              "      <td>42</td>\n",
              "      <td>4.350000</td>\n",
              "    </tr>\n",
              "    <tr>\n",
              "      <th>87545</th>\n",
              "      <td>0</td>\n",
              "      <td>0</td>\n",
              "      <td>2</td>\n",
              "      <td>2</td>\n",
              "      <td>1.106767</td>\n",
              "      <td>0</td>\n",
              "      <td>32</td>\n",
              "      <td>0.549294</td>\n",
              "    </tr>\n",
              "    <tr>\n",
              "      <th>72176</th>\n",
              "      <td>1</td>\n",
              "      <td>0</td>\n",
              "      <td>1</td>\n",
              "      <td>4</td>\n",
              "      <td>2.000000</td>\n",
              "      <td>0</td>\n",
              "      <td>58</td>\n",
              "      <td>0.000000</td>\n",
              "    </tr>\n",
              "    <tr>\n",
              "      <th>15050</th>\n",
              "      <td>4</td>\n",
              "      <td>1</td>\n",
              "      <td>0</td>\n",
              "      <td>4</td>\n",
              "      <td>3.000000</td>\n",
              "      <td>1</td>\n",
              "      <td>36</td>\n",
              "      <td>6.710000</td>\n",
              "    </tr>\n",
              "    <tr>\n",
              "      <th>40330</th>\n",
              "      <td>2</td>\n",
              "      <td>1</td>\n",
              "      <td>1</td>\n",
              "      <td>4</td>\n",
              "      <td>2.000000</td>\n",
              "      <td>0</td>\n",
              "      <td>57</td>\n",
              "      <td>6.520000</td>\n",
              "    </tr>\n",
              "  </tbody>\n",
              "</table>\n",
              "</div>"
            ],
            "text/plain": [
              "       NAME_INCOME_TYPE  FLAG_OWN_REALTY  NAME_FAMILY_STATUS  \\\n",
              "48729                 2                0                   3   \n",
              "87545                 0                0                   2   \n",
              "72176                 1                0                   1   \n",
              "15050                 4                1                   0   \n",
              "40330                 2                1                   1   \n",
              "\n",
              "       NAME_EDUCATION_TYPE  CNT_FAM_MEMBERS  CNT_CHILDREN  AGE  YEARS_EMPLOYED  \n",
              "48729                    4         1.000000             0   42        4.350000  \n",
              "87545                    2         1.106767             0   32        0.549294  \n",
              "72176                    4         2.000000             0   58        0.000000  \n",
              "15050                    4         3.000000             1   36        6.710000  \n",
              "40330                    4         2.000000             0   57        6.520000  "
            ]
          },
          "metadata": {
            "tags": []
          },
          "execution_count": 130
        }
      ]
    },
    {
      "cell_type": "code",
      "metadata": {
        "colab": {
          "base_uri": "https://localhost:8080/"
        },
        "id": "NFt4P2sAA26M",
        "outputId": "6a42efaf-4774-4201-936b-b68f46bd7608"
      },
      "source": [
        "# get prediction for new input\n",
        "new_output = RF_model.predict(new_input)\n",
        "new_output"
      ],
      "execution_count": null,
      "outputs": [
        {
          "output_type": "execute_result",
          "data": {
            "text/plain": [
              "array([1, 2, 2, 0, 1], dtype=int64)"
            ]
          },
          "metadata": {
            "tags": []
          },
          "execution_count": 131
        }
      ]
    },
    {
      "cell_type": "markdown",
      "metadata": {
        "id": "9Fbfqx4O2m8V"
      },
      "source": [
        "Based on the predict result, the 1st and the 5th applicants information can be approved credit card. By looking at the information, they both have a long term years_employed , secondary education and income_type is 2, which is also make sense in real life."
      ]
    },
    {
      "cell_type": "markdown",
      "metadata": {
        "id": "4SthDDsI2m8V"
      },
      "source": [
        "how likely the candidate may postpone their payment to the credit card company? If it is, how long will the payment be? For this research, we do see the 2rd and 3rd applicant might postpone the payment for 4-7 months. It's hard to collect this such payment. Fot the 3rd applicant, he/she might postpone the payment withing 3 month, which is a better to collect the money back but still unsafe to issue the credit card."
      ]
    },
    {
      "cell_type": "markdown",
      "metadata": {
        "id": "lc_WMpwZCn43"
      },
      "source": [
        "## Conclusions\n",
        "\n",
        "Finally we get conclusion that our essemble models gave a satisfying result on accuracy of whether approving the credit card for applicants. Although it does not give the high score of all models,  random forest helps to reduce generalization error. Therefore, the accuracy of this prediction does help credit card companies choose their target customers to some extent. "
      ]
    },
    {
      "cell_type": "markdown",
      "metadata": {
        "id": "TFcVdOwOT_9L"
      },
      "source": [
        "## Reference"
      ]
    },
    {
      "cell_type": "markdown",
      "metadata": {
        "id": "yDeAk8GaUB6O"
      },
      "source": [
        "1. https://towardsdatascience.com/random-forest-in-python-24d0893d51c0\n",
        "2. https://machinelearningmastery.com/random-forest-ensemble-in-python/\n",
        "3. https://towardsdatascience.com/feature-selection-with-pandas-e3690ad8504b\n"
      ]
    },
    {
      "cell_type": "code",
      "metadata": {
        "id": "d5-S77uh2m8a"
      },
      "source": [
        ""
      ],
      "execution_count": null,
      "outputs": []
    }
  ]
}