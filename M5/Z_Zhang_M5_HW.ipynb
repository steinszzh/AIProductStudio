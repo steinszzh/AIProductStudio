{
  "nbformat": 4,
  "nbformat_minor": 0,
  "metadata": {
    "colab": {
      "name": "Z_Zhang_M5_HW.ipynb",
      "provenance": [],
      "collapsed_sections": [],
      "toc_visible": true
    },
    "kernelspec": {
      "name": "python3",
      "display_name": "Python 3"
    }
  },
  "cells": [
    {
      "cell_type": "markdown",
      "metadata": {
        "id": "xyogBzn36PwA"
      },
      "source": [
        "# M5 --- Predictive Modeling in Python\n",
        "#### Group members:  Zhihong Zhang\n"
      ]
    },
    {
      "cell_type": "markdown",
      "metadata": {
        "id": "IyB6XVqN6riA"
      },
      "source": [
        "## Introduction \n",
        "In this practical challenge, I am going to explore two data sets and finish neccessary data cleaning process and modeling. The first data set was built upon a dataset of air quality from UCI repository (https://archive.ics.uci.edu/ml//datasets/Air+quality ).  The first goal of the task is to work on the data preparation. Then after clearing up data, we build some regression models for it. \n",
        "\n",
        "\n",
        " The second data set was built upon a dataset of reading habit data set from Kaggle(https://www.kaggle.com/vipulgote4/reading-habit-dataset ).  The first goal of the task is to work on the data preparation. Then build model based on\n",
        " Binary Logistic Regression, Multinomial Logistic Regression, and Ordinal Logistic Regression)\n",
        "\n",
        "For the steps I will use in this challenge, Exploratory data analysis(EDA) will be launched firstly, and based on the EDA, I will apply Data preparation which includes tiding invalid values, dealing with missing value, adding/removing features for modeling, etc. After Data Prep, the EDA will be relaunched to verify my process. \n",
        "\n",
        "After cleaning up the data set, model building will be done. using general supervised machine learning tool to build an predictive model. \n"
      ]
    },
    {
      "cell_type": "markdown",
      "metadata": {
        "id": "q1KzIFfYRh8H"
      },
      "source": [
        "# Part A"
      ]
    },
    {
      "cell_type": "markdown",
      "metadata": {
        "id": "cp7WzIFN0-JZ"
      },
      "source": [
        "##  Exploratory Data Analysis"
      ]
    },
    {
      "cell_type": "markdown",
      "metadata": {
        "id": "RAJ-UCCOilZ4"
      },
      "source": [
        "For part A, the first thing of the task is to load the data set and check the rough view of these attributes. "
      ]
    },
    {
      "cell_type": "code",
      "metadata": {
        "id": "knrOioZHihpV",
        "outputId": "2dd973c4-c1a4-4678-9f68-724bd824ea15",
        "colab": {
          "base_uri": "https://localhost:8080/",
          "height": 232
        }
      },
      "source": [
        "import numpy as np\n",
        "import pandas as pd\n",
        "\n",
        "# check and read the dataset from github\n",
        "#found oiut default seperator not working change to ;\n",
        "df = pd.read_csv('https://raw.githubusercontent.com/steinszzh/AIProductStudio/master/M5/AirQualityUCI.csv', sep = ';')\n",
        "df.head()"
      ],
      "execution_count": 107,
      "outputs": [
        {
          "output_type": "execute_result",
          "data": {
            "text/html": [
              "<div>\n",
              "<style scoped>\n",
              "    .dataframe tbody tr th:only-of-type {\n",
              "        vertical-align: middle;\n",
              "    }\n",
              "\n",
              "    .dataframe tbody tr th {\n",
              "        vertical-align: top;\n",
              "    }\n",
              "\n",
              "    .dataframe thead th {\n",
              "        text-align: right;\n",
              "    }\n",
              "</style>\n",
              "<table border=\"1\" class=\"dataframe\">\n",
              "  <thead>\n",
              "    <tr style=\"text-align: right;\">\n",
              "      <th></th>\n",
              "      <th>Date</th>\n",
              "      <th>Time</th>\n",
              "      <th>CO(GT)</th>\n",
              "      <th>PT08.S1(CO)</th>\n",
              "      <th>NMHC(GT)</th>\n",
              "      <th>C6H6(GT)</th>\n",
              "      <th>PT08.S2(NMHC)</th>\n",
              "      <th>NOx(GT)</th>\n",
              "      <th>PT08.S3(NOx)</th>\n",
              "      <th>NO2(GT)</th>\n",
              "      <th>PT08.S4(NO2)</th>\n",
              "      <th>PT08.S5(O3)</th>\n",
              "      <th>T</th>\n",
              "      <th>RH</th>\n",
              "      <th>AH</th>\n",
              "      <th>Unnamed: 15</th>\n",
              "      <th>Unnamed: 16</th>\n",
              "    </tr>\n",
              "  </thead>\n",
              "  <tbody>\n",
              "    <tr>\n",
              "      <th>0</th>\n",
              "      <td>10/03/2004</td>\n",
              "      <td>18.00.00</td>\n",
              "      <td>2,6</td>\n",
              "      <td>1360.0</td>\n",
              "      <td>150.0</td>\n",
              "      <td>11,9</td>\n",
              "      <td>1046.0</td>\n",
              "      <td>166.0</td>\n",
              "      <td>1056.0</td>\n",
              "      <td>113.0</td>\n",
              "      <td>1692.0</td>\n",
              "      <td>1268.0</td>\n",
              "      <td>13,6</td>\n",
              "      <td>48,9</td>\n",
              "      <td>0,7578</td>\n",
              "      <td>NaN</td>\n",
              "      <td>NaN</td>\n",
              "    </tr>\n",
              "    <tr>\n",
              "      <th>1</th>\n",
              "      <td>10/03/2004</td>\n",
              "      <td>19.00.00</td>\n",
              "      <td>2</td>\n",
              "      <td>1292.0</td>\n",
              "      <td>112.0</td>\n",
              "      <td>9,4</td>\n",
              "      <td>955.0</td>\n",
              "      <td>103.0</td>\n",
              "      <td>1174.0</td>\n",
              "      <td>92.0</td>\n",
              "      <td>1559.0</td>\n",
              "      <td>972.0</td>\n",
              "      <td>13,3</td>\n",
              "      <td>47,7</td>\n",
              "      <td>0,7255</td>\n",
              "      <td>NaN</td>\n",
              "      <td>NaN</td>\n",
              "    </tr>\n",
              "    <tr>\n",
              "      <th>2</th>\n",
              "      <td>10/03/2004</td>\n",
              "      <td>20.00.00</td>\n",
              "      <td>2,2</td>\n",
              "      <td>1402.0</td>\n",
              "      <td>88.0</td>\n",
              "      <td>9,0</td>\n",
              "      <td>939.0</td>\n",
              "      <td>131.0</td>\n",
              "      <td>1140.0</td>\n",
              "      <td>114.0</td>\n",
              "      <td>1555.0</td>\n",
              "      <td>1074.0</td>\n",
              "      <td>11,9</td>\n",
              "      <td>54,0</td>\n",
              "      <td>0,7502</td>\n",
              "      <td>NaN</td>\n",
              "      <td>NaN</td>\n",
              "    </tr>\n",
              "    <tr>\n",
              "      <th>3</th>\n",
              "      <td>10/03/2004</td>\n",
              "      <td>21.00.00</td>\n",
              "      <td>2,2</td>\n",
              "      <td>1376.0</td>\n",
              "      <td>80.0</td>\n",
              "      <td>9,2</td>\n",
              "      <td>948.0</td>\n",
              "      <td>172.0</td>\n",
              "      <td>1092.0</td>\n",
              "      <td>122.0</td>\n",
              "      <td>1584.0</td>\n",
              "      <td>1203.0</td>\n",
              "      <td>11,0</td>\n",
              "      <td>60,0</td>\n",
              "      <td>0,7867</td>\n",
              "      <td>NaN</td>\n",
              "      <td>NaN</td>\n",
              "    </tr>\n",
              "    <tr>\n",
              "      <th>4</th>\n",
              "      <td>10/03/2004</td>\n",
              "      <td>22.00.00</td>\n",
              "      <td>1,6</td>\n",
              "      <td>1272.0</td>\n",
              "      <td>51.0</td>\n",
              "      <td>6,5</td>\n",
              "      <td>836.0</td>\n",
              "      <td>131.0</td>\n",
              "      <td>1205.0</td>\n",
              "      <td>116.0</td>\n",
              "      <td>1490.0</td>\n",
              "      <td>1110.0</td>\n",
              "      <td>11,2</td>\n",
              "      <td>59,6</td>\n",
              "      <td>0,7888</td>\n",
              "      <td>NaN</td>\n",
              "      <td>NaN</td>\n",
              "    </tr>\n",
              "  </tbody>\n",
              "</table>\n",
              "</div>"
            ],
            "text/plain": [
              "         Date      Time CO(GT)  ...      AH  Unnamed: 15 Unnamed: 16\n",
              "0  10/03/2004  18.00.00    2,6  ...  0,7578          NaN         NaN\n",
              "1  10/03/2004  19.00.00      2  ...  0,7255          NaN         NaN\n",
              "2  10/03/2004  20.00.00    2,2  ...  0,7502          NaN         NaN\n",
              "3  10/03/2004  21.00.00    2,2  ...  0,7867          NaN         NaN\n",
              "4  10/03/2004  22.00.00    1,6  ...  0,7888          NaN         NaN\n",
              "\n",
              "[5 rows x 17 columns]"
            ]
          },
          "metadata": {
            "tags": []
          },
          "execution_count": 107
        }
      ]
    },
    {
      "cell_type": "markdown",
      "metadata": {
        "id": "0tlcJVMw07TT"
      },
      "source": [
        "We notice after we use non-default seperator, there are two column without name and a bunch of null value, we need to check to see whether it is valid. "
      ]
    },
    {
      "cell_type": "code",
      "metadata": {
        "id": "mADCicRokx69",
        "outputId": "1949efe1-cdd7-4335-f248-b203a7c9f093",
        "colab": {
          "base_uri": "https://localhost:8080/",
          "height": 420
        }
      },
      "source": [
        "df.info()"
      ],
      "execution_count": 108,
      "outputs": [
        {
          "output_type": "stream",
          "text": [
            "<class 'pandas.core.frame.DataFrame'>\n",
            "RangeIndex: 9471 entries, 0 to 9470\n",
            "Data columns (total 17 columns):\n",
            " #   Column         Non-Null Count  Dtype  \n",
            "---  ------         --------------  -----  \n",
            " 0   Date           9357 non-null   object \n",
            " 1   Time           9357 non-null   object \n",
            " 2   CO(GT)         9357 non-null   object \n",
            " 3   PT08.S1(CO)    9357 non-null   float64\n",
            " 4   NMHC(GT)       9357 non-null   float64\n",
            " 5   C6H6(GT)       9357 non-null   object \n",
            " 6   PT08.S2(NMHC)  9357 non-null   float64\n",
            " 7   NOx(GT)        9357 non-null   float64\n",
            " 8   PT08.S3(NOx)   9357 non-null   float64\n",
            " 9   NO2(GT)        9357 non-null   float64\n",
            " 10  PT08.S4(NO2)   9357 non-null   float64\n",
            " 11  PT08.S5(O3)    9357 non-null   float64\n",
            " 12  T              9357 non-null   object \n",
            " 13  RH             9357 non-null   object \n",
            " 14  AH             9357 non-null   object \n",
            " 15  Unnamed: 15    0 non-null      float64\n",
            " 16  Unnamed: 16    0 non-null      float64\n",
            "dtypes: float64(10), object(7)\n",
            "memory usage: 1.2+ MB\n"
          ],
          "name": "stdout"
        }
      ]
    },
    {
      "cell_type": "markdown",
      "metadata": {
        "id": "kP49q0T2ldHp"
      },
      "source": [
        "### Attribute Information:\n",
        "\n",
        "- 0 Date (DD/MM/YYYY)\n",
        "- 1 Time (HH.MM.SS)\n",
        "-2 True hourly averaged concentration CO in mg/m^3 (reference analyzer)\n",
        "- 3 PT08.S1 (tin oxide) hourly averaged sensor response (nominally CO targeted)\n",
        "-4 True hourly averaged overall Non Metanic HydroCarbons concentration in microg/m^3 (reference analyzer)\n",
        "-5 True hourly averaged Benzene concentration in microg/m^3 (reference analyzer)\n",
        "-6 PT08.S2 (titania) hourly averaged sensor response (nominally NMHC targeted)\n",
        "-7 True hourly averaged NOx concentration in ppb (reference analyzer)\n",
        "-8 PT08.S3 (tungsten oxide) hourly averaged sensor response (nominally NOx targeted)\n",
        "-9 True hourly averaged NO2 concentration in microg/m^3 (reference analyzer)\n",
        "-10 PT08.S4 (tungsten oxide) hourly averaged sensor response (nominally NO2 targeted)\n",
        "-11 PT08.S5 (indium oxide) hourly averaged sensor response (nominally O3 targeted)\n",
        "-12 Temperature in Â°C\n",
        "-13 Relative Humidity (%)\n",
        "-14 AH Absolute Humidity\n",
        "\n"
      ]
    },
    {
      "cell_type": "markdown",
      "metadata": {
        "id": "AYpv2pKEkX9C"
      },
      "source": [
        "Based on the reference page of UCI repo, we can clearly see that there is no column 15 and 16. After tracing the csv file, we can tell that the null values are contributed two extra semicolon. So we can safely drop these two extra column.  "
      ]
    },
    {
      "cell_type": "code",
      "metadata": {
        "id": "cXP4tAF2lzZJ",
        "outputId": "3003b523-7ae9-4ff1-8865-92513734de5a",
        "colab": {
          "base_uri": "https://localhost:8080/",
          "height": 215
        }
      },
      "source": [
        "# drop column\n",
        "df.drop(columns=['Unnamed: 15', 'Unnamed: 16'], inplace=True)\n",
        "df.head()"
      ],
      "execution_count": 109,
      "outputs": [
        {
          "output_type": "execute_result",
          "data": {
            "text/html": [
              "<div>\n",
              "<style scoped>\n",
              "    .dataframe tbody tr th:only-of-type {\n",
              "        vertical-align: middle;\n",
              "    }\n",
              "\n",
              "    .dataframe tbody tr th {\n",
              "        vertical-align: top;\n",
              "    }\n",
              "\n",
              "    .dataframe thead th {\n",
              "        text-align: right;\n",
              "    }\n",
              "</style>\n",
              "<table border=\"1\" class=\"dataframe\">\n",
              "  <thead>\n",
              "    <tr style=\"text-align: right;\">\n",
              "      <th></th>\n",
              "      <th>Date</th>\n",
              "      <th>Time</th>\n",
              "      <th>CO(GT)</th>\n",
              "      <th>PT08.S1(CO)</th>\n",
              "      <th>NMHC(GT)</th>\n",
              "      <th>C6H6(GT)</th>\n",
              "      <th>PT08.S2(NMHC)</th>\n",
              "      <th>NOx(GT)</th>\n",
              "      <th>PT08.S3(NOx)</th>\n",
              "      <th>NO2(GT)</th>\n",
              "      <th>PT08.S4(NO2)</th>\n",
              "      <th>PT08.S5(O3)</th>\n",
              "      <th>T</th>\n",
              "      <th>RH</th>\n",
              "      <th>AH</th>\n",
              "    </tr>\n",
              "  </thead>\n",
              "  <tbody>\n",
              "    <tr>\n",
              "      <th>0</th>\n",
              "      <td>10/03/2004</td>\n",
              "      <td>18.00.00</td>\n",
              "      <td>2,6</td>\n",
              "      <td>1360.0</td>\n",
              "      <td>150.0</td>\n",
              "      <td>11,9</td>\n",
              "      <td>1046.0</td>\n",
              "      <td>166.0</td>\n",
              "      <td>1056.0</td>\n",
              "      <td>113.0</td>\n",
              "      <td>1692.0</td>\n",
              "      <td>1268.0</td>\n",
              "      <td>13,6</td>\n",
              "      <td>48,9</td>\n",
              "      <td>0,7578</td>\n",
              "    </tr>\n",
              "    <tr>\n",
              "      <th>1</th>\n",
              "      <td>10/03/2004</td>\n",
              "      <td>19.00.00</td>\n",
              "      <td>2</td>\n",
              "      <td>1292.0</td>\n",
              "      <td>112.0</td>\n",
              "      <td>9,4</td>\n",
              "      <td>955.0</td>\n",
              "      <td>103.0</td>\n",
              "      <td>1174.0</td>\n",
              "      <td>92.0</td>\n",
              "      <td>1559.0</td>\n",
              "      <td>972.0</td>\n",
              "      <td>13,3</td>\n",
              "      <td>47,7</td>\n",
              "      <td>0,7255</td>\n",
              "    </tr>\n",
              "    <tr>\n",
              "      <th>2</th>\n",
              "      <td>10/03/2004</td>\n",
              "      <td>20.00.00</td>\n",
              "      <td>2,2</td>\n",
              "      <td>1402.0</td>\n",
              "      <td>88.0</td>\n",
              "      <td>9,0</td>\n",
              "      <td>939.0</td>\n",
              "      <td>131.0</td>\n",
              "      <td>1140.0</td>\n",
              "      <td>114.0</td>\n",
              "      <td>1555.0</td>\n",
              "      <td>1074.0</td>\n",
              "      <td>11,9</td>\n",
              "      <td>54,0</td>\n",
              "      <td>0,7502</td>\n",
              "    </tr>\n",
              "    <tr>\n",
              "      <th>3</th>\n",
              "      <td>10/03/2004</td>\n",
              "      <td>21.00.00</td>\n",
              "      <td>2,2</td>\n",
              "      <td>1376.0</td>\n",
              "      <td>80.0</td>\n",
              "      <td>9,2</td>\n",
              "      <td>948.0</td>\n",
              "      <td>172.0</td>\n",
              "      <td>1092.0</td>\n",
              "      <td>122.0</td>\n",
              "      <td>1584.0</td>\n",
              "      <td>1203.0</td>\n",
              "      <td>11,0</td>\n",
              "      <td>60,0</td>\n",
              "      <td>0,7867</td>\n",
              "    </tr>\n",
              "    <tr>\n",
              "      <th>4</th>\n",
              "      <td>10/03/2004</td>\n",
              "      <td>22.00.00</td>\n",
              "      <td>1,6</td>\n",
              "      <td>1272.0</td>\n",
              "      <td>51.0</td>\n",
              "      <td>6,5</td>\n",
              "      <td>836.0</td>\n",
              "      <td>131.0</td>\n",
              "      <td>1205.0</td>\n",
              "      <td>116.0</td>\n",
              "      <td>1490.0</td>\n",
              "      <td>1110.0</td>\n",
              "      <td>11,2</td>\n",
              "      <td>59,6</td>\n",
              "      <td>0,7888</td>\n",
              "    </tr>\n",
              "  </tbody>\n",
              "</table>\n",
              "</div>"
            ],
            "text/plain": [
              "         Date      Time CO(GT)  PT08.S1(CO)  ...  PT08.S5(O3)     T    RH      AH\n",
              "0  10/03/2004  18.00.00    2,6       1360.0  ...       1268.0  13,6  48,9  0,7578\n",
              "1  10/03/2004  19.00.00      2       1292.0  ...        972.0  13,3  47,7  0,7255\n",
              "2  10/03/2004  20.00.00    2,2       1402.0  ...       1074.0  11,9  54,0  0,7502\n",
              "3  10/03/2004  21.00.00    2,2       1376.0  ...       1203.0  11,0  60,0  0,7867\n",
              "4  10/03/2004  22.00.00    1,6       1272.0  ...       1110.0  11,2  59,6  0,7888\n",
              "\n",
              "[5 rows x 15 columns]"
            ]
          },
          "metadata": {
            "tags": []
          },
          "execution_count": 109
        }
      ]
    },
    {
      "cell_type": "markdown",
      "metadata": {
        "id": "ij5VBZy4mZqu"
      },
      "source": [
        "Just through first some rows of data. We notice there may be some error on mistyping of colon, then we also need to check the null value."
      ]
    },
    {
      "cell_type": "code",
      "metadata": {
        "id": "DUghsAH0ml49",
        "outputId": "1bb65706-febd-4023-b4b2-934bb141feb5",
        "colab": {
          "base_uri": "https://localhost:8080/",
          "height": 286
        }
      },
      "source": [
        "#Check null value\n",
        "df.isnull().sum()"
      ],
      "execution_count": 110,
      "outputs": [
        {
          "output_type": "execute_result",
          "data": {
            "text/plain": [
              "Date             114\n",
              "Time             114\n",
              "CO(GT)           114\n",
              "PT08.S1(CO)      114\n",
              "NMHC(GT)         114\n",
              "C6H6(GT)         114\n",
              "PT08.S2(NMHC)    114\n",
              "NOx(GT)          114\n",
              "PT08.S3(NOx)     114\n",
              "NO2(GT)          114\n",
              "PT08.S4(NO2)     114\n",
              "PT08.S5(O3)      114\n",
              "T                114\n",
              "RH               114\n",
              "AH               114\n",
              "dtype: int64"
            ]
          },
          "metadata": {
            "tags": []
          },
          "execution_count": 110
        }
      ]
    },
    {
      "cell_type": "code",
      "metadata": {
        "id": "Zmz1AZLRmcU_",
        "outputId": "83288f88-b223-447f-f8eb-795d5a0c7220",
        "colab": {
          "base_uri": "https://localhost:8080/",
          "height": 284
        }
      },
      "source": [
        "df.describe()"
      ],
      "execution_count": 111,
      "outputs": [
        {
          "output_type": "execute_result",
          "data": {
            "text/html": [
              "<div>\n",
              "<style scoped>\n",
              "    .dataframe tbody tr th:only-of-type {\n",
              "        vertical-align: middle;\n",
              "    }\n",
              "\n",
              "    .dataframe tbody tr th {\n",
              "        vertical-align: top;\n",
              "    }\n",
              "\n",
              "    .dataframe thead th {\n",
              "        text-align: right;\n",
              "    }\n",
              "</style>\n",
              "<table border=\"1\" class=\"dataframe\">\n",
              "  <thead>\n",
              "    <tr style=\"text-align: right;\">\n",
              "      <th></th>\n",
              "      <th>PT08.S1(CO)</th>\n",
              "      <th>NMHC(GT)</th>\n",
              "      <th>PT08.S2(NMHC)</th>\n",
              "      <th>NOx(GT)</th>\n",
              "      <th>PT08.S3(NOx)</th>\n",
              "      <th>NO2(GT)</th>\n",
              "      <th>PT08.S4(NO2)</th>\n",
              "      <th>PT08.S5(O3)</th>\n",
              "    </tr>\n",
              "  </thead>\n",
              "  <tbody>\n",
              "    <tr>\n",
              "      <th>count</th>\n",
              "      <td>9357.000000</td>\n",
              "      <td>9357.000000</td>\n",
              "      <td>9357.000000</td>\n",
              "      <td>9357.000000</td>\n",
              "      <td>9357.000000</td>\n",
              "      <td>9357.000000</td>\n",
              "      <td>9357.000000</td>\n",
              "      <td>9357.000000</td>\n",
              "    </tr>\n",
              "    <tr>\n",
              "      <th>mean</th>\n",
              "      <td>1048.990061</td>\n",
              "      <td>-159.090093</td>\n",
              "      <td>894.595276</td>\n",
              "      <td>168.616971</td>\n",
              "      <td>794.990168</td>\n",
              "      <td>58.148873</td>\n",
              "      <td>1391.479641</td>\n",
              "      <td>975.072032</td>\n",
              "    </tr>\n",
              "    <tr>\n",
              "      <th>std</th>\n",
              "      <td>329.832710</td>\n",
              "      <td>139.789093</td>\n",
              "      <td>342.333252</td>\n",
              "      <td>257.433866</td>\n",
              "      <td>321.993552</td>\n",
              "      <td>126.940455</td>\n",
              "      <td>467.210125</td>\n",
              "      <td>456.938184</td>\n",
              "    </tr>\n",
              "    <tr>\n",
              "      <th>min</th>\n",
              "      <td>-200.000000</td>\n",
              "      <td>-200.000000</td>\n",
              "      <td>-200.000000</td>\n",
              "      <td>-200.000000</td>\n",
              "      <td>-200.000000</td>\n",
              "      <td>-200.000000</td>\n",
              "      <td>-200.000000</td>\n",
              "      <td>-200.000000</td>\n",
              "    </tr>\n",
              "    <tr>\n",
              "      <th>25%</th>\n",
              "      <td>921.000000</td>\n",
              "      <td>-200.000000</td>\n",
              "      <td>711.000000</td>\n",
              "      <td>50.000000</td>\n",
              "      <td>637.000000</td>\n",
              "      <td>53.000000</td>\n",
              "      <td>1185.000000</td>\n",
              "      <td>700.000000</td>\n",
              "    </tr>\n",
              "    <tr>\n",
              "      <th>50%</th>\n",
              "      <td>1053.000000</td>\n",
              "      <td>-200.000000</td>\n",
              "      <td>895.000000</td>\n",
              "      <td>141.000000</td>\n",
              "      <td>794.000000</td>\n",
              "      <td>96.000000</td>\n",
              "      <td>1446.000000</td>\n",
              "      <td>942.000000</td>\n",
              "    </tr>\n",
              "    <tr>\n",
              "      <th>75%</th>\n",
              "      <td>1221.000000</td>\n",
              "      <td>-200.000000</td>\n",
              "      <td>1105.000000</td>\n",
              "      <td>284.000000</td>\n",
              "      <td>960.000000</td>\n",
              "      <td>133.000000</td>\n",
              "      <td>1662.000000</td>\n",
              "      <td>1255.000000</td>\n",
              "    </tr>\n",
              "    <tr>\n",
              "      <th>max</th>\n",
              "      <td>2040.000000</td>\n",
              "      <td>1189.000000</td>\n",
              "      <td>2214.000000</td>\n",
              "      <td>1479.000000</td>\n",
              "      <td>2683.000000</td>\n",
              "      <td>340.000000</td>\n",
              "      <td>2775.000000</td>\n",
              "      <td>2523.000000</td>\n",
              "    </tr>\n",
              "  </tbody>\n",
              "</table>\n",
              "</div>"
            ],
            "text/plain": [
              "       PT08.S1(CO)     NMHC(GT)  ...  PT08.S4(NO2)  PT08.S5(O3)\n",
              "count  9357.000000  9357.000000  ...   9357.000000  9357.000000\n",
              "mean   1048.990061  -159.090093  ...   1391.479641   975.072032\n",
              "std     329.832710   139.789093  ...    467.210125   456.938184\n",
              "min    -200.000000  -200.000000  ...   -200.000000  -200.000000\n",
              "25%     921.000000  -200.000000  ...   1185.000000   700.000000\n",
              "50%    1053.000000  -200.000000  ...   1446.000000   942.000000\n",
              "75%    1221.000000  -200.000000  ...   1662.000000  1255.000000\n",
              "max    2040.000000  1189.000000  ...   2775.000000  2523.000000\n",
              "\n",
              "[8 rows x 8 columns]"
            ]
          },
          "metadata": {
            "tags": []
          },
          "execution_count": 111
        }
      ]
    },
    {
      "cell_type": "markdown",
      "metadata": {
        "id": "m0se8y8Pmvpy"
      },
      "source": [
        "Based on the table and isnull function, we know that there is about 1% of null values. Although it is valid to through away the data, we still need to check how it may affect the contribution of the graph. \n",
        "\n",
        "In addition, table also showed bunch of -200, since many of them stands for concentration, it does not make sense in the context. We also need to replace the invalid data. Before we draw some graph, we can replace some symbol to to right number. As we mentioned early, we can fix this colon error firstly showed in many attributes. "
      ]
    },
    {
      "cell_type": "code",
      "metadata": {
        "id": "-Vy-QH4sqK_L",
        "outputId": "cdccd427-080f-4f7d-9290-1663cb9f1e15",
        "colab": {
          "base_uri": "https://localhost:8080/",
          "height": 215
        }
      },
      "source": [
        "#replace nonsense typo.\n",
        "df['CO(GT)'] = df['CO(GT)'].str.replace(',','.')\n",
        "df['C6H6(GT)'] = df['C6H6(GT)'].str.replace(',','.')\n",
        "df['T'] = df['T'].str.replace(',','.')\n",
        "df['RH'] = df['RH'].str.replace(',','.')\n",
        "df['AH'] = df['AH'].str.replace(',','.')\n",
        "df.head()"
      ],
      "execution_count": 112,
      "outputs": [
        {
          "output_type": "execute_result",
          "data": {
            "text/html": [
              "<div>\n",
              "<style scoped>\n",
              "    .dataframe tbody tr th:only-of-type {\n",
              "        vertical-align: middle;\n",
              "    }\n",
              "\n",
              "    .dataframe tbody tr th {\n",
              "        vertical-align: top;\n",
              "    }\n",
              "\n",
              "    .dataframe thead th {\n",
              "        text-align: right;\n",
              "    }\n",
              "</style>\n",
              "<table border=\"1\" class=\"dataframe\">\n",
              "  <thead>\n",
              "    <tr style=\"text-align: right;\">\n",
              "      <th></th>\n",
              "      <th>Date</th>\n",
              "      <th>Time</th>\n",
              "      <th>CO(GT)</th>\n",
              "      <th>PT08.S1(CO)</th>\n",
              "      <th>NMHC(GT)</th>\n",
              "      <th>C6H6(GT)</th>\n",
              "      <th>PT08.S2(NMHC)</th>\n",
              "      <th>NOx(GT)</th>\n",
              "      <th>PT08.S3(NOx)</th>\n",
              "      <th>NO2(GT)</th>\n",
              "      <th>PT08.S4(NO2)</th>\n",
              "      <th>PT08.S5(O3)</th>\n",
              "      <th>T</th>\n",
              "      <th>RH</th>\n",
              "      <th>AH</th>\n",
              "    </tr>\n",
              "  </thead>\n",
              "  <tbody>\n",
              "    <tr>\n",
              "      <th>0</th>\n",
              "      <td>10/03/2004</td>\n",
              "      <td>18.00.00</td>\n",
              "      <td>2.6</td>\n",
              "      <td>1360.0</td>\n",
              "      <td>150.0</td>\n",
              "      <td>11.9</td>\n",
              "      <td>1046.0</td>\n",
              "      <td>166.0</td>\n",
              "      <td>1056.0</td>\n",
              "      <td>113.0</td>\n",
              "      <td>1692.0</td>\n",
              "      <td>1268.0</td>\n",
              "      <td>13.6</td>\n",
              "      <td>48.9</td>\n",
              "      <td>0.7578</td>\n",
              "    </tr>\n",
              "    <tr>\n",
              "      <th>1</th>\n",
              "      <td>10/03/2004</td>\n",
              "      <td>19.00.00</td>\n",
              "      <td>2</td>\n",
              "      <td>1292.0</td>\n",
              "      <td>112.0</td>\n",
              "      <td>9.4</td>\n",
              "      <td>955.0</td>\n",
              "      <td>103.0</td>\n",
              "      <td>1174.0</td>\n",
              "      <td>92.0</td>\n",
              "      <td>1559.0</td>\n",
              "      <td>972.0</td>\n",
              "      <td>13.3</td>\n",
              "      <td>47.7</td>\n",
              "      <td>0.7255</td>\n",
              "    </tr>\n",
              "    <tr>\n",
              "      <th>2</th>\n",
              "      <td>10/03/2004</td>\n",
              "      <td>20.00.00</td>\n",
              "      <td>2.2</td>\n",
              "      <td>1402.0</td>\n",
              "      <td>88.0</td>\n",
              "      <td>9.0</td>\n",
              "      <td>939.0</td>\n",
              "      <td>131.0</td>\n",
              "      <td>1140.0</td>\n",
              "      <td>114.0</td>\n",
              "      <td>1555.0</td>\n",
              "      <td>1074.0</td>\n",
              "      <td>11.9</td>\n",
              "      <td>54.0</td>\n",
              "      <td>0.7502</td>\n",
              "    </tr>\n",
              "    <tr>\n",
              "      <th>3</th>\n",
              "      <td>10/03/2004</td>\n",
              "      <td>21.00.00</td>\n",
              "      <td>2.2</td>\n",
              "      <td>1376.0</td>\n",
              "      <td>80.0</td>\n",
              "      <td>9.2</td>\n",
              "      <td>948.0</td>\n",
              "      <td>172.0</td>\n",
              "      <td>1092.0</td>\n",
              "      <td>122.0</td>\n",
              "      <td>1584.0</td>\n",
              "      <td>1203.0</td>\n",
              "      <td>11.0</td>\n",
              "      <td>60.0</td>\n",
              "      <td>0.7867</td>\n",
              "    </tr>\n",
              "    <tr>\n",
              "      <th>4</th>\n",
              "      <td>10/03/2004</td>\n",
              "      <td>22.00.00</td>\n",
              "      <td>1.6</td>\n",
              "      <td>1272.0</td>\n",
              "      <td>51.0</td>\n",
              "      <td>6.5</td>\n",
              "      <td>836.0</td>\n",
              "      <td>131.0</td>\n",
              "      <td>1205.0</td>\n",
              "      <td>116.0</td>\n",
              "      <td>1490.0</td>\n",
              "      <td>1110.0</td>\n",
              "      <td>11.2</td>\n",
              "      <td>59.6</td>\n",
              "      <td>0.7888</td>\n",
              "    </tr>\n",
              "  </tbody>\n",
              "</table>\n",
              "</div>"
            ],
            "text/plain": [
              "         Date      Time CO(GT)  PT08.S1(CO)  ...  PT08.S5(O3)     T    RH      AH\n",
              "0  10/03/2004  18.00.00    2.6       1360.0  ...       1268.0  13.6  48.9  0.7578\n",
              "1  10/03/2004  19.00.00      2       1292.0  ...        972.0  13.3  47.7  0.7255\n",
              "2  10/03/2004  20.00.00    2.2       1402.0  ...       1074.0  11.9  54.0  0.7502\n",
              "3  10/03/2004  21.00.00    2.2       1376.0  ...       1203.0  11.0  60.0  0.7867\n",
              "4  10/03/2004  22.00.00    1.6       1272.0  ...       1110.0  11.2  59.6  0.7888\n",
              "\n",
              "[5 rows x 15 columns]"
            ]
          },
          "metadata": {
            "tags": []
          },
          "execution_count": 112
        }
      ]
    },
    {
      "cell_type": "code",
      "metadata": {
        "id": "NA0sQcHhrInx",
        "outputId": "ec365606-608f-4156-e5d1-d20d28ed937d",
        "colab": {
          "base_uri": "https://localhost:8080/",
          "height": 775
        }
      },
      "source": [
        "#plot histgram\n",
        "\n",
        "df.hist(figsize=(10,10), color='skyblue')"
      ],
      "execution_count": 113,
      "outputs": [
        {
          "output_type": "execute_result",
          "data": {
            "text/plain": [
              "array([[<matplotlib.axes._subplots.AxesSubplot object at 0x7fd474b918d0>,\n",
              "        <matplotlib.axes._subplots.AxesSubplot object at 0x7fd474918710>,\n",
              "        <matplotlib.axes._subplots.AxesSubplot object at 0x7fd4748c3978>],\n",
              "       [<matplotlib.axes._subplots.AxesSubplot object at 0x7fd474871be0>,\n",
              "        <matplotlib.axes._subplots.AxesSubplot object at 0x7fd474823e48>,\n",
              "        <matplotlib.axes._subplots.AxesSubplot object at 0x7fd4747e00f0>],\n",
              "       [<matplotlib.axes._subplots.AxesSubplot object at 0x7fd474810358>,\n",
              "        <matplotlib.axes._subplots.AxesSubplot object at 0x7fd4747bf588>,\n",
              "        <matplotlib.axes._subplots.AxesSubplot object at 0x7fd4747bf5f8>]],\n",
              "      dtype=object)"
            ]
          },
          "metadata": {
            "tags": []
          },
          "execution_count": 113
        },
        {
          "output_type": "display_data",
          "data": {
            "image/png": "[encoded data removed]",
            "text/plain": [
              "<Figure size 720x720 with 9 Axes>"
            ]
          },
          "metadata": {
            "tags": [],
            "needs_background": "light"
          }
        }
      ]
    },
    {
      "cell_type": "markdown",
      "metadata": {
        "id": "rhnwZ65bMFfl"
      },
      "source": [
        "Based on histogram, we knew there is a fair a mount of value falls below 0. When we take action on these -200, and it is evitable to change the distribution a bit. In the data prep we will deal with null value and invalid value"
      ]
    },
    {
      "cell_type": "markdown",
      "metadata": {
        "id": "e1deZiYNMnwT"
      },
      "source": [
        "## Data Prep"
      ]
    },
    {
      "cell_type": "markdown",
      "metadata": {
        "id": "aWOXPwnfMrcW"
      },
      "source": [
        "Now we need to drop the null value"
      ]
    },
    {
      "cell_type": "code",
      "metadata": {
        "id": "qDGnJi8pM9bV",
        "outputId": "c718b7ce-427a-4006-8705-2efd9766d6d7",
        "colab": {
          "base_uri": "https://localhost:8080/",
          "height": 284
        }
      },
      "source": [
        "df.dropna(inplace=True)\n",
        "df.describe()"
      ],
      "execution_count": 114,
      "outputs": [
        {
          "output_type": "execute_result",
          "data": {
            "text/html": [
              "<div>\n",
              "<style scoped>\n",
              "    .dataframe tbody tr th:only-of-type {\n",
              "        vertical-align: middle;\n",
              "    }\n",
              "\n",
              "    .dataframe tbody tr th {\n",
              "        vertical-align: top;\n",
              "    }\n",
              "\n",
              "    .dataframe thead th {\n",
              "        text-align: right;\n",
              "    }\n",
              "</style>\n",
              "<table border=\"1\" class=\"dataframe\">\n",
              "  <thead>\n",
              "    <tr style=\"text-align: right;\">\n",
              "      <th></th>\n",
              "      <th>PT08.S1(CO)</th>\n",
              "      <th>NMHC(GT)</th>\n",
              "      <th>PT08.S2(NMHC)</th>\n",
              "      <th>NOx(GT)</th>\n",
              "      <th>PT08.S3(NOx)</th>\n",
              "      <th>NO2(GT)</th>\n",
              "      <th>PT08.S4(NO2)</th>\n",
              "      <th>PT08.S5(O3)</th>\n",
              "    </tr>\n",
              "  </thead>\n",
              "  <tbody>\n",
              "    <tr>\n",
              "      <th>count</th>\n",
              "      <td>9357.000000</td>\n",
              "      <td>9357.000000</td>\n",
              "      <td>9357.000000</td>\n",
              "      <td>9357.000000</td>\n",
              "      <td>9357.000000</td>\n",
              "      <td>9357.000000</td>\n",
              "      <td>9357.000000</td>\n",
              "      <td>9357.000000</td>\n",
              "    </tr>\n",
              "    <tr>\n",
              "      <th>mean</th>\n",
              "      <td>1048.990061</td>\n",
              "      <td>-159.090093</td>\n",
              "      <td>894.595276</td>\n",
              "      <td>168.616971</td>\n",
              "      <td>794.990168</td>\n",
              "      <td>58.148873</td>\n",
              "      <td>1391.479641</td>\n",
              "      <td>975.072032</td>\n",
              "    </tr>\n",
              "    <tr>\n",
              "      <th>std</th>\n",
              "      <td>329.832710</td>\n",
              "      <td>139.789093</td>\n",
              "      <td>342.333252</td>\n",
              "      <td>257.433866</td>\n",
              "      <td>321.993552</td>\n",
              "      <td>126.940455</td>\n",
              "      <td>467.210125</td>\n",
              "      <td>456.938184</td>\n",
              "    </tr>\n",
              "    <tr>\n",
              "      <th>min</th>\n",
              "      <td>-200.000000</td>\n",
              "      <td>-200.000000</td>\n",
              "      <td>-200.000000</td>\n",
              "      <td>-200.000000</td>\n",
              "      <td>-200.000000</td>\n",
              "      <td>-200.000000</td>\n",
              "      <td>-200.000000</td>\n",
              "      <td>-200.000000</td>\n",
              "    </tr>\n",
              "    <tr>\n",
              "      <th>25%</th>\n",
              "      <td>921.000000</td>\n",
              "      <td>-200.000000</td>\n",
              "      <td>711.000000</td>\n",
              "      <td>50.000000</td>\n",
              "      <td>637.000000</td>\n",
              "      <td>53.000000</td>\n",
              "      <td>1185.000000</td>\n",
              "      <td>700.000000</td>\n",
              "    </tr>\n",
              "    <tr>\n",
              "      <th>50%</th>\n",
              "      <td>1053.000000</td>\n",
              "      <td>-200.000000</td>\n",
              "      <td>895.000000</td>\n",
              "      <td>141.000000</td>\n",
              "      <td>794.000000</td>\n",
              "      <td>96.000000</td>\n",
              "      <td>1446.000000</td>\n",
              "      <td>942.000000</td>\n",
              "    </tr>\n",
              "    <tr>\n",
              "      <th>75%</th>\n",
              "      <td>1221.000000</td>\n",
              "      <td>-200.000000</td>\n",
              "      <td>1105.000000</td>\n",
              "      <td>284.000000</td>\n",
              "      <td>960.000000</td>\n",
              "      <td>133.000000</td>\n",
              "      <td>1662.000000</td>\n",
              "      <td>1255.000000</td>\n",
              "    </tr>\n",
              "    <tr>\n",
              "      <th>max</th>\n",
              "      <td>2040.000000</td>\n",
              "      <td>1189.000000</td>\n",
              "      <td>2214.000000</td>\n",
              "      <td>1479.000000</td>\n",
              "      <td>2683.000000</td>\n",
              "      <td>340.000000</td>\n",
              "      <td>2775.000000</td>\n",
              "      <td>2523.000000</td>\n",
              "    </tr>\n",
              "  </tbody>\n",
              "</table>\n",
              "</div>"
            ],
            "text/plain": [
              "       PT08.S1(CO)     NMHC(GT)  ...  PT08.S4(NO2)  PT08.S5(O3)\n",
              "count  9357.000000  9357.000000  ...   9357.000000  9357.000000\n",
              "mean   1048.990061  -159.090093  ...   1391.479641   975.072032\n",
              "std     329.832710   139.789093  ...    467.210125   456.938184\n",
              "min    -200.000000  -200.000000  ...   -200.000000  -200.000000\n",
              "25%     921.000000  -200.000000  ...   1185.000000   700.000000\n",
              "50%    1053.000000  -200.000000  ...   1446.000000   942.000000\n",
              "75%    1221.000000  -200.000000  ...   1662.000000  1255.000000\n",
              "max    2040.000000  1189.000000  ...   2775.000000  2523.000000\n",
              "\n",
              "[8 rows x 8 columns]"
            ]
          },
          "metadata": {
            "tags": []
          },
          "execution_count": 114
        }
      ]
    },
    {
      "cell_type": "code",
      "metadata": {
        "id": "ihx9QcgFNLgT",
        "outputId": "95769508-730a-43ec-e6a9-56f79faefd40",
        "colab": {
          "base_uri": "https://localhost:8080/",
          "height": 286
        }
      },
      "source": [
        "#check value\n",
        "df.isnull().sum()"
      ],
      "execution_count": 115,
      "outputs": [
        {
          "output_type": "execute_result",
          "data": {
            "text/plain": [
              "Date             0\n",
              "Time             0\n",
              "CO(GT)           0\n",
              "PT08.S1(CO)      0\n",
              "NMHC(GT)         0\n",
              "C6H6(GT)         0\n",
              "PT08.S2(NMHC)    0\n",
              "NOx(GT)          0\n",
              "PT08.S3(NOx)     0\n",
              "NO2(GT)          0\n",
              "PT08.S4(NO2)     0\n",
              "PT08.S5(O3)      0\n",
              "T                0\n",
              "RH               0\n",
              "AH               0\n",
              "dtype: int64"
            ]
          },
          "metadata": {
            "tags": []
          },
          "execution_count": 115
        }
      ]
    },
    {
      "cell_type": "code",
      "metadata": {
        "id": "e6VUxbkHOJfU",
        "outputId": "e329e7c5-6436-42a3-affb-d31f9a5bbf42",
        "colab": {
          "base_uri": "https://localhost:8080/",
          "height": 286
        }
      },
      "source": [
        "df.dtypes"
      ],
      "execution_count": 116,
      "outputs": [
        {
          "output_type": "execute_result",
          "data": {
            "text/plain": [
              "Date              object\n",
              "Time              object\n",
              "CO(GT)            object\n",
              "PT08.S1(CO)      float64\n",
              "NMHC(GT)         float64\n",
              "C6H6(GT)          object\n",
              "PT08.S2(NMHC)    float64\n",
              "NOx(GT)          float64\n",
              "PT08.S3(NOx)     float64\n",
              "NO2(GT)          float64\n",
              "PT08.S4(NO2)     float64\n",
              "PT08.S5(O3)      float64\n",
              "T                 object\n",
              "RH                object\n",
              "AH                object\n",
              "dtype: object"
            ]
          },
          "metadata": {
            "tags": []
          },
          "execution_count": 116
        }
      ]
    },
    {
      "cell_type": "markdown",
      "metadata": {
        "id": "8w7uDg5uOeec"
      },
      "source": [
        "Firstly we need to change data type into right form"
      ]
    },
    {
      "cell_type": "code",
      "metadata": {
        "id": "bykM7Sl8OiC5"
      },
      "source": [
        "#change form\n",
        "df[['CO(GT)','C6H6(GT)','T','RH','AH']]= df[['CO(GT)','C6H6(GT)','T','RH','AH']].astype(float) "
      ],
      "execution_count": 117,
      "outputs": []
    },
    {
      "cell_type": "markdown",
      "metadata": {
        "id": "fYsRSMIaNTrC"
      },
      "source": [
        "Then we will also remove these invalid negative"
      ]
    },
    {
      "cell_type": "code",
      "metadata": {
        "id": "2QYdTd6sRZC8"
      },
      "source": [
        "#define numerical\n",
        "numerical = ['CO(GT)', 'PT08.S1(CO)','NMHC(GT)','C6H6(GT)','PT08.S2(NMHC)','NOx(GT)','PT08.S3(NOx)',\n",
        "             'NO2(GT)','PT08.S4(NO2)','PT08.S5(O3)','T','RH','AH']"
      ],
      "execution_count": 118,
      "outputs": []
    },
    {
      "cell_type": "code",
      "metadata": {
        "id": "Wac0yA3xMr14",
        "outputId": "97dfc9ff-df3e-482b-ecbc-7d12960d7f99",
        "colab": {
          "base_uri": "https://localhost:8080/",
          "height": 304
        }
      },
      "source": [
        "## check how many negative is  \n",
        "X= df[df[numerical] < 0] \n",
        "X.describe()"
      ],
      "execution_count": 119,
      "outputs": [
        {
          "output_type": "execute_result",
          "data": {
            "text/html": [
              "<div>\n",
              "<style scoped>\n",
              "    .dataframe tbody tr th:only-of-type {\n",
              "        vertical-align: middle;\n",
              "    }\n",
              "\n",
              "    .dataframe tbody tr th {\n",
              "        vertical-align: top;\n",
              "    }\n",
              "\n",
              "    .dataframe thead th {\n",
              "        text-align: right;\n",
              "    }\n",
              "</style>\n",
              "<table border=\"1\" class=\"dataframe\">\n",
              "  <thead>\n",
              "    <tr style=\"text-align: right;\">\n",
              "      <th></th>\n",
              "      <th>CO(GT)</th>\n",
              "      <th>PT08.S1(CO)</th>\n",
              "      <th>NMHC(GT)</th>\n",
              "      <th>C6H6(GT)</th>\n",
              "      <th>PT08.S2(NMHC)</th>\n",
              "      <th>NOx(GT)</th>\n",
              "      <th>PT08.S3(NOx)</th>\n",
              "      <th>NO2(GT)</th>\n",
              "      <th>PT08.S4(NO2)</th>\n",
              "      <th>PT08.S5(O3)</th>\n",
              "      <th>T</th>\n",
              "      <th>RH</th>\n",
              "      <th>AH</th>\n",
              "    </tr>\n",
              "  </thead>\n",
              "  <tbody>\n",
              "    <tr>\n",
              "      <th>count</th>\n",
              "      <td>1683.0</td>\n",
              "      <td>366.0</td>\n",
              "      <td>8443.0</td>\n",
              "      <td>366.0</td>\n",
              "      <td>366.0</td>\n",
              "      <td>1639.0</td>\n",
              "      <td>366.0</td>\n",
              "      <td>1642.0</td>\n",
              "      <td>366.0</td>\n",
              "      <td>366.0</td>\n",
              "      <td>379.000000</td>\n",
              "      <td>366.0</td>\n",
              "      <td>366.0</td>\n",
              "    </tr>\n",
              "    <tr>\n",
              "      <th>mean</th>\n",
              "      <td>-200.0</td>\n",
              "      <td>-200.0</td>\n",
              "      <td>-200.0</td>\n",
              "      <td>-200.0</td>\n",
              "      <td>-200.0</td>\n",
              "      <td>-200.0</td>\n",
              "      <td>-200.0</td>\n",
              "      <td>-200.0</td>\n",
              "      <td>-200.0</td>\n",
              "      <td>-200.0</td>\n",
              "      <td>-193.167810</td>\n",
              "      <td>-200.0</td>\n",
              "      <td>-200.0</td>\n",
              "    </tr>\n",
              "    <tr>\n",
              "      <th>std</th>\n",
              "      <td>0.0</td>\n",
              "      <td>0.0</td>\n",
              "      <td>0.0</td>\n",
              "      <td>0.0</td>\n",
              "      <td>0.0</td>\n",
              "      <td>0.0</td>\n",
              "      <td>0.0</td>\n",
              "      <td>0.0</td>\n",
              "      <td>0.0</td>\n",
              "      <td>0.0</td>\n",
              "      <td>36.299804</td>\n",
              "      <td>0.0</td>\n",
              "      <td>0.0</td>\n",
              "    </tr>\n",
              "    <tr>\n",
              "      <th>min</th>\n",
              "      <td>-200.0</td>\n",
              "      <td>-200.0</td>\n",
              "      <td>-200.0</td>\n",
              "      <td>-200.0</td>\n",
              "      <td>-200.0</td>\n",
              "      <td>-200.0</td>\n",
              "      <td>-200.0</td>\n",
              "      <td>-200.0</td>\n",
              "      <td>-200.0</td>\n",
              "      <td>-200.0</td>\n",
              "      <td>-200.000000</td>\n",
              "      <td>-200.0</td>\n",
              "      <td>-200.0</td>\n",
              "    </tr>\n",
              "    <tr>\n",
              "      <th>25%</th>\n",
              "      <td>-200.0</td>\n",
              "      <td>-200.0</td>\n",
              "      <td>-200.0</td>\n",
              "      <td>-200.0</td>\n",
              "      <td>-200.0</td>\n",
              "      <td>-200.0</td>\n",
              "      <td>-200.0</td>\n",
              "      <td>-200.0</td>\n",
              "      <td>-200.0</td>\n",
              "      <td>-200.0</td>\n",
              "      <td>-200.000000</td>\n",
              "      <td>-200.0</td>\n",
              "      <td>-200.0</td>\n",
              "    </tr>\n",
              "    <tr>\n",
              "      <th>50%</th>\n",
              "      <td>-200.0</td>\n",
              "      <td>-200.0</td>\n",
              "      <td>-200.0</td>\n",
              "      <td>-200.0</td>\n",
              "      <td>-200.0</td>\n",
              "      <td>-200.0</td>\n",
              "      <td>-200.0</td>\n",
              "      <td>-200.0</td>\n",
              "      <td>-200.0</td>\n",
              "      <td>-200.0</td>\n",
              "      <td>-200.000000</td>\n",
              "      <td>-200.0</td>\n",
              "      <td>-200.0</td>\n",
              "    </tr>\n",
              "    <tr>\n",
              "      <th>75%</th>\n",
              "      <td>-200.0</td>\n",
              "      <td>-200.0</td>\n",
              "      <td>-200.0</td>\n",
              "      <td>-200.0</td>\n",
              "      <td>-200.0</td>\n",
              "      <td>-200.0</td>\n",
              "      <td>-200.0</td>\n",
              "      <td>-200.0</td>\n",
              "      <td>-200.0</td>\n",
              "      <td>-200.0</td>\n",
              "      <td>-200.000000</td>\n",
              "      <td>-200.0</td>\n",
              "      <td>-200.0</td>\n",
              "    </tr>\n",
              "    <tr>\n",
              "      <th>max</th>\n",
              "      <td>-200.0</td>\n",
              "      <td>-200.0</td>\n",
              "      <td>-200.0</td>\n",
              "      <td>-200.0</td>\n",
              "      <td>-200.0</td>\n",
              "      <td>-200.0</td>\n",
              "      <td>-200.0</td>\n",
              "      <td>-200.0</td>\n",
              "      <td>-200.0</td>\n",
              "      <td>-200.0</td>\n",
              "      <td>-0.100000</td>\n",
              "      <td>-200.0</td>\n",
              "      <td>-200.0</td>\n",
              "    </tr>\n",
              "  </tbody>\n",
              "</table>\n",
              "</div>"
            ],
            "text/plain": [
              "       CO(GT)  PT08.S1(CO)  NMHC(GT)  ...           T     RH     AH\n",
              "count  1683.0        366.0    8443.0  ...  379.000000  366.0  366.0\n",
              "mean   -200.0       -200.0    -200.0  ... -193.167810 -200.0 -200.0\n",
              "std       0.0          0.0       0.0  ...   36.299804    0.0    0.0\n",
              "min    -200.0       -200.0    -200.0  ... -200.000000 -200.0 -200.0\n",
              "25%    -200.0       -200.0    -200.0  ... -200.000000 -200.0 -200.0\n",
              "50%    -200.0       -200.0    -200.0  ... -200.000000 -200.0 -200.0\n",
              "75%    -200.0       -200.0    -200.0  ... -200.000000 -200.0 -200.0\n",
              "max    -200.0       -200.0    -200.0  ...   -0.100000 -200.0 -200.0\n",
              "\n",
              "[8 rows x 13 columns]"
            ]
          },
          "metadata": {
            "tags": []
          },
          "execution_count": 119
        }
      ]
    },
    {
      "cell_type": "markdown",
      "metadata": {
        "id": "79RZpZoEVMcZ"
      },
      "source": [
        "We can see it has a huge amount of negative values "
      ]
    },
    {
      "cell_type": "code",
      "metadata": {
        "id": "pEPqad4UVt1O"
      },
      "source": [
        "num = df._get_numeric_data()\n",
        "num[num < 0] = 0"
      ],
      "execution_count": 120,
      "outputs": []
    },
    {
      "cell_type": "code",
      "metadata": {
        "id": "PzD5QPjHWulX",
        "outputId": "6c0e9dfa-7a50-4a30-fea3-cd33d83baceb",
        "colab": {
          "base_uri": "https://localhost:8080/",
          "height": 304
        }
      },
      "source": [
        "df.describe()"
      ],
      "execution_count": 121,
      "outputs": [
        {
          "output_type": "execute_result",
          "data": {
            "text/html": [
              "<div>\n",
              "<style scoped>\n",
              "    .dataframe tbody tr th:only-of-type {\n",
              "        vertical-align: middle;\n",
              "    }\n",
              "\n",
              "    .dataframe tbody tr th {\n",
              "        vertical-align: top;\n",
              "    }\n",
              "\n",
              "    .dataframe thead th {\n",
              "        text-align: right;\n",
              "    }\n",
              "</style>\n",
              "<table border=\"1\" class=\"dataframe\">\n",
              "  <thead>\n",
              "    <tr style=\"text-align: right;\">\n",
              "      <th></th>\n",
              "      <th>CO(GT)</th>\n",
              "      <th>PT08.S1(CO)</th>\n",
              "      <th>NMHC(GT)</th>\n",
              "      <th>C6H6(GT)</th>\n",
              "      <th>PT08.S2(NMHC)</th>\n",
              "      <th>NOx(GT)</th>\n",
              "      <th>PT08.S3(NOx)</th>\n",
              "      <th>NO2(GT)</th>\n",
              "      <th>PT08.S4(NO2)</th>\n",
              "      <th>PT08.S5(O3)</th>\n",
              "      <th>T</th>\n",
              "      <th>RH</th>\n",
              "      <th>AH</th>\n",
              "    </tr>\n",
              "  </thead>\n",
              "  <tbody>\n",
              "    <tr>\n",
              "      <th>count</th>\n",
              "      <td>9357.000000</td>\n",
              "      <td>9357.000000</td>\n",
              "      <td>9357.000000</td>\n",
              "      <td>9357.000000</td>\n",
              "      <td>9357.000000</td>\n",
              "      <td>9357.000000</td>\n",
              "      <td>9357.000000</td>\n",
              "      <td>9357.000000</td>\n",
              "      <td>9357.000000</td>\n",
              "      <td>9357.000000</td>\n",
              "      <td>9357.000000</td>\n",
              "      <td>9357.000000</td>\n",
              "      <td>9357.000000</td>\n",
              "    </tr>\n",
              "    <tr>\n",
              "      <th>mean</th>\n",
              "      <td>1.765545</td>\n",
              "      <td>1056.813081</td>\n",
              "      <td>21.373731</td>\n",
              "      <td>9.688704</td>\n",
              "      <td>902.418296</td>\n",
              "      <td>203.649567</td>\n",
              "      <td>802.813188</td>\n",
              "      <td>93.245592</td>\n",
              "      <td>1399.302661</td>\n",
              "      <td>982.895052</td>\n",
              "      <td>17.602458</td>\n",
              "      <td>47.308400</td>\n",
              "      <td>0.985417</td>\n",
              "    </tr>\n",
              "    <tr>\n",
              "      <th>std</th>\n",
              "      <td>1.554264</td>\n",
              "      <td>301.246318</td>\n",
              "      <td>91.103489</td>\n",
              "      <td>7.559785</td>\n",
              "      <td>318.696890</td>\n",
              "      <td>214.993187</td>\n",
              "      <td>299.356129</td>\n",
              "      <td>61.479820</td>\n",
              "      <td>441.458774</td>\n",
              "      <td>438.074058</td>\n",
              "      <td>9.355546</td>\n",
              "      <td>19.474603</td>\n",
              "      <td>0.442966</td>\n",
              "    </tr>\n",
              "    <tr>\n",
              "      <th>min</th>\n",
              "      <td>0.000000</td>\n",
              "      <td>0.000000</td>\n",
              "      <td>0.000000</td>\n",
              "      <td>0.000000</td>\n",
              "      <td>0.000000</td>\n",
              "      <td>0.000000</td>\n",
              "      <td>0.000000</td>\n",
              "      <td>0.000000</td>\n",
              "      <td>0.000000</td>\n",
              "      <td>0.000000</td>\n",
              "      <td>0.000000</td>\n",
              "      <td>0.000000</td>\n",
              "      <td>0.000000</td>\n",
              "    </tr>\n",
              "    <tr>\n",
              "      <th>25%</th>\n",
              "      <td>0.600000</td>\n",
              "      <td>921.000000</td>\n",
              "      <td>0.000000</td>\n",
              "      <td>4.000000</td>\n",
              "      <td>711.000000</td>\n",
              "      <td>50.000000</td>\n",
              "      <td>637.000000</td>\n",
              "      <td>53.000000</td>\n",
              "      <td>1185.000000</td>\n",
              "      <td>700.000000</td>\n",
              "      <td>10.900000</td>\n",
              "      <td>34.100000</td>\n",
              "      <td>0.692300</td>\n",
              "    </tr>\n",
              "    <tr>\n",
              "      <th>50%</th>\n",
              "      <td>1.500000</td>\n",
              "      <td>1053.000000</td>\n",
              "      <td>0.000000</td>\n",
              "      <td>7.900000</td>\n",
              "      <td>895.000000</td>\n",
              "      <td>141.000000</td>\n",
              "      <td>794.000000</td>\n",
              "      <td>96.000000</td>\n",
              "      <td>1446.000000</td>\n",
              "      <td>942.000000</td>\n",
              "      <td>17.200000</td>\n",
              "      <td>48.600000</td>\n",
              "      <td>0.976800</td>\n",
              "    </tr>\n",
              "    <tr>\n",
              "      <th>75%</th>\n",
              "      <td>2.600000</td>\n",
              "      <td>1221.000000</td>\n",
              "      <td>0.000000</td>\n",
              "      <td>13.600000</td>\n",
              "      <td>1105.000000</td>\n",
              "      <td>284.000000</td>\n",
              "      <td>960.000000</td>\n",
              "      <td>133.000000</td>\n",
              "      <td>1662.000000</td>\n",
              "      <td>1255.000000</td>\n",
              "      <td>24.100000</td>\n",
              "      <td>61.900000</td>\n",
              "      <td>1.296200</td>\n",
              "    </tr>\n",
              "    <tr>\n",
              "      <th>max</th>\n",
              "      <td>11.900000</td>\n",
              "      <td>2040.000000</td>\n",
              "      <td>1189.000000</td>\n",
              "      <td>63.700000</td>\n",
              "      <td>2214.000000</td>\n",
              "      <td>1479.000000</td>\n",
              "      <td>2683.000000</td>\n",
              "      <td>340.000000</td>\n",
              "      <td>2775.000000</td>\n",
              "      <td>2523.000000</td>\n",
              "      <td>44.600000</td>\n",
              "      <td>88.700000</td>\n",
              "      <td>2.231000</td>\n",
              "    </tr>\n",
              "  </tbody>\n",
              "</table>\n",
              "</div>"
            ],
            "text/plain": [
              "            CO(GT)  PT08.S1(CO)  ...           RH           AH\n",
              "count  9357.000000  9357.000000  ...  9357.000000  9357.000000\n",
              "mean      1.765545  1056.813081  ...    47.308400     0.985417\n",
              "std       1.554264   301.246318  ...    19.474603     0.442966\n",
              "min       0.000000     0.000000  ...     0.000000     0.000000\n",
              "25%       0.600000   921.000000  ...    34.100000     0.692300\n",
              "50%       1.500000  1053.000000  ...    48.600000     0.976800\n",
              "75%       2.600000  1221.000000  ...    61.900000     1.296200\n",
              "max      11.900000  2040.000000  ...    88.700000     2.231000\n",
              "\n",
              "[8 rows x 13 columns]"
            ]
          },
          "metadata": {
            "tags": []
          },
          "execution_count": 121
        }
      ]
    },
    {
      "cell_type": "markdown",
      "metadata": {
        "id": "TswzVC0IW4aL"
      },
      "source": [
        "Now we need to check how huge the change is"
      ]
    },
    {
      "cell_type": "code",
      "metadata": {
        "id": "FQQbY1OYW7lK",
        "outputId": "9d7cb9db-81b7-4d8b-c990-096ec60ab256",
        "colab": {
          "base_uri": "https://localhost:8080/",
          "height": 893
        }
      },
      "source": [
        "## histogram\n",
        "df.hist(figsize=(10,10), color='skyblue')"
      ],
      "execution_count": 122,
      "outputs": [
        {
          "output_type": "execute_result",
          "data": {
            "text/plain": [
              "array([[<matplotlib.axes._subplots.AxesSubplot object at 0x7fd4746013c8>,\n",
              "        <matplotlib.axes._subplots.AxesSubplot object at 0x7fd4745c0f60>,\n",
              "        <matplotlib.axes._subplots.AxesSubplot object at 0x7fd47456f208>,\n",
              "        <matplotlib.axes._subplots.AxesSubplot object at 0x7fd474520470>],\n",
              "       [<matplotlib.axes._subplots.AxesSubplot object at 0x7fd4745566d8>,\n",
              "        <matplotlib.axes._subplots.AxesSubplot object at 0x7fd47450a940>,\n",
              "        <matplotlib.axes._subplots.AxesSubplot object at 0x7fd4744bbba8>,\n",
              "        <matplotlib.axes._subplots.AxesSubplot object at 0x7fd474470dd8>],\n",
              "       [<matplotlib.axes._subplots.AxesSubplot object at 0x7fd474470e48>,\n",
              "        <matplotlib.axes._subplots.AxesSubplot object at 0x7fd4743e6320>,\n",
              "        <matplotlib.axes._subplots.AxesSubplot object at 0x7fd474418588>,\n",
              "        <matplotlib.axes._subplots.AxesSubplot object at 0x7fd4743cd6d8>],\n",
              "       [<matplotlib.axes._subplots.AxesSubplot object at 0x7fd474380a58>,\n",
              "        <matplotlib.axes._subplots.AxesSubplot object at 0x7fd474331dd8>,\n",
              "        <matplotlib.axes._subplots.AxesSubplot object at 0x7fd4742f1198>,\n",
              "        <matplotlib.axes._subplots.AxesSubplot object at 0x7fd4742a1518>]],\n",
              "      dtype=object)"
            ]
          },
          "metadata": {
            "tags": []
          },
          "execution_count": 122
        },
        {
          "output_type": "display_data",
          "data": {
            "image/png": "[encoded data removed]",
            "text/plain": [
              "<Figure size 720x720 with 16 Axes>"
            ]
          },
          "metadata": {
            "tags": [],
            "needs_background": "light"
          }
        }
      ]
    },
    {
      "cell_type": "markdown",
      "metadata": {
        "id": "IModE19NXQvR"
      },
      "source": [
        "We can tell the distribution does shift, however it changes this invalid negative value and it should make distribution move right a bit to the true mean, and it still improve the data quality since we know irresonable negative drage true mean to the left. "
      ]
    },
    {
      "cell_type": "markdown",
      "metadata": {
        "id": "tBrlyN4oXpQz"
      },
      "source": [
        "Now we can launch tool to check numerical attributes before the model building"
      ]
    },
    {
      "cell_type": "code",
      "metadata": {
        "id": "UpWkWC2P-vOH"
      },
      "source": [
        "import matplotlib.pyplot as plt\n",
        "import seaborn as sns"
      ],
      "execution_count": 123,
      "outputs": []
    },
    {
      "cell_type": "code",
      "metadata": {
        "id": "-M1BVohJXx-H",
        "outputId": "0b15d11f-c099-4970-d0ea-4ba4eff88427",
        "colab": {
          "base_uri": "https://localhost:8080/",
          "height": 633
        }
      },
      "source": [
        "##relationship of numerical data--- Correlation Map\n",
        "corr = df[numerical].corr()\n",
        "fig, ax = plt.subplots(figsize=(10,10))         # Sample figsize in inches\n",
        "sns.heatmap(data=corr, square=True , annot=True, cbar=True,ax=ax)"
      ],
      "execution_count": 124,
      "outputs": [
        {
          "output_type": "execute_result",
          "data": {
            "text/plain": [
              "<matplotlib.axes._subplots.AxesSubplot at 0x7fd4740a40f0>"
            ]
          },
          "metadata": {
            "tags": []
          },
          "execution_count": 124
        },
        {
          "output_type": "display_data",
          "data": {
            "image/png": "[encoded data removed]",
            "text/plain": [
              "<Figure size 720x720 with 2 Axes>"
            ]
          },
          "metadata": {
            "tags": [],
            "needs_background": "light"
          }
        }
      ]
    },
    {
      "cell_type": "markdown",
      "metadata": {
        "id": "vbeX9RkQZAfB"
      },
      "source": [
        "The heat map provides many insights about collinearity between variables."
      ]
    },
    {
      "cell_type": "markdown",
      "metadata": {
        "id": "TNLEbF3QZry6"
      },
      "source": [
        "Since there are attributes has linear relationship, I choose row 5 which includes PT08.S1(CO),C6H6(GT),NMHC(GT), PT08.S4(NO2),PT08.S5(O3) as common choice."
      ]
    },
    {
      "cell_type": "markdown",
      "metadata": {
        "id": "HxwizLLyYFVf"
      },
      "source": [
        "## Model"
      ]
    },
    {
      "cell_type": "markdown",
      "metadata": {
        "id": "DP3IuDB_cBlL"
      },
      "source": [
        "### linear regression"
      ]
    },
    {
      "cell_type": "markdown",
      "metadata": {
        "id": "vfpDrlAHcFPc"
      },
      "source": [
        "In this section, I choose NMHC(GT) to be the target valuable. Since linear regression only require one other variable, here I choose C6H6(GT) to be selected attributes"
      ]
    },
    {
      "cell_type": "code",
      "metadata": {
        "id": "ywnQZa3sdlJj"
      },
      "source": [
        "\n",
        "# set up some library and basic model\n",
        "# load the train_test_split function from the sklearn.model_selection module\n",
        "from sklearn.model_selection import train_test_split\n",
        "from sklearn.model_selection import KFold\n",
        "# load the LinearRegression() function from sklearn's 'linear_model' sub-library\n",
        "from sklearn.linear_model import LinearRegression\n",
        "# load libraries\n",
        "from sklearn.metrics import accuracy_score,precision_score,recall_score,f1_score  \n",
        "\n",
        "# load the cross_val_score function from the sklearn.model_selection module\n",
        "from sklearn.model_selection import cross_val_score\n",
        "\n",
        "\n",
        "#set explanatory variable to X  \n",
        "#NMHC(GT)\n",
        "X = df[['PT08.S5(O3)','PT08.S4(NO2)','C6H6(GT)','PT08.S1(CO)']]\n",
        "\n",
        "#X = df[['C6H6(GT)']]\n",
        "# give  variable to y\n",
        "y = df['AH']\n",
        "# Now split the data into training and testing subsets. \n",
        "# We'll set aside 20% of the data for testing purposes;\n",
        "X_train, X_test, y_train, y_test = train_test_split(X, y, test_size=0.2, random_state=22)"
      ],
      "execution_count": 125,
      "outputs": []
    },
    {
      "cell_type": "code",
      "metadata": {
        "id": "kSFPWEtNYEeg",
        "outputId": "7d4353d7-15cf-43e2-f2c3-df295c100c05",
        "colab": {
          "base_uri": "https://localhost:8080/",
          "height": 50
        }
      },
      "source": [
        "#K choose 5\n",
        "# Define a linear regression model\n",
        "model = LinearRegression()\n",
        "\n",
        "# fit the model using 10-fold cross validation\n",
        "scores = cross_val_score(model, X_train, y_train, cv=5)\n",
        "\n",
        "# print out the accuracy metrics derived from the K-fold cross validation process\n",
        "print (scores)\n",
        "\n",
        "# use np.mean to get the average scores\n",
        "print(\"average socre for model1:\",np.mean(scores))"
      ],
      "execution_count": 126,
      "outputs": [
        {
          "output_type": "stream",
          "text": [
            "[0.72926316 0.70468792 0.71060971 0.68800146 0.70737779]\n",
            "average socre for model1: 0.7079880063919742\n"
          ],
          "name": "stdout"
        }
      ]
    },
    {
      "cell_type": "code",
      "metadata": {
        "id": "iVhKBmdCpmWe",
        "outputId": "504f5a05-2084-41a4-93aa-fc12fd92691d",
        "colab": {
          "base_uri": "https://localhost:8080/",
          "height": 67
        }
      },
      "source": [
        "model.fit(X_train, y_train)\n",
        "#fit test data\n",
        "y_pred = model.predict(X_test)\n",
        "print('')\n",
        "print('###### linear regression Classifier ######')\n",
        "print('Score : %.4f' % model.score(X_test, y_test))\n",
        "\n",
        " "
      ],
      "execution_count": 127,
      "outputs": [
        {
          "output_type": "stream",
          "text": [
            "\n",
            "###### linear regression Classifier ######\n",
            "Score : 0.6902\n"
          ],
          "name": "stdout"
        }
      ]
    },
    {
      "cell_type": "code",
      "metadata": {
        "id": "fQ1J5Joi8kL5",
        "outputId": "2bd355ee-9b01-4cc4-d9b2-5cd8d3e13b7a",
        "colab": {
          "base_uri": "https://localhost:8080/",
          "height": 67
        }
      },
      "source": [
        "from sklearn import metrics\n",
        "# check metrics\n",
        "#print MAE\n",
        "\n",
        "def mae(y_true, y_pred):\n",
        "    return np.mean(abs(y_true - y_pred), axis=0)\n",
        "\n",
        "print(\"MAE is %.4f\"%mae(y_test,y_pred))\n",
        "\n",
        "err = metrics.mean_squared_error(y_pred, y_test)\n",
        "print(\"RMSE is %.4f\"%err)\n",
        "\n",
        "r2 = metrics.r2_score(y_pred, y_test)\n",
        "print(\"r2 is %.4f\"%r2)\n",
        "\n"
      ],
      "execution_count": 128,
      "outputs": [
        {
          "output_type": "stream",
          "text": [
            "MAE is 0.1961\n",
            "RMSE is 0.0582\n",
            "r2 is 0.5731\n"
          ],
          "name": "stdout"
        }
      ]
    },
    {
      "cell_type": "markdown",
      "metadata": {
        "id": "k8-0BFO4h8Bg"
      },
      "source": [
        "The result is not pleasant based on the crossvalidating score while R2, MAE,MSE value is fine"
      ]
    },
    {
      "cell_type": "markdown",
      "metadata": {
        "id": "pdtoOiwchoG0"
      },
      "source": [
        "### xgboost"
      ]
    },
    {
      "cell_type": "code",
      "metadata": {
        "id": "H1fS_DBCjjk6"
      },
      "source": [
        "from sklearn.preprocessing import MinMaxScaler\n",
        "from sklearn.metrics import classification_report, confusion_matrix\n",
        "from sklearn.ensemble import GradientBoostingClassifier"
      ],
      "execution_count": 129,
      "outputs": []
    },
    {
      "cell_type": "code",
      "metadata": {
        "id": "9xzcyvOojnva"
      },
      "source": [
        "#MinMax subtracts the minimum value in the feature and then divides by the range\n",
        "scaler = MinMaxScaler()\n",
        "X_train = scaler.fit_transform(X_train)\n",
        "X_test = scaler.transform(X_test)\n"
      ],
      "execution_count": 130,
      "outputs": []
    },
    {
      "cell_type": "markdown",
      "metadata": {
        "id": "36gN03pbjqSj"
      },
      "source": [
        "MinMaxScaler preserves the shape of the original distribution. It doesn’t meaningfully change the information embedded in the original data. On the other hand, this method does not reduce the importance of outliers."
      ]
    },
    {
      "cell_type": "markdown",
      "metadata": {
        "id": "kJ88IGRXio7I"
      },
      "source": [
        "XG Boost improves upon standard gradient boosting algorithms.\n",
        "\n",
        "I set verbose =1 to avoid too many tree building information.\n",
        "\n",
        "early_stopping_rounds is used to avoid overfitting, I set it to be 15 is for the sake of performance on general metrics and time spending. "
      ]
    },
    {
      "cell_type": "code",
      "metadata": {
        "id": "x3j3CdDKl1d5"
      },
      "source": [
        "from sklearn.preprocessing import LabelEncoder\n",
        "from sklearn.preprocessing import OrdinalEncoder\n",
        "\n",
        "new_df = df.AH\n",
        "\n",
        "\n",
        "new_df = pd.concat([new_df,df[['PT08.S5(O3)','PT08.S4(NO2)','C6H6(GT)','PT08.S1(CO)']]],axis='columns')\n",
        "\n",
        "label_AH = LabelEncoder()\n",
        "\n",
        "new_df['AH'] = label_AH.fit_transform(new_df['AH'])\n"
      ],
      "execution_count": 131,
      "outputs": []
    },
    {
      "cell_type": "code",
      "metadata": {
        "id": "2oyPywdQip6q",
        "outputId": "e9766d14-0420-40d6-d25b-c1c2f3fb75c3",
        "colab": {
          "base_uri": "https://localhost:8080/",
          "height": 1000
        }
      },
      "source": [
        "import xgboost as xgb\n",
        "xgb_reg = xgb.XGBRegressor(random_state=22)\n",
        "\n",
        "xgb_reg.fit(X_train,y_train,early_stopping_rounds=15,eval_set=[(X_test, y_test)])\n",
        "y_pred = xgb_reg.predict(X_test)\n",
        "\n",
        "# we set verbose =1 toavoid too many tree building information\n",
        "cv_score = cross_val_score(estimator = xgb_reg, X = X_train, y = y_train, cv = 5,verbose = 1)\n",
        "print('')\n",
        "print('###### XG Boost Classifier ######')\n",
        "print('Score : %.4f' % xgb_reg.score(X_test, y_test))\n",
        "print('cv_score : %.4f' % cv_score.mean())\n",
        "\n",
        "print(\"MAE is %.4f\"%mae(y_test,y_pred))\n",
        "\n",
        "err = metrics.mean_squared_error(y_pred, y_test)\n",
        "print(\"RMSE is %.4f\"%err)\n",
        "\n",
        "r2 = metrics.r2_score(y_pred, y_test)\n",
        "print(\"r2 is %.4f\"%r2)\n"
      ],
      "execution_count": 132,
      "outputs": [
        {
          "output_type": "stream",
          "text": [
            "[00:01:01] WARNING: /workspace/src/objective/regression_obj.cu:152: reg:linear is now deprecated in favor of reg:squarederror.\n",
            "[0]\tvalidation_0-rmse:0.597689\n",
            "Will train until validation_0-rmse hasn't improved in 15 rounds.\n",
            "[1]\tvalidation_0-rmse:0.550322\n",
            "[2]\tvalidation_0-rmse:0.508574\n",
            "[3]\tvalidation_0-rmse:0.471332\n",
            "[4]\tvalidation_0-rmse:0.43934\n",
            "[5]\tvalidation_0-rmse:0.409821\n",
            "[6]\tvalidation_0-rmse:0.384965\n",
            "[7]\tvalidation_0-rmse:0.362778\n",
            "[8]\tvalidation_0-rmse:0.344591\n",
            "[9]\tvalidation_0-rmse:0.328883\n",
            "[10]\tvalidation_0-rmse:0.314435\n",
            "[11]\tvalidation_0-rmse:0.302125\n",
            "[12]\tvalidation_0-rmse:0.292379\n",
            "[13]\tvalidation_0-rmse:0.283541\n",
            "[14]\tvalidation_0-rmse:0.276457\n",
            "[15]\tvalidation_0-rmse:0.270326\n",
            "[16]\tvalidation_0-rmse:0.265258\n",
            "[17]\tvalidation_0-rmse:0.260884\n",
            "[18]\tvalidation_0-rmse:0.257187\n",
            "[19]\tvalidation_0-rmse:0.254022\n",
            "[20]\tvalidation_0-rmse:0.251246\n",
            "[21]\tvalidation_0-rmse:0.248843\n",
            "[22]\tvalidation_0-rmse:0.246966\n",
            "[23]\tvalidation_0-rmse:0.245564\n",
            "[24]\tvalidation_0-rmse:0.244112\n",
            "[25]\tvalidation_0-rmse:0.242918\n",
            "[26]\tvalidation_0-rmse:0.241743\n",
            "[27]\tvalidation_0-rmse:0.240798\n",
            "[28]\tvalidation_0-rmse:0.239922\n",
            "[29]\tvalidation_0-rmse:0.239075\n",
            "[30]\tvalidation_0-rmse:0.238235\n",
            "[31]\tvalidation_0-rmse:0.237407\n",
            "[32]\tvalidation_0-rmse:0.236757\n",
            "[33]\tvalidation_0-rmse:0.236046\n",
            "[34]\tvalidation_0-rmse:0.235449\n",
            "[35]\tvalidation_0-rmse:0.234798\n",
            "[36]\tvalidation_0-rmse:0.233973\n",
            "[37]\tvalidation_0-rmse:0.233296\n",
            "[38]\tvalidation_0-rmse:0.232854\n",
            "[39]\tvalidation_0-rmse:0.232617\n",
            "[40]\tvalidation_0-rmse:0.232264\n",
            "[41]\tvalidation_0-rmse:0.231857\n",
            "[42]\tvalidation_0-rmse:0.231439\n",
            "[43]\tvalidation_0-rmse:0.23114\n",
            "[44]\tvalidation_0-rmse:0.230843\n",
            "[45]\tvalidation_0-rmse:0.230306\n",
            "[46]\tvalidation_0-rmse:0.230163\n",
            "[47]\tvalidation_0-rmse:0.229842\n",
            "[48]\tvalidation_0-rmse:0.229618\n",
            "[49]\tvalidation_0-rmse:0.229166\n",
            "[50]\tvalidation_0-rmse:0.228404\n",
            "[51]\tvalidation_0-rmse:0.228071\n",
            "[52]\tvalidation_0-rmse:0.227998\n",
            "[53]\tvalidation_0-rmse:0.227727\n",
            "[54]\tvalidation_0-rmse:0.227366\n",
            "[55]\tvalidation_0-rmse:0.22718\n",
            "[56]\tvalidation_0-rmse:0.226882\n",
            "[57]\tvalidation_0-rmse:0.226598\n",
            "[58]\tvalidation_0-rmse:0.226203\n",
            "[59]\tvalidation_0-rmse:0.226045\n",
            "[60]\tvalidation_0-rmse:0.225666\n",
            "[61]\tvalidation_0-rmse:0.225575\n",
            "[62]\tvalidation_0-rmse:0.225259\n",
            "[63]\tvalidation_0-rmse:0.224908\n",
            "[64]\tvalidation_0-rmse:0.224699\n",
            "[65]\tvalidation_0-rmse:0.224508\n",
            "[66]\tvalidation_0-rmse:0.224288\n",
            "[67]\tvalidation_0-rmse:0.224193\n",
            "[68]\tvalidation_0-rmse:0.224013\n",
            "[69]\tvalidation_0-rmse:0.223868\n",
            "[70]\tvalidation_0-rmse:0.223559\n",
            "[71]\tvalidation_0-rmse:0.223386\n",
            "[72]\tvalidation_0-rmse:0.223168\n",
            "[73]\tvalidation_0-rmse:0.223009\n",
            "[74]\tvalidation_0-rmse:0.222884\n",
            "[75]\tvalidation_0-rmse:0.222493\n",
            "[76]\tvalidation_0-rmse:0.222229\n",
            "[77]\tvalidation_0-rmse:0.222159\n",
            "[78]\tvalidation_0-rmse:0.222127\n",
            "[79]\tvalidation_0-rmse:0.222055\n",
            "[80]\tvalidation_0-rmse:0.221788\n",
            "[81]\tvalidation_0-rmse:0.221622\n",
            "[82]\tvalidation_0-rmse:0.221434\n",
            "[83]\tvalidation_0-rmse:0.221254\n",
            "[84]\tvalidation_0-rmse:0.221113\n",
            "[85]\tvalidation_0-rmse:0.220991\n",
            "[86]\tvalidation_0-rmse:0.220859\n",
            "[87]\tvalidation_0-rmse:0.220814\n",
            "[88]\tvalidation_0-rmse:0.220669\n",
            "[89]\tvalidation_0-rmse:0.220432\n",
            "[90]\tvalidation_0-rmse:0.220316\n",
            "[91]\tvalidation_0-rmse:0.220229\n",
            "[92]\tvalidation_0-rmse:0.220104\n",
            "[93]\tvalidation_0-rmse:0.21999\n",
            "[94]\tvalidation_0-rmse:0.219575\n",
            "[95]\tvalidation_0-rmse:0.219631\n",
            "[96]\tvalidation_0-rmse:0.219493\n",
            "[97]\tvalidation_0-rmse:0.219306\n",
            "[98]\tvalidation_0-rmse:0.219248\n",
            "[99]\tvalidation_0-rmse:0.218996\n",
            "[00:01:02] WARNING: /workspace/src/objective/regression_obj.cu:152: reg:linear is now deprecated in favor of reg:squarederror.\n"
          ],
          "name": "stdout"
        },
        {
          "output_type": "stream",
          "text": [
            "[Parallel(n_jobs=1)]: Using backend SequentialBackend with 1 concurrent workers.\n"
          ],
          "name": "stderr"
        },
        {
          "output_type": "stream",
          "text": [
            "[00:01:02] WARNING: /workspace/src/objective/regression_obj.cu:152: reg:linear is now deprecated in favor of reg:squarederror.\n",
            "[00:01:02] WARNING: /workspace/src/objective/regression_obj.cu:152: reg:linear is now deprecated in favor of reg:squarederror.\n",
            "[00:01:03] WARNING: /workspace/src/objective/regression_obj.cu:152: reg:linear is now deprecated in favor of reg:squarederror.\n",
            "[00:01:03] WARNING: /workspace/src/objective/regression_obj.cu:152: reg:linear is now deprecated in favor of reg:squarederror.\n",
            "\n",
            "###### XG Boost Classifier ######\n",
            "Score : 0.7448\n",
            "cv_score : 0.7645\n",
            "MAE is 0.1690\n",
            "RMSE is 0.0480\n",
            "r2 is 0.6471\n"
          ],
          "name": "stdout"
        },
        {
          "output_type": "stream",
          "text": [
            "[Parallel(n_jobs=1)]: Done   5 out of   5 | elapsed:    1.2s finished\n"
          ],
          "name": "stderr"
        }
      ]
    },
    {
      "cell_type": "markdown",
      "metadata": {
        "id": "Y96yrv-6xH81"
      },
      "source": [
        "XGboost gives the score of 0.75 on accuracy. And r2 is higher than linear regression."
      ]
    },
    {
      "cell_type": "markdown",
      "metadata": {
        "id": "u6wVNd3AmgGi"
      },
      "source": [
        "### Random Forest"
      ]
    },
    {
      "cell_type": "markdown",
      "metadata": {
        "id": "MXTjJ95CQc_T"
      },
      "source": [
        "The decision tree related algorithm I choose the Random forest based on my previous experience on its relatively decent performance. "
      ]
    },
    {
      "cell_type": "code",
      "metadata": {
        "id": "X_i8E7bFmlKW",
        "outputId": "c6080317-c3f0-468d-b430-0ff9c00e50cf",
        "colab": {
          "base_uri": "https://localhost:8080/",
          "height": 168
        }
      },
      "source": [
        "\n",
        "from sklearn.ensemble import RandomForestRegressor\n",
        "\n",
        "rnd_reg = RandomForestRegressor(n_estimators=100,  max_depth=16,  random_state=42)\n",
        "rnd_reg.fit(X_train, y_train)\n",
        "cv_score = cross_val_score(estimator = rnd_reg, X = X_train, y = y_train, cv = 5,verbose = 1)\n",
        "y_pred = rnd_reg.predict(X_test)\n",
        "print('')\n",
        "print('###### Random Forest ######')\n",
        "print('Score : %.4f' % rnd_reg.score(X_test, y_test))\n",
        "print('cv_score : %.4f' % cv_score.mean())\n",
        "print(\"MAE is %.4f\"%mae(y_test,y_pred))\n",
        "\n",
        "err = metrics.mean_squared_error(y_pred, y_test)\n",
        "print(\"RMSE is %.4f\"%err)\n",
        "\n",
        "r2 = metrics.r2_score(y_pred, y_test)\n",
        "print(\"r2 is %.4f\"%r2)"
      ],
      "execution_count": 133,
      "outputs": [
        {
          "output_type": "stream",
          "text": [
            "[Parallel(n_jobs=1)]: Using backend SequentialBackend with 1 concurrent workers.\n"
          ],
          "name": "stderr"
        },
        {
          "output_type": "stream",
          "text": [
            "\n",
            "###### Random Forest ######\n",
            "Score : 0.7875\n",
            "cv_score : 0.7998\n",
            "MAE is 0.1400\n",
            "RMSE is 0.0399\n",
            "r2 is 0.7418\n"
          ],
          "name": "stdout"
        },
        {
          "output_type": "stream",
          "text": [
            "[Parallel(n_jobs=1)]: Done   5 out of   5 | elapsed:    9.3s finished\n"
          ],
          "name": "stderr"
        }
      ]
    },
    {
      "cell_type": "markdown",
      "metadata": {
        "id": "wsN8d0PIQshb"
      },
      "source": [
        "The score of Random forest provides a overall best performance on every metric except far longer computing time. "
      ]
    },
    {
      "cell_type": "markdown",
      "metadata": {
        "id": "0qcGv_Z5nBfC"
      },
      "source": [
        "### SVM"
      ]
    },
    {
      "cell_type": "code",
      "metadata": {
        "id": "TqP9qgz6uFvr",
        "outputId": "74135f56-4877-4da3-f3a7-3e9b31ad179a",
        "colab": {
          "base_uri": "https://localhost:8080/",
          "height": 50
        }
      },
      "source": [
        "#Import svm model\n",
        "from sklearn.svm import SVR\n",
        "svm = SVR(kernel='poly')\n",
        "svm.fit(X_train, y_train)\n",
        "cv_score = cross_val_score(estimator = svm, X = X_train, y = y_train, cv = 5, verbose = 1)\n",
        "y_pred = svm.predict(X_test)"
      ],
      "execution_count": 134,
      "outputs": [
        {
          "output_type": "stream",
          "text": [
            "[Parallel(n_jobs=1)]: Using backend SequentialBackend with 1 concurrent workers.\n",
            "[Parallel(n_jobs=1)]: Done   5 out of   5 | elapsed:  2.9min finished\n"
          ],
          "name": "stderr"
        }
      ]
    },
    {
      "cell_type": "code",
      "metadata": {
        "id": "wfhH7hibweH9",
        "outputId": "1b5e3d7b-6d7c-43e1-d092-7d1b0d3e52b2",
        "colab": {
          "base_uri": "https://localhost:8080/",
          "height": 134
        }
      },
      "source": [
        "print('')\n",
        "print('###### SVM ######')\n",
        "print('Score : %.4f' % svm.score(X_test, y_test))\n",
        "print('cv_score : %.4f' % cv_score.mean())\n",
        "print(\"MAE is %.4f\"%mae(y_test,y_pred))\n",
        "\n",
        "err = metrics.mean_squared_error(y_pred, y_test)\n",
        "print(\"RMSE is %.4f\"%err)\n",
        "\n",
        "r2 = metrics.r2_score(y_pred, y_test)\n",
        "print(\"r2 is %.4f\"%r2)\n"
      ],
      "execution_count": 135,
      "outputs": [
        {
          "output_type": "stream",
          "text": [
            "\n",
            "###### SVM ######\n",
            "Score : 0.6542\n",
            "cv_score : 0.6801\n",
            "MAE is 0.1972\n",
            "RMSE is 0.0650\n",
            "r2 is 0.5608\n"
          ],
          "name": "stdout"
        }
      ]
    },
    {
      "cell_type": "markdown",
      "metadata": {
        "id": "QdEpBM4UwnGg"
      },
      "source": [
        "Based on result SVM give accuray of 0.65"
      ]
    },
    {
      "cell_type": "markdown",
      "metadata": {
        "id": "b13jOgzZSKrq"
      },
      "source": [
        "### Summary for part A"
      ]
    },
    {
      "cell_type": "markdown",
      "metadata": {
        "id": "62_C8H0owsJr"
      },
      "source": [
        "Among all 4 models, Random forest gives the highest accuracy and nice R2 value however Random forest has the huge sacrifice on computing expenses and it takes 9.2s to run compared with XGboost. I think XGboost is the best model of 4 for its relatively high score along with the balance on the time. "
      ]
    },
    {
      "cell_type": "markdown",
      "metadata": {
        "id": "Frx-lAdFwdRk"
      },
      "source": [
        "Then we switched to secnd dataset"
      ]
    },
    {
      "cell_type": "markdown",
      "metadata": {
        "id": "m2LEnxqv03I-"
      },
      "source": [
        "# Part B"
      ]
    },
    {
      "cell_type": "markdown",
      "metadata": {
        "id": "dqxxiAcy6utz"
      },
      "source": [
        "##  Exploratory Data Analysis"
      ]
    },
    {
      "cell_type": "markdown",
      "metadata": {
        "id": "afAXOoadXBxC"
      },
      "source": [
        "For part B, the first thing of the task is to load the data set and check the rough view of these attributes. "
      ]
    },
    {
      "cell_type": "code",
      "metadata": {
        "id": "EjcZ3Q_p6KO_",
        "outputId": "461b2ff2-5052-4363-a0a5-a2f8208d9525",
        "colab": {
          "base_uri": "https://localhost:8080/",
          "height": 534
        }
      },
      "source": [
        "\n",
        "# check and read the dataset from github\n",
        "df2 = pd.read_csv('https://raw.githubusercontent.com/steinszzh/AIProductStudio/master/M5/BigML_Dataset_5f50a62795a9306aa200003e.csv')\n",
        "df2.head()"
      ],
      "execution_count": 136,
      "outputs": [
        {
          "output_type": "execute_result",
          "data": {
            "text/html": [
              "<div>\n",
              "<style scoped>\n",
              "    .dataframe tbody tr th:only-of-type {\n",
              "        vertical-align: middle;\n",
              "    }\n",
              "\n",
              "    .dataframe tbody tr th {\n",
              "        vertical-align: top;\n",
              "    }\n",
              "\n",
              "    .dataframe thead th {\n",
              "        text-align: right;\n",
              "    }\n",
              "</style>\n",
              "<table border=\"1\" class=\"dataframe\">\n",
              "  <thead>\n",
              "    <tr style=\"text-align: right;\">\n",
              "      <th></th>\n",
              "      <th>Age</th>\n",
              "      <th>Sex</th>\n",
              "      <th>Race</th>\n",
              "      <th>Marital status?</th>\n",
              "      <th>Education</th>\n",
              "      <th>Employement</th>\n",
              "      <th>Incomes</th>\n",
              "      <th>How many books did you read during last 12months?</th>\n",
              "      <th>Read any printed books during last 12months?</th>\n",
              "      <th>Read any audiobooks during last 12months?</th>\n",
              "      <th>Read any e-books during last 12months?</th>\n",
              "      <th>Last book you read, you…</th>\n",
              "      <th>Do you happen to read any daily news or newspapers?</th>\n",
              "      <th>Do you happen to read any magazines or journals?</th>\n",
              "    </tr>\n",
              "  </thead>\n",
              "  <tbody>\n",
              "    <tr>\n",
              "      <th>0</th>\n",
              "      <td>66</td>\n",
              "      <td>Male</td>\n",
              "      <td>Refused</td>\n",
              "      <td>Divorced</td>\n",
              "      <td>College graduate</td>\n",
              "      <td>Retired</td>\n",
              "      <td>$20,000 to under $30,000</td>\n",
              "      <td>97</td>\n",
              "      <td>Yes</td>\n",
              "      <td>No</td>\n",
              "      <td>Yes</td>\n",
              "      <td>Purchased the book</td>\n",
              "      <td>No</td>\n",
              "      <td>Yes</td>\n",
              "    </tr>\n",
              "    <tr>\n",
              "      <th>1</th>\n",
              "      <td>46</td>\n",
              "      <td>Male</td>\n",
              "      <td>Native American/American Indian</td>\n",
              "      <td>Married</td>\n",
              "      <td>High school graduate</td>\n",
              "      <td>Employed full-time</td>\n",
              "      <td>Less than $10,000</td>\n",
              "      <td>97</td>\n",
              "      <td>Yes</td>\n",
              "      <td>Yes</td>\n",
              "      <td>Yes</td>\n",
              "      <td>Purchased the book</td>\n",
              "      <td>Yes</td>\n",
              "      <td>Yes</td>\n",
              "    </tr>\n",
              "    <tr>\n",
              "      <th>2</th>\n",
              "      <td>32</td>\n",
              "      <td>Male</td>\n",
              "      <td>Mixed race</td>\n",
              "      <td>Never been married</td>\n",
              "      <td>High school graduate</td>\n",
              "      <td>Employed full-time</td>\n",
              "      <td>Less than $10,000</td>\n",
              "      <td>97</td>\n",
              "      <td>No</td>\n",
              "      <td>Yes</td>\n",
              "      <td>Yes</td>\n",
              "      <td>Borrowed the book from a friend or family member</td>\n",
              "      <td>Yes</td>\n",
              "      <td>Yes</td>\n",
              "    </tr>\n",
              "    <tr>\n",
              "      <th>3</th>\n",
              "      <td>27</td>\n",
              "      <td>Male</td>\n",
              "      <td>Mixed race</td>\n",
              "      <td>Married</td>\n",
              "      <td>High school graduate</td>\n",
              "      <td>Employed full-time</td>\n",
              "      <td>$40,000 to under $50,000</td>\n",
              "      <td>97</td>\n",
              "      <td>Yes</td>\n",
              "      <td>No</td>\n",
              "      <td>Yes</td>\n",
              "      <td>Borrowed the book from a library</td>\n",
              "      <td>Yes</td>\n",
              "      <td>No</td>\n",
              "    </tr>\n",
              "    <tr>\n",
              "      <th>4</th>\n",
              "      <td>16</td>\n",
              "      <td>Female</td>\n",
              "      <td>Mixed race</td>\n",
              "      <td>Never been married</td>\n",
              "      <td>High school incomplete</td>\n",
              "      <td>Employed part-time</td>\n",
              "      <td>$10,000 to under $20,000</td>\n",
              "      <td>97</td>\n",
              "      <td>Yes</td>\n",
              "      <td>Yes</td>\n",
              "      <td>No</td>\n",
              "      <td>Purchased the book</td>\n",
              "      <td>Yes</td>\n",
              "      <td>No</td>\n",
              "    </tr>\n",
              "  </tbody>\n",
              "</table>\n",
              "</div>"
            ],
            "text/plain": [
              "   Age  ... Do you happen to read any magazines or journals?\n",
              "0   66  ...                                              Yes\n",
              "1   46  ...                                              Yes\n",
              "2   32  ...                                              Yes\n",
              "3   27  ...                                               No\n",
              "4   16  ...                                               No\n",
              "\n",
              "[5 rows x 14 columns]"
            ]
          },
          "metadata": {
            "tags": []
          },
          "execution_count": 136
        }
      ]
    },
    {
      "cell_type": "markdown",
      "metadata": {
        "id": "3wj9KQyU5FJW"
      },
      "source": [
        "Just through the first few lines of data, we knew that in this dataset, most variables are categorical except Age, books read during past 12 month. \n"
      ]
    },
    {
      "cell_type": "markdown",
      "metadata": {
        "id": "c7kcEm-A4_OS"
      },
      "source": [
        "Then the code was run to check the overview of the whole data set. And it is clear that there are 2832 rows of data."
      ]
    },
    {
      "cell_type": "code",
      "metadata": {
        "id": "PW8H5x5l7SYl",
        "outputId": "3a49bec5-7bbf-4372-de50-b026cf2b3d61",
        "colab": {
          "base_uri": "https://localhost:8080/",
          "height": 370
        }
      },
      "source": [
        "df2.info()"
      ],
      "execution_count": 137,
      "outputs": [
        {
          "output_type": "stream",
          "text": [
            "<class 'pandas.core.frame.DataFrame'>\n",
            "RangeIndex: 2832 entries, 0 to 2831\n",
            "Data columns (total 14 columns):\n",
            " #   Column                                               Non-Null Count  Dtype \n",
            "---  ------                                               --------------  ----- \n",
            " 0   Age                                                  2832 non-null   int64 \n",
            " 1   Sex                                                  2832 non-null   object\n",
            " 2   Race                                                 2832 non-null   object\n",
            " 3   Marital status?                                      2832 non-null   object\n",
            " 4   Education                                            2832 non-null   object\n",
            " 5   Employement                                          2832 non-null   object\n",
            " 6   Incomes                                              2832 non-null   object\n",
            " 7   How many books did you read during last 12months?    2832 non-null   int64 \n",
            " 8   Read any printed books during last 12months?         2442 non-null   object\n",
            " 9   Read any audiobooks during last 12months?            2442 non-null   object\n",
            " 10  Read any e-books during last 12months?               2442 non-null   object\n",
            " 11  Last book you read, you…                             2442 non-null   object\n",
            " 12  Do you happen to read any daily news or newspapers?  2832 non-null   object\n",
            " 13  Do you happen to read any magazines or journals?     2832 non-null   object\n",
            "dtypes: int64(2), object(12)\n",
            "memory usage: 309.9+ KB\n"
          ],
          "name": "stdout"
        }
      ]
    },
    {
      "cell_type": "markdown",
      "metadata": {
        "id": "NVGvIAQZ501B"
      },
      "source": [
        "Also, we can tell there are some null values across whole dataset. All missing data showed under index 8,9,10,11 column which are closely related to reading habbit for the time. To check clearer on exact quantity of missing value, I then run the following code "
      ]
    },
    {
      "cell_type": "code",
      "metadata": {
        "id": "vWEbRC1J7Vus",
        "outputId": "679db993-ee7b-4416-8d10-fc49bfe9e8c1",
        "colab": {
          "base_uri": "https://localhost:8080/",
          "height": 269
        }
      },
      "source": [
        "#check null value \n",
        "df2.isnull().sum()"
      ],
      "execution_count": 138,
      "outputs": [
        {
          "output_type": "execute_result",
          "data": {
            "text/plain": [
              "Age                                                      0\n",
              "Sex                                                      0\n",
              "Race                                                     0\n",
              "Marital status?                                          0\n",
              "Education                                                0\n",
              "Employement                                              0\n",
              "Incomes                                                  0\n",
              "How many books did you read during last 12months?        0\n",
              "Read any printed books during last 12months?           390\n",
              "Read any audiobooks during last 12months?              390\n",
              "Read any e-books during last 12months?                 390\n",
              "Last book you read, you…                               390\n",
              "Do you happen to read any daily news or newspapers?      0\n",
              "Do you happen to read any magazines or journals?         0\n",
              "dtype: int64"
            ]
          },
          "metadata": {
            "tags": []
          },
          "execution_count": 138
        }
      ]
    },
    {
      "cell_type": "markdown",
      "metadata": {
        "id": "GwI7AvnHcVBb"
      },
      "source": [
        "We can tell that all missing data(which is null) is shown the same number of 390. We believe it can be contributed to the nature of collecting the data. \n",
        "\n",
        "Before we take action on these 4 variables, we still need to make some assessment on it. \n",
        "\n",
        "we can directly throw away these four missing values and the impact is negligible. \n",
        " we need some more careful checking of the data set. "
      ]
    },
    {
      "cell_type": "markdown",
      "metadata": {
        "id": "q5FDPFnz76iF"
      },
      "source": [
        "This data frame have 2832 rows across 14 variables. \n",
        "\n",
        "\n",
        "\n",
        "Since all variables listed are very straightforward and we do not need a special term dictionary for the data set.\n",
        "\n"
      ]
    },
    {
      "cell_type": "markdown",
      "metadata": {
        "id": "Tt2s4BiaBl35"
      },
      "source": [
        "We can check"
      ]
    },
    {
      "cell_type": "code",
      "metadata": {
        "id": "pSJie2fHwBGf",
        "outputId": "ace358a3-9441-4ffd-e957-3b20d2a4e88a",
        "colab": {
          "base_uri": "https://localhost:8080/",
          "height": 34
        }
      },
      "source": [
        "# check column 8\n",
        "df2['Read any printed books during last 12months?'].unique().tolist()"
      ],
      "execution_count": 139,
      "outputs": [
        {
          "output_type": "execute_result",
          "data": {
            "text/plain": [
              "['Yes', 'No', 'Don’t know', nan]"
            ]
          },
          "metadata": {
            "tags": []
          },
          "execution_count": 139
        }
      ]
    },
    {
      "cell_type": "code",
      "metadata": {
        "id": "hFI1v5XpIzLg",
        "outputId": "e382262c-7673-4aa9-9bef-9cf5a18857dc",
        "colab": {
          "base_uri": "https://localhost:8080/",
          "height": 34
        }
      },
      "source": [
        "# check column 9\n",
        "df2['Read any audiobooks during last 12months?'].unique().tolist()"
      ],
      "execution_count": 140,
      "outputs": [
        {
          "output_type": "execute_result",
          "data": {
            "text/plain": [
              "['No', 'Yes', 'Don’t know', nan]"
            ]
          },
          "metadata": {
            "tags": []
          },
          "execution_count": 140
        }
      ]
    },
    {
      "cell_type": "code",
      "metadata": {
        "id": "WpFG1sEYJB5m",
        "outputId": "4d4e0904-e484-4119-d582-5f0034aa41e6",
        "colab": {
          "base_uri": "https://localhost:8080/",
          "height": 34
        }
      },
      "source": [
        "# check column 10\n",
        "df2['Read any e-books during last 12months?'].unique().tolist()"
      ],
      "execution_count": 141,
      "outputs": [
        {
          "output_type": "execute_result",
          "data": {
            "text/plain": [
              "['Yes', 'No', 'Don’t know', nan]"
            ]
          },
          "metadata": {
            "tags": []
          },
          "execution_count": 141
        }
      ]
    },
    {
      "cell_type": "code",
      "metadata": {
        "id": "MZ6X6xayJID2",
        "outputId": "25312c7d-27f8-4b16-c01f-2ed0f6984388",
        "colab": {
          "base_uri": "https://localhost:8080/",
          "height": 134
        }
      },
      "source": [
        "# check column 11\n",
        "df2['Last book you read, you…'].unique().tolist()"
      ],
      "execution_count": 142,
      "outputs": [
        {
          "output_type": "execute_result",
          "data": {
            "text/plain": [
              "['Purchased the book',\n",
              " 'Borrowed the book from a friend or family member',\n",
              " 'Borrowed the book from a library',\n",
              " 'Got the book some other way',\n",
              " '8',\n",
              " '9',\n",
              " nan]"
            ]
          },
          "metadata": {
            "tags": []
          },
          "execution_count": 142
        }
      ]
    },
    {
      "cell_type": "markdown",
      "metadata": {
        "id": "9Na4NTNDIk5Y"
      },
      "source": [
        "Actually, For the first three column, \"Do not know\" is equalivalent to nan in this case, we can later merge them together. last variable about last read book status is a bit confusing and it is really hard to track through original source file. "
      ]
    },
    {
      "cell_type": "markdown",
      "metadata": {
        "id": "qP4VqydZDIO4"
      },
      "source": [
        "To begin our data preparation, we will see each of the attributes firstly. In the general sense of the usage of this data set, it is valuable to use this binary data of cancellation. Here I use this attribute to be a starting point. "
      ]
    },
    {
      "cell_type": "code",
      "metadata": {
        "id": "lT9v8tEcHutH"
      },
      "source": [
        "\n",
        "#change column\n",
        "df2['Read any e-books during last 12months?'].replace({'Don’t know': np.nan},inplace = True)\n",
        "df2['Read any printed books during last 12months?'].replace({'Don’t know': np.nan},inplace = True)\n",
        "df2['Read any audiobooks during last 12months?'].replace({'Don’t know': np.nan},inplace = True)\n"
      ],
      "execution_count": 143,
      "outputs": []
    },
    {
      "cell_type": "code",
      "metadata": {
        "id": "jsTKKlpaWpXg",
        "outputId": "fe2bd85a-0225-49c2-d9b4-3e2a389530a8",
        "colab": {
          "base_uri": "https://localhost:8080/",
          "height": 34
        }
      },
      "source": [
        "# recheck column 10\n",
        "df2['Read any e-books during last 12months?'].unique().tolist()"
      ],
      "execution_count": 144,
      "outputs": [
        {
          "output_type": "execute_result",
          "data": {
            "text/plain": [
              "['Yes', 'No', nan]"
            ]
          },
          "metadata": {
            "tags": []
          },
          "execution_count": 144
        }
      ]
    },
    {
      "cell_type": "markdown",
      "metadata": {
        "id": "az-K9MDIWs_L"
      },
      "source": [
        "Now we make sure all the values of do not known are changed into null"
      ]
    },
    {
      "cell_type": "markdown",
      "metadata": {
        "id": "qyFnjMKy1Kp2"
      },
      "source": [
        "Here we clarify our purpose of the task is to make a predictive model for a yes/no answer, we really do not want uncertain answer like \"Do not know\". In addition, it is quite infeasible to predict 4 categorical variable since it will not make sense to use intepolation or other method on null-numerical data. We still need to do some checking before we do our drop work. "
      ]
    },
    {
      "cell_type": "code",
      "metadata": {
        "id": "W5kff34wdzLq",
        "outputId": "f6f8d35f-72d9-4e8a-e377-9cf0e9d4a148",
        "colab": {
          "base_uri": "https://localhost:8080/",
          "height": 192
        }
      },
      "source": [
        "\n",
        "#numerical attribute\n",
        "numerical2 = ['Age', 'How many books did you read during last 12months?']\n",
        "\n",
        "# set figure size\n",
        "fig = plt.figure(figsize=(10, 8))\n",
        "i = 1\n",
        "for f in numerical2:\n",
        "    plt.subplot(3, 3, i)\n",
        "    plt.boxplot(df2[f])\n",
        "    plt.title(f)\n",
        "    i += 1\n",
        "plt.show()"
      ],
      "execution_count": 146,
      "outputs": [
        {
          "output_type": "display_data",
          "data": {
            "image/png": "[encoded data removed]",
            "text/plain": [
              "<Figure size 720x576 with 2 Axes>"
            ]
          },
          "metadata": {
            "tags": [],
            "needs_background": "light"
          }
        }
      ]
    },
    {
      "cell_type": "markdown",
      "metadata": {
        "id": "DiA7bM8K5tQn"
      },
      "source": [
        "Based on these information, I had these findings and insights on population and reading facts:\n",
        "\n",
        "- For the age group, mean is very close to the median, it showed that this set of consecutive numbers are almost equally spaced.\n",
        "\n",
        "- For the number of reading variable, we can tell that mean is much higher than median, the the variable is quite right-skewed. \n",
        "\n",
        "\n",
        "\n"
      ]
    },
    {
      "cell_type": "code",
      "metadata": {
        "id": "eAwPAT4b2D3t",
        "outputId": "36ba0e6f-0f5a-43ef-81f0-e4a0f53ebe6f",
        "colab": {
          "base_uri": "https://localhost:8080/",
          "height": 658
        }
      },
      "source": [
        "#plot numerical data histogram\n",
        "df2.hist(figsize=(10,10), color='skyblue')"
      ],
      "execution_count": 147,
      "outputs": [
        {
          "output_type": "execute_result",
          "data": {
            "text/plain": [
              "array([[<matplotlib.axes._subplots.AxesSubplot object at 0x7fd4745eb940>,\n",
              "        <matplotlib.axes._subplots.AxesSubplot object at 0x7fd473d13c18>]],\n",
              "      dtype=object)"
            ]
          },
          "metadata": {
            "tags": []
          },
          "execution_count": 147
        },
        {
          "output_type": "display_data",
          "data": {
            "image/png": "[encoded data removed]",
            "text/plain": [
              "<Figure size 720x720 with 2 Axes>"
            ]
          },
          "metadata": {
            "tags": [],
            "needs_background": "light"
          }
        }
      ]
    },
    {
      "cell_type": "markdown",
      "metadata": {
        "id": "I7TwrymN1eTu"
      },
      "source": [
        "Then we print remaining categorical data."
      ]
    },
    {
      "cell_type": "code",
      "metadata": {
        "id": "u2im7hio488J",
        "outputId": "465d42bb-d711-49fa-cf4b-4d7ab0468a36",
        "colab": {
          "base_uri": "https://localhost:8080/",
          "height": 567
        }
      },
      "source": [
        "#plot categorical data\n",
        "fig, axes =plt.subplots(3,4, figsize=(16,8)) #, sharex=True\n",
        "axes = axes.flatten()\n",
        "\n",
        "\n",
        "object_bol = df2.dtypes == 'object'\n",
        "for ax, catplot in zip(axes, df2.dtypes[object_bol].index):\n",
        "    sns.countplot(x=catplot, data=df2, ax=ax, color = 'skyblue')\n",
        "plt.tight_layout()  \n",
        "plt.show()"
      ],
      "execution_count": 148,
      "outputs": [
        {
          "output_type": "display_data",
          "data": {
            "image/png": "[encoded data removed]",
            "text/plain": [
              "<Figure size 1152x576 with 12 Axes>"
            ]
          },
          "metadata": {
            "tags": [],
            "needs_background": "light"
          }
        }
      ]
    },
    {
      "cell_type": "markdown",
      "metadata": {
        "id": "i_ZuDU06H5CO"
      },
      "source": [
        "From this count plot, we can see\n",
        "- gender is roughly equally distributed, there are a bit more female than male\n",
        "- For the 4 reading habit survey question, do not know accounts for a very small amount. we can also change it into nan as well. \n",
        "\n",
        "\n",
        "\n",
        "-"
      ]
    },
    {
      "cell_type": "code",
      "metadata": {
        "id": "nJ4Da0t4Rurw"
      },
      "source": [
        "## deal with\n",
        "#change column\n",
        "df2['Do you happen to read any daily news or newspapers?'].replace({'Don’t know': np.nan},inplace = True)\n",
        "df2['Do you happen to read any magazines or journals?'].replace({'Don’t know': np.nan},inplace = True)\n",
        "       \n",
        "  "
      ],
      "execution_count": 149,
      "outputs": []
    },
    {
      "cell_type": "markdown",
      "metadata": {
        "id": "hnyUKPg_DgP1"
      },
      "source": [
        "Then we are going to see their relationship."
      ]
    },
    {
      "cell_type": "markdown",
      "metadata": {
        "id": "oL72uEFUXTUS"
      },
      "source": [
        "Then we will run heat map to check the coorelation of attributes."
      ]
    },
    {
      "cell_type": "code",
      "metadata": {
        "id": "pporO7TWw4PN",
        "outputId": "be12ead1-b042-48dd-a6e1-d8eb35bf60e5",
        "colab": {
          "base_uri": "https://localhost:8080/",
          "height": 543
        }
      },
      "source": [
        "##relationship of numerical data--- Correlation Map\n",
        "corr = df2[numerical2].corr()\n",
        "sns.heatmap(data=corr, square=True , annot=True, cbar=True)"
      ],
      "execution_count": 151,
      "outputs": [
        {
          "output_type": "execute_result",
          "data": {
            "text/plain": [
              "<matplotlib.axes._subplots.AxesSubplot at 0x7fd4733c8048>"
            ]
          },
          "metadata": {
            "tags": []
          },
          "execution_count": 151
        },
        {
          "output_type": "display_data",
          "data": {
            "image/png": "[encoded data removed]",
            "text/plain": [
              "<Figure size 432x288 with 2 Axes>"
            ]
          },
          "metadata": {
            "tags": [],
            "needs_background": "light"
          }
        }
      ]
    },
    {
      "cell_type": "markdown",
      "metadata": {
        "id": "Eq56K5ZqDr6m"
      },
      "source": [
        "Although heatmap does not tell much information, but definitely the older does not gurantee more reading considering the year base."
      ]
    },
    {
      "cell_type": "markdown",
      "metadata": {
        "id": "CJ25DMCagZue"
      },
      "source": [
        "Next section we will deal with missing data."
      ]
    },
    {
      "cell_type": "markdown",
      "metadata": {
        "id": "9iElGRrRGxSz"
      },
      "source": [
        "## Data Preparation & Prepped Data Review\n"
      ]
    },
    {
      "cell_type": "markdown",
      "metadata": {
        "id": "x055iwPXZ2Dz"
      },
      "source": [
        "In this section, we will clear up data, moved out some meaningless values if exist.  The task I will perform in this section was shown as follows:\n",
        "\n",
        "- Dealing with missing data or repetative data. \n",
        "\n",
        "- Check whether data is valid or not. Then if not, deal with invalid data.\n",
        "\n",
        "- Convert yes/no into binary value for later build\n",
        "\n",
        "\n"
      ]
    },
    {
      "cell_type": "markdown",
      "metadata": {
        "id": "uMbLBXaCOizl"
      },
      "source": [
        "### large quantity of missing value\n",
        "It accounts for a relatively large missing values. However, our goal of the task is to dealing with the prediction on classification, and it will be pointless to leave the value of unidentified. Here we finnally decided to drop values.  "
      ]
    },
    {
      "cell_type": "code",
      "metadata": {
        "id": "yaiiiwuW-R4-",
        "outputId": "305bd1ca-95bd-4212-8142-8d5bb5059a1f",
        "colab": {
          "base_uri": "https://localhost:8080/",
          "height": 269
        }
      },
      "source": [
        "# clear null value\n",
        "    \n",
        " \n",
        "df2.dropna(subset=['Read any e-books during last 12months?','Read any audiobooks during last 12months?' ,'Do you happen to read any daily news or newspapers?',\n",
        "                   'Do you happen to read any magazines or journals?',\n",
        "                  'How many books did you read during last 12months?' ,'Read any printed books during last 12months?'], inplace=True)\n",
        "\n",
        "df2.isnull().sum()"
      ],
      "execution_count": 152,
      "outputs": [
        {
          "output_type": "execute_result",
          "data": {
            "text/plain": [
              "Age                                                    0\n",
              "Sex                                                    0\n",
              "Race                                                   0\n",
              "Marital status?                                        0\n",
              "Education                                              0\n",
              "Employement                                            0\n",
              "Incomes                                                0\n",
              "How many books did you read during last 12months?      0\n",
              "Read any printed books during last 12months?           0\n",
              "Read any audiobooks during last 12months?              0\n",
              "Read any e-books during last 12months?                 0\n",
              "Last book you read, you…                               0\n",
              "Do you happen to read any daily news or newspapers?    0\n",
              "Do you happen to read any magazines or journals?       0\n",
              "dtype: int64"
            ]
          },
          "metadata": {
            "tags": []
          },
          "execution_count": 152
        }
      ]
    },
    {
      "cell_type": "markdown",
      "metadata": {
        "id": "zTd44q_6Hbvg"
      },
      "source": [
        "After drop  missing data. We can re-run the histogram to see the new distribution."
      ]
    },
    {
      "cell_type": "code",
      "metadata": {
        "id": "75G7J3CsHdMo",
        "outputId": "dbf585fb-caf3-4b38-ebed-88b87a21918b",
        "colab": {
          "base_uri": "https://localhost:8080/",
          "height": 567
        }
      },
      "source": [
        "#plot categorical data\n",
        "fig, axes =plt.subplots(3,4, figsize=(16,8)) #, sharex=True\n",
        "axes = axes.flatten()\n",
        "\n",
        "\n",
        "object_bol = df2.dtypes == 'object'\n",
        "for ax, catplot in zip(axes, df2.dtypes[object_bol].index):\n",
        "    sns.countplot(x=catplot, data=df2, ax=ax, color = 'skyblue')\n",
        "plt.tight_layout()  \n",
        "plt.show()"
      ],
      "execution_count": 153,
      "outputs": [
        {
          "output_type": "display_data",
          "data": {
            "image/png": "[encoded data removed]",
            "text/plain": [
              "<Figure size 1152x576 with 12 Axes>"
            ]
          },
          "metadata": {
            "tags": [],
            "needs_background": "light"
          }
        }
      ]
    },
    {
      "cell_type": "markdown",
      "metadata": {
        "id": "sbX9bEzkHfw9"
      },
      "source": [
        "Now we can see compared graph with before. The histogram does not really change much, the reason can be contributed to the fact that these invalid values are negligible compared with the whole data size. "
      ]
    },
    {
      "cell_type": "markdown",
      "metadata": {
        "id": "SCrTO1EzTUBK"
      },
      "source": [
        "Based on the data distribution and considered the data value distribution. Do you happen to read any magazine or journals may be a better binary value for prediction. "
      ]
    },
    {
      "cell_type": "code",
      "metadata": {
        "id": "Kenvo-7T8VbW"
      },
      "source": [
        ""
      ],
      "execution_count": null,
      "outputs": []
    },
    {
      "cell_type": "markdown",
      "metadata": {
        "id": "0HRMbwhUYBOU"
      },
      "source": [
        "### Check duplicates and invalid values of the data set\n",
        "\n"
      ]
    },
    {
      "cell_type": "code",
      "metadata": {
        "id": "LzDYgE-Rut1f",
        "outputId": "e30b121d-74e1-4dc8-c70c-4d8b05552fcf",
        "colab": {
          "base_uri": "https://localhost:8080/",
          "height": 284
        }
      },
      "source": [
        "df2.describe()\n"
      ],
      "execution_count": 154,
      "outputs": [
        {
          "output_type": "execute_result",
          "data": {
            "text/html": [
              "<div>\n",
              "<style scoped>\n",
              "    .dataframe tbody tr th:only-of-type {\n",
              "        vertical-align: middle;\n",
              "    }\n",
              "\n",
              "    .dataframe tbody tr th {\n",
              "        vertical-align: top;\n",
              "    }\n",
              "\n",
              "    .dataframe thead th {\n",
              "        text-align: right;\n",
              "    }\n",
              "</style>\n",
              "<table border=\"1\" class=\"dataframe\">\n",
              "  <thead>\n",
              "    <tr style=\"text-align: right;\">\n",
              "      <th></th>\n",
              "      <th>Age</th>\n",
              "      <th>How many books did you read during last 12months?</th>\n",
              "    </tr>\n",
              "  </thead>\n",
              "  <tbody>\n",
              "    <tr>\n",
              "      <th>count</th>\n",
              "      <td>2407.000000</td>\n",
              "      <td>2407.000000</td>\n",
              "    </tr>\n",
              "    <tr>\n",
              "      <th>mean</th>\n",
              "      <td>46.535521</td>\n",
              "      <td>19.352306</td>\n",
              "    </tr>\n",
              "    <tr>\n",
              "      <th>std</th>\n",
              "      <td>18.464573</td>\n",
              "      <td>24.407333</td>\n",
              "    </tr>\n",
              "    <tr>\n",
              "      <th>min</th>\n",
              "      <td>16.000000</td>\n",
              "      <td>1.000000</td>\n",
              "    </tr>\n",
              "    <tr>\n",
              "      <th>25%</th>\n",
              "      <td>31.000000</td>\n",
              "      <td>4.000000</td>\n",
              "    </tr>\n",
              "    <tr>\n",
              "      <th>50%</th>\n",
              "      <td>47.000000</td>\n",
              "      <td>10.000000</td>\n",
              "    </tr>\n",
              "    <tr>\n",
              "      <th>75%</th>\n",
              "      <td>61.000000</td>\n",
              "      <td>24.000000</td>\n",
              "    </tr>\n",
              "    <tr>\n",
              "      <th>max</th>\n",
              "      <td>93.000000</td>\n",
              "      <td>97.000000</td>\n",
              "    </tr>\n",
              "  </tbody>\n",
              "</table>\n",
              "</div>"
            ],
            "text/plain": [
              "               Age  How many books did you read during last 12months?\n",
              "count  2407.000000                                        2407.000000\n",
              "mean     46.535521                                          19.352306\n",
              "std      18.464573                                          24.407333\n",
              "min      16.000000                                           1.000000\n",
              "25%      31.000000                                           4.000000\n",
              "50%      47.000000                                          10.000000\n",
              "75%      61.000000                                          24.000000\n",
              "max      93.000000                                          97.000000"
            ]
          },
          "metadata": {
            "tags": []
          },
          "execution_count": 154
        }
      ]
    },
    {
      "cell_type": "markdown",
      "metadata": {
        "id": "w7k6EovOVmUv"
      },
      "source": [
        "After taking out multiple rows of data, it does change a better on the numerical attribute, and we can tell mean is closer to median now. However, we can not simply find the invalid value when we check histogram or tables. "
      ]
    },
    {
      "cell_type": "markdown",
      "metadata": {
        "id": "iqoi3lGKUekC"
      },
      "source": [
        "Before we build the model, we need to convert the binary value.\n",
        "\n",
        "  "
      ]
    },
    {
      "cell_type": "code",
      "metadata": {
        "id": "68dOXUqBW3Jg"
      },
      "source": [
        "## convert value\n",
        "df2['Do you happen to read any daily news or newspapers?'].replace({'Yes': 1,'No':0},inplace = True)\n",
        "df2['Do you happen to read any magazines or journals?'].replace({'Yes': 1,'No':0},inplace = True)\n",
        "df2['Read any e-books during last 12months?'].replace({'Yes': 1,'No':0},inplace = True)\n",
        "df2['Read any printed books during last 12months?'].replace({'Yes': 1,'No':0},inplace = True)\n",
        "df2['Read any audiobooks during last 12months?'].replace({'Yes': 1,'No':0},inplace = True)"
      ],
      "execution_count": 157,
      "outputs": []
    },
    {
      "cell_type": "code",
      "metadata": {
        "id": "5Z5PaGXrUlnI",
        "outputId": "0634dd01-8bb9-44e9-868c-938e6fb04784",
        "colab": {
          "base_uri": "https://localhost:8080/",
          "height": 34
        }
      },
      "source": [
        "# check work\n",
        "\n",
        "df2['Do you happen to read any magazines or journals?'].unique()"
      ],
      "execution_count": 158,
      "outputs": [
        {
          "output_type": "execute_result",
          "data": {
            "text/plain": [
              "array([1, 0])"
            ]
          },
          "metadata": {
            "tags": []
          },
          "execution_count": 158
        }
      ]
    },
    {
      "cell_type": "code",
      "metadata": {
        "id": "NMg5Gtfp2m6n",
        "outputId": "ebd14b9a-8b67-44e5-c7b0-5d32c3ab7162",
        "colab": {
          "base_uri": "https://localhost:8080/",
          "height": 775
        }
      },
      "source": [
        "#plot numerical data histogram\n",
        "df2.hist(figsize=(10,10), color='skyblue')"
      ],
      "execution_count": 159,
      "outputs": [
        {
          "output_type": "execute_result",
          "data": {
            "text/plain": [
              "array([[<matplotlib.axes._subplots.AxesSubplot object at 0x7fd47330a0b8>,\n",
              "        <matplotlib.axes._subplots.AxesSubplot object at 0x7fd4732b8358>,\n",
              "        <matplotlib.axes._subplots.AxesSubplot object at 0x7fd47325d5c0>],\n",
              "       [<matplotlib.axes._subplots.AxesSubplot object at 0x7fd47328a828>,\n",
              "        <matplotlib.axes._subplots.AxesSubplot object at 0x7fd47323ca90>,\n",
              "        <matplotlib.axes._subplots.AxesSubplot object at 0x7fd4731eecf8>],\n",
              "       [<matplotlib.axes._subplots.AxesSubplot object at 0x7fd4731a7a58>,\n",
              "        <matplotlib.axes._subplots.AxesSubplot object at 0x7fd47315ada0>,\n",
              "        <matplotlib.axes._subplots.AxesSubplot object at 0x7fd47315ae10>]],\n",
              "      dtype=object)"
            ]
          },
          "metadata": {
            "tags": []
          },
          "execution_count": 159
        },
        {
          "output_type": "display_data",
          "data": {
            "image/png": "[encoded data removed]",
            "text/plain": [
              "<Figure size 720x720 with 9 Axes>"
            ]
          },
          "metadata": {
            "tags": [],
            "needs_background": "light"
          }
        }
      ]
    },
    {
      "cell_type": "code",
      "metadata": {
        "id": "Zu4dZMr8HngI",
        "outputId": "778a8e64-4374-4d82-de58-5e18277ec722",
        "colab": {
          "base_uri": "https://localhost:8080/",
          "height": 454
        }
      },
      "source": [
        "sns.factorplot(x='Do you happen to read any magazines or journals?', data=df2 , kind='count' )#,aspect=2.5"
      ],
      "execution_count": 165,
      "outputs": [
        {
          "output_type": "stream",
          "text": [
            "/usr/local/lib/python3.6/dist-packages/seaborn/categorical.py:3704: UserWarning: The `factorplot` function has been renamed to `catplot`. The original name will be removed in a future release. Please update your code. Note that the default `kind` in `factorplot` (`'point'`) has changed `'strip'` in `catplot`.\n",
            "  warnings.warn(msg)\n"
          ],
          "name": "stderr"
        },
        {
          "output_type": "execute_result",
          "data": {
            "text/plain": [
              "<seaborn.axisgrid.FacetGrid at 0x7fd4734ad588>"
            ]
          },
          "metadata": {
            "tags": []
          },
          "execution_count": 165
        },
        {
          "output_type": "display_data",
          "data": {
            "image/png": "[encoded data removed]",
            "text/plain": [
              "<Figure size 360x360 with 1 Axes>"
            ]
          },
          "metadata": {
            "tags": [],
            "needs_background": "light"
          }
        }
      ]
    },
    {
      "cell_type": "markdown",
      "metadata": {
        "id": "sng06ST9YaIg"
      },
      "source": [
        "If we want to know how many people read magazine, since it is a bit imbalanced, it will give a null-error rate around 40%."
      ]
    },
    {
      "cell_type": "markdown",
      "metadata": {
        "id": "k--cF7E_SuDM"
      },
      "source": [
        "## Model"
      ]
    },
    {
      "cell_type": "markdown",
      "metadata": {
        "id": "fU0W0vm7S0aL"
      },
      "source": [
        "Based on the requirement, we need to use Binary Logistic Regression,\n",
        "Multinomial Logistic Regression, and Ordinal Logistic Regression to build the model. "
      ]
    },
    {
      "cell_type": "markdown",
      "metadata": {
        "id": "fZdLo19xS_SP"
      },
      "source": [
        "### Binary Logistic Regression"
      ]
    },
    {
      "cell_type": "markdown",
      "metadata": {
        "id": "t7dJX7TyZKhM"
      },
      "source": [
        "SInce binay search need to take care of imbalanced nature of data"
      ]
    },
    {
      "cell_type": "code",
      "metadata": {
        "id": "B0q5uLEsaP0B"
      },
      "source": [
        "df2[''].replace({'Yes': 1,'No':0},inplace = True)\n",
        "df2[''].replace({'Yes': 1,'No':0},inplace = True)\n",
        "df2[''].replace({'Yes': 1,'No':0},inplace = True)\n",
        "df2[''].replace({'Yes': 1,'No':0},inplace = True)\n",
        "df2[''].replace({'Yes': 1,'No':0},inplace = True)"
      ],
      "execution_count": null,
      "outputs": []
    },
    {
      "cell_type": "code",
      "metadata": {
        "id": "K-mSr79kZg15"
      },
      "source": [
        "X = df2[['Read any audiobooks during last 12months?','Read any printed books during last 12months?',\n",
        "        'Age','Read any e-books during last 12months?','Do you happen to read any daily news or newspapers?']]\n",
        "y = df2['Do you happen to read any magazines or journals?']\n",
        "\n",
        "X_train, X_test, y_train, y_test = train_test_split(X,y,test_size=0.2, random_state=66)\n",
        "\n",
        "# Here we will use MinMaxscaler to scale these numerical values.\n",
        "from sklearn.preprocessing import MinMaxScaler\n",
        "#MinMax subtracts the minimum value in the feature and then divides by the range\n",
        "scaler = MinMaxScaler()\n",
        "X_train = scaler.fit_transform(X_train)\n",
        "X_test = scaler.transform(X_test)"
      ],
      "execution_count": 167,
      "outputs": []
    },
    {
      "cell_type": "markdown",
      "metadata": {
        "id": "pzaq9vwfZeEn"
      },
      "source": [
        "Then we can build the model"
      ]
    },
    {
      "cell_type": "code",
      "metadata": {
        "id": "xbVbkpgZTE_b",
        "outputId": "8faa53e7-0366-4bb9-a277-173e08cb7815",
        "colab": {
          "base_uri": "https://localhost:8080/",
          "height": 185
        }
      },
      "source": [
        "\n",
        "from sklearn.linear_model import LogisticRegression\n",
        "#apply smote\n",
        "from imblearn.over_sampling import SMOTE\n",
        "\n",
        "#Start with default setting for logistic regression\n",
        "\n",
        "model = LogisticRegression()\n",
        "#train the algorithm\n",
        "model.fit(X_train, y_train)\n",
        "#5 fold validation\n",
        "cv_score = cross_val_score(estimator = model, X = X_train, y = y_train, cv = 5,verbose = 1)\n",
        "y_pred = model.predict(X_test)\n",
        "print('')\n",
        "print('###### Logistic Regression ######')\n",
        "print('Score : %.4f' % model.score(X_test, y_test))\n",
        "print('cv_score : %.4f' % cv_score.mean())\n",
        "print('Accuracy:', 100* accuracy_score(y_test,y_pred))\n",
        "print('Precision:', 100* precision_score(y_test,y_pred,average='weighted')) # for imbalanced data\n",
        "print('Recall:', 100* recall_score(y_test,y_pred,average='weighted'))\n",
        "print('F1-score:', 100* f1_score(y_test,y_pred,average='weighted'))\n",
        "Accuracy.append(100* accuracy_score(y_test,y_pred))\n",
        "Precision.append(100* precision_score(y_test,y_pred,average='weighted'))\n",
        "Recall.append(100* recall_score(y_test,y_pred,average='weighted'))\n",
        "F1_score.append(100* f1_score(y_test,y_pred,average='weighted'))\n",
        "CV_Scores.append(cv_score.mean())\n",
        "Scores.append(model.score(X_test, y_test))"
      ],
      "execution_count": 181,
      "outputs": [
        {
          "output_type": "stream",
          "text": [
            "\n",
            "###### Logistic Regression ######\n",
            "Score : 0.6141\n",
            "cv_score : 0.6156\n",
            "Accuracy: 61.41078838174274\n",
            "Precision: 61.96033855132181\n",
            "Recall: 61.41078838174274\n",
            "F1-score: 59.103679484274686\n"
          ],
          "name": "stdout"
        },
        {
          "output_type": "stream",
          "text": [
            "[Parallel(n_jobs=1)]: Using backend SequentialBackend with 1 concurrent workers.\n",
            "[Parallel(n_jobs=1)]: Done   5 out of   5 | elapsed:    0.0s finished\n"
          ],
          "name": "stderr"
        }
      ]
    },
    {
      "cell_type": "code",
      "metadata": {
        "id": "bgTQaq2gbw_3",
        "outputId": "0b17c90f-be6d-4bb4-dd24-c3e3727eb4a2",
        "colab": {
          "base_uri": "https://localhost:8080/",
          "height": 34
        }
      },
      "source": [
        "# y is actual, then predict value\n",
        "fpr, tpr, thresholds = metrics.roc_curve(y_test,y_pred )\n",
        "#get area value\n",
        "print(\"AUC value is %.4f\"% metrics.auc(fpr, tpr))"
      ],
      "execution_count": 173,
      "outputs": [
        {
          "output_type": "stream",
          "text": [
            "AUC value is 0.5940\n"
          ],
          "name": "stdout"
        }
      ]
    },
    {
      "cell_type": "code",
      "metadata": {
        "id": "YuzCZsNNco5h",
        "outputId": "91dfb899-c98a-4f15-a1e0-990ac4bfc83a",
        "colab": {
          "base_uri": "https://localhost:8080/",
          "height": 295
        }
      },
      "source": [
        "# olot roc curve\n",
        "\n",
        "import matplotlib.pyplot as plt\n",
        "from sklearn.metrics import roc_curve, auc\n",
        "#define line\n",
        "lw=2\n",
        "fpr = dict()\n",
        "tpr = dict()\n",
        "roc_auc = dict()\n",
        "for i in range(2):\n",
        "    fpr[i], tpr[i], _ = roc_curve(y_test,y_pred)\n",
        "    roc_auc[i] = auc(fpr[i], tpr[i])\n",
        "\n",
        "\n",
        "plt.figure()\n",
        "plt.plot(fpr[1], tpr[1], color='darkorange')\n",
        "plt.xlim([0.0, 1.0])\n",
        "plt.ylim([0.0, 1.05])\n",
        "plt.plot([0, 1], [0, 1], color='navy', lw=lw, linestyle='--')\n",
        "plt.xlabel('False Positive Rate')\n",
        "plt.ylabel('True Positive Rate')\n",
        "plt.title('Receiver operating characteristic plot')\n",
        "plt.show()\n"
      ],
      "execution_count": 172,
      "outputs": [
        {
          "output_type": "display_data",
          "data": {
            "image/png": "[encoded data removed]",
            "text/plain": [
              "<Figure size 432x288 with 1 Axes>"
            ]
          },
          "metadata": {
            "tags": [],
            "needs_background": "light"
          }
        }
      ]
    },
    {
      "cell_type": "markdown",
      "metadata": {
        "id": "inFN1Cu6aw1D"
      },
      "source": [
        ""
      ]
    },
    {
      "cell_type": "markdown",
      "metadata": {
        "id": "yP4yT9M7dlBn"
      },
      "source": [
        "### Multinomial Logistic Regression"
      ]
    },
    {
      "cell_type": "markdown",
      "metadata": {
        "id": "1YgHPnnTdyQV"
      },
      "source": [
        "Similarly, we then build multinomial logistic regression,"
      ]
    },
    {
      "cell_type": "code",
      "metadata": {
        "id": "a2kiExeoefO2",
        "outputId": "a5eb8c2b-f6e1-4895-937e-203c8226306d",
        "colab": {
          "base_uri": "https://localhost:8080/",
          "height": 185
        }
      },
      "source": [
        "model = LogisticRegression(solver='sag', multi_class='multinomial')\n",
        "model.fit(X_train, y_train)\n",
        "#5 fold validation\n",
        "cv_score = cross_val_score(estimator = model, X = X_train, y = y_train, cv = 5,verbose = 1)\n",
        "y_pred = model.predict(X_test)\n",
        "print('')\n",
        "print('###### Logistic Regression ######')\n",
        "print('Score : %.4f' % model.score(X_test, y_test))\n",
        "print('cv_score : %.4f' % cv_score.mean())\n",
        "print('Accuracy:', 100* accuracy_score(y_test,y_pred))\n",
        "print('Precision:', 100* precision_score(y_test,y_pred,average='weighted')) # for imbalanced data\n",
        "print('Recall:', 100* recall_score(y_test,y_pred,average='weighted'))\n",
        "print('F1-score:', 100* f1_score(y_test,y_pred,average='weighted'))\n",
        "Accuracy.append(100* accuracy_score(y_test,y_pred))\n",
        "Precision.append(100* precision_score(y_test,y_pred,average='weighted'))\n",
        "Recall.append(100* recall_score(y_test,y_pred,average='weighted'))\n",
        "F1_score.append(100* f1_score(y_test,y_pred,average='weighted'))\n",
        "CV_Scores.append(cv_score.mean())\n",
        "Scores.append(model.score(X_test, y_test))\n"
      ],
      "execution_count": 180,
      "outputs": [
        {
          "output_type": "stream",
          "text": [
            "\n",
            "###### Logistic Regression ######\n",
            "Score : 0.6141\n",
            "cv_score : 0.6161\n",
            "Accuracy: 61.41078838174274\n",
            "Precision: 61.96033855132181\n",
            "Recall: 61.41078838174274\n",
            "F1-score: 59.103679484274686\n"
          ],
          "name": "stdout"
        },
        {
          "output_type": "stream",
          "text": [
            "[Parallel(n_jobs=1)]: Using backend SequentialBackend with 1 concurrent workers.\n",
            "[Parallel(n_jobs=1)]: Done   5 out of   5 | elapsed:    0.1s finished\n"
          ],
          "name": "stderr"
        }
      ]
    },
    {
      "cell_type": "code",
      "metadata": {
        "id": "MyI1NkVSewMZ",
        "outputId": "90202ef3-6eac-4acf-ea79-d6bb873e1a73",
        "colab": {
          "base_uri": "https://localhost:8080/",
          "height": 34
        }
      },
      "source": [
        "# y is actual, then predict value\n",
        "fpr, tpr, thresholds = metrics.roc_curve(y_test,y_pred )\n",
        "#get area value\n",
        "print(\"AUC value is %.4f\"% metrics.auc(fpr, tpr))"
      ],
      "execution_count": 178,
      "outputs": [
        {
          "output_type": "stream",
          "text": [
            "AUC value is 0.5940\n"
          ],
          "name": "stdout"
        }
      ]
    },
    {
      "cell_type": "code",
      "metadata": {
        "id": "1qBXo4wne06D",
        "outputId": "b70c6bf4-f8a9-43b0-f345-bab614104a13",
        "colab": {
          "base_uri": "https://localhost:8080/",
          "height": 295
        }
      },
      "source": [
        "import matplotlib.pyplot as plt\n",
        "from sklearn.metrics import roc_curve, auc\n",
        "#define line\n",
        "lw=2\n",
        "fpr = dict()\n",
        "tpr = dict()\n",
        "roc_auc = dict()\n",
        "for i in range(2):\n",
        "    fpr[i], tpr[i], _ = roc_curve(y_test,y_pred)\n",
        "    roc_auc[i] = auc(fpr[i], tpr[i])\n",
        "\n",
        "\n",
        "plt.figure()\n",
        "plt.plot(fpr[1], tpr[1], color='darkorange')\n",
        "plt.xlim([0.0, 1.0])\n",
        "plt.ylim([0.0, 1.05])\n",
        "plt.plot([0, 1], [0, 1], color='navy', lw=lw, linestyle='--')\n",
        "plt.xlabel('False Positive Rate')\n",
        "plt.ylabel('True Positive Rate')\n",
        "plt.title('Receiver operating characteristic plot')\n",
        "plt.show()"
      ],
      "execution_count": 176,
      "outputs": [
        {
          "output_type": "display_data",
          "data": {
            "image/png": "[encoded data removed]",
            "text/plain": [
              "<Figure size 432x288 with 1 Axes>"
            ]
          },
          "metadata": {
            "tags": [],
            "needs_background": "light"
          }
        }
      ]
    },
    {
      "cell_type": "markdown",
      "metadata": {
        "id": "B5OKny-MgCWY"
      },
      "source": [
        "In our example, actually, there is no difference between this two logistic models since I alreay avoid more than two outcome variables. "
      ]
    },
    {
      "cell_type": "markdown",
      "metadata": {
        "id": "ytOMpfVVgW1-"
      },
      "source": [
        "### Ordinal Logistic Regression"
      ]
    },
    {
      "cell_type": "markdown",
      "metadata": {
        "id": "Wp_ufEhwgfrS"
      },
      "source": [
        "Now we start ordinal logistic regression, here I use mord package to do this regression"
      ]
    },
    {
      "cell_type": "code",
      "metadata": {
        "id": "HIWOoM9XhVT7",
        "outputId": "d037d4ab-26c1-47fa-ff3f-67c2e30ee6e8",
        "colab": {
          "base_uri": "https://localhost:8080/",
          "height": 168
        }
      },
      "source": [
        "!pip install mord"
      ],
      "execution_count": 185,
      "outputs": [
        {
          "output_type": "stream",
          "text": [
            "Collecting mord\n",
            "  Downloading https://files.pythonhosted.org/packages/67/9d/c791c841501d9ff4ecb76b57f208dec6cf9f925109c59c995ddec80f9b32/mord-0.6.tar.gz\n",
            "Building wheels for collected packages: mord\n",
            "  Building wheel for mord (setup.py) ... \u001b[?25l\u001b[?25hdone\n",
            "  Created wheel for mord: filename=mord-0.6-cp36-none-any.whl size=6009 sha256=871ac2c24541f696c61076143030fc4656bd487d1662277aef4af41609e70da8\n",
            "  Stored in directory: /root/.cache/pip/wheels/98/14/b2/244c2cec93a0c6edb29b488bd6b2710ded7e9d457033b86366\n",
            "Successfully built mord\n",
            "Installing collected packages: mord\n",
            "Successfully installed mord-0.6\n"
          ],
          "name": "stdout"
        }
      ]
    },
    {
      "cell_type": "code",
      "metadata": {
        "id": "s3Qp5ZLBhg9H"
      },
      "source": [
        "import mord"
      ],
      "execution_count": 186,
      "outputs": []
    },
    {
      "cell_type": "code",
      "metadata": {
        "id": "JsGaSKl_gkfk",
        "outputId": "ee2bea1c-1c99-4ad3-c1bf-ffdd2382bab8",
        "colab": {
          "base_uri": "https://localhost:8080/",
          "height": 185
        }
      },
      "source": [
        "  #change parameter to fit the condition\n",
        "model = mord.OrdinalRidge(alpha=0.001, \n",
        " \t\t\t\t\t\t\tfit_intercept=True, \n",
        "\t\t\t\t\t\t \tnormalize=False, \n",
        " \t\t\t\t\t\t\tcopy_X=True, \n",
        " \t\t\t\t\t\t\tmax_iter=None, \n",
        " \t\t\t\t\t\t\ttol=0.001, \n",
        " \t\t\t\t\t\t\tsolver='auto').fit(X_train, y_train) \n",
        "\n",
        "#5 fold validation\n",
        "cv_score = cross_val_score(estimator = model, X = X_train, y = y_train, cv = 5,verbose = 1)\n",
        "y_pred = model.predict(X_test)\n",
        "print('')\n",
        "print('###### Logistic Regression ######')\n",
        "print('Score : %.4f' % model.score(X_test, y_test))\n",
        "print('cv_score : %.4f' % cv_score.mean())\n",
        "print('Accuracy:', 100* accuracy_score(y_test,y_pred))\n",
        "print('Precision:', 100* precision_score(y_test,y_pred,average='weighted')) # for imbalanced data\n",
        "print('Recall:', 100* recall_score(y_test,y_pred,average='weighted'))\n",
        "print('F1-score:', 100* f1_score(y_test,y_pred,average='weighted'))\n",
        "Accuracy.append(100* accuracy_score(y_test,y_pred))\n",
        "Precision.append(100* precision_score(y_test,y_pred,average='weighted'))\n",
        "Recall.append(100* recall_score(y_test,y_pred,average='weighted'))\n",
        "F1_score.append(100* f1_score(y_test,y_pred,average='weighted'))\n",
        "CV_Scores.append(cv_score.mean())\n",
        "Scores.append(model.score(X_test, y_test))"
      ],
      "execution_count": 187,
      "outputs": [
        {
          "output_type": "stream",
          "text": [
            "\n",
            "###### Logistic Regression ######\n",
            "Score : -0.3859\n",
            "cv_score : -0.3881\n",
            "Accuracy: 61.41078838174274\n",
            "Precision: 61.96033855132181\n",
            "Recall: 61.41078838174274\n",
            "F1-score: 59.103679484274686\n"
          ],
          "name": "stdout"
        },
        {
          "output_type": "stream",
          "text": [
            "[Parallel(n_jobs=1)]: Using backend SequentialBackend with 1 concurrent workers.\n",
            "[Parallel(n_jobs=1)]: Done   5 out of   5 | elapsed:    0.0s finished\n"
          ],
          "name": "stderr"
        }
      ]
    },
    {
      "cell_type": "code",
      "metadata": {
        "id": "8bTjoBhah2BZ",
        "outputId": "873f8719-11e6-49a8-ded3-cbf0b9d91a62",
        "colab": {
          "base_uri": "https://localhost:8080/",
          "height": 34
        }
      },
      "source": [
        "# y is actual, then predict value\n",
        "fpr, tpr, thresholds = metrics.roc_curve(y_test,y_pred )\n",
        "#get area value\n",
        "print(\"AUC value is %.4f\"% metrics.auc(fpr, tpr))"
      ],
      "execution_count": 188,
      "outputs": [
        {
          "output_type": "stream",
          "text": [
            "AUC value is 0.5940\n"
          ],
          "name": "stdout"
        }
      ]
    },
    {
      "cell_type": "code",
      "metadata": {
        "id": "ko-yEAqvh5QT",
        "outputId": "4d596c96-9eda-4b2c-f59d-4cddcf20702f",
        "colab": {
          "base_uri": "https://localhost:8080/",
          "height": 295
        }
      },
      "source": [
        "#define line\n",
        "lw=2\n",
        "fpr = dict()\n",
        "tpr = dict()\n",
        "roc_auc = dict()\n",
        "for i in range(2):\n",
        "    fpr[i], tpr[i], _ = roc_curve(y_test,y_pred)\n",
        "    roc_auc[i] = auc(fpr[i], tpr[i])\n",
        "\n",
        "\n",
        "plt.figure()\n",
        "plt.plot(fpr[1], tpr[1], color='darkorange')\n",
        "plt.xlim([0.0, 1.0])\n",
        "plt.ylim([0.0, 1.05])\n",
        "plt.plot([0, 1], [0, 1], color='navy', lw=lw, linestyle='--')\n",
        "plt.xlabel('False Positive Rate')\n",
        "plt.ylabel('True Positive Rate')\n",
        "plt.title('Receiver operating characteristic plot')\n",
        "plt.show()"
      ],
      "execution_count": 189,
      "outputs": [
        {
          "output_type": "display_data",
          "data": {
            "image/png": "[encoded data removed]",
            "text/plain": [
              "<Figure size 432x288 with 1 Axes>"
            ]
          },
          "metadata": {
            "tags": [],
            "needs_background": "light"
          }
        }
      ]
    },
    {
      "cell_type": "markdown",
      "metadata": {
        "id": "L7aUTXNKiP40"
      },
      "source": [
        "However, only difference is the accuracy in ordinal logistic regression. This give an abnormal values. Based on my evaluation of all three models, I believe the binary logistic model and multinomial logistic model are equally good if consider these parameters. "
      ]
    },
    {
      "cell_type": "markdown",
      "metadata": {
        "id": "_sJRsmewHjuq"
      },
      "source": [
        "# Part C: Clustering"
      ]
    },
    {
      "cell_type": "markdown",
      "metadata": {
        "id": "Usc2Vqrli_uw"
      },
      "source": [
        "Here I decided to use KNN to do this clustering work. Since the Part A data are full of numerical value which is not quite good for this clustering work if I do not implement more feature engineering. I start with PartB data"
      ]
    },
    {
      "cell_type": "code",
      "metadata": {
        "id": "66ZCDIKWkU9X"
      },
      "source": [
        "from sklearn.neighbors import KNeighborsClassifier"
      ],
      "execution_count": 191,
      "outputs": []
    },
    {
      "cell_type": "code",
      "metadata": {
        "id": "K_4FepF9i-9-",
        "outputId": "ac3cb6ae-470d-4a70-f419-9a2909b6f4f5",
        "colab": {
          "base_uri": "https://localhost:8080/",
          "height": 185
        }
      },
      "source": [
        "#KNN \n",
        "X = df2[['Read any audiobooks during last 12months?','Read any printed books during last 12months?',\n",
        "        'Age','Read any e-books during last 12months?','Do you happen to read any daily news or newspapers?']]\n",
        "y = df2['Do you happen to read any magazines or journals?']\n",
        "\n",
        "X_train1, X_test1, y_train1, y_test1 = train_test_split(X,y,test_size=0.2, random_state=66)\n",
        "\n",
        "\n",
        "\n",
        "# Here we will use MinMaxscaler to scale these numerical values.\n",
        "from sklearn.preprocessing import MinMaxScaler\n",
        "#MinMax subtracts the minimum value in the feature and then divides by the range\n",
        "scaler = MinMaxScaler()\n",
        "X_train1 = scaler.fit_transform(X_train1)\n",
        "X_test1 = scaler.transform(X_test1)\n",
        "\n",
        "#set k=3\n",
        "# try knn = KNeighborsClassifier(n_neighbors=5)\n",
        "# try knn = KNeighborsClassifier(n_neighbors=113)\n",
        "knn = KNeighborsClassifier(n_neighbors=3)\n",
        "knn.fit(X_train1, y_train1)\n",
        "cv_score = cross_val_score(estimator = knn, X = X_train1, y = y_train1, cv = 5,verbose = 1)\n",
        "y_pred = knn.predict(X_test1)\n",
        "print('')\n",
        "print('###### KNN ######')\n",
        "print('Score : %.4f' % knn.score(X_test1, y_test1))\n",
        "print('cv_score : %.4f' % cv_score.mean())\n",
        "print('Accuracy:', 100* accuracy_score(y_test1,y_pred))\n",
        "print('Precision:', 100* precision_score(y_test1,y_pred,average='weighted')) # for imbalanced data\n",
        "print('Recall:', 100* recall_score(y_test1,y_pred,average='weighted'))\n",
        "print('F1-score:', 100* f1_score(y_test1,y_pred,average='weighted'))\n",
        "Accuracy.append(100* accuracy_score(y_test1,y_pred))\n",
        "Precision.append(100* precision_score(y_test1,y_pred,average='weighted'))\n",
        "Recall.append(100* recall_score(y_test1,y_pred,average='weighted'))\n",
        "F1_score.append(100* f1_score(y_test1,y_pred,average='weighted'))\n",
        "CV_Scores.append(cv_score.mean())\n",
        "Scores.append(knn.score(X_test1, y_test1))"
      ],
      "execution_count": 195,
      "outputs": [
        {
          "output_type": "stream",
          "text": [
            "\n",
            "###### KNN ######\n",
            "Score : 0.5602\n",
            "cv_score : 0.5647\n",
            "Accuracy: 56.016597510373444\n",
            "Precision: 55.65957220534905\n",
            "Recall: 56.016597510373444\n",
            "F1-score: 55.67508387136747\n"
          ],
          "name": "stdout"
        },
        {
          "output_type": "stream",
          "text": [
            "[Parallel(n_jobs=1)]: Using backend SequentialBackend with 1 concurrent workers.\n",
            "[Parallel(n_jobs=1)]: Done   5 out of   5 | elapsed:    0.1s finished\n"
          ],
          "name": "stderr"
        }
      ]
    },
    {
      "cell_type": "markdown",
      "metadata": {
        "id": "gLZ0vrr3laPZ"
      },
      "source": [
        "Since I used weighted KNN to give a fair comparision. In my opinion, the accuracy is quite low and it is only better than random guess in a balanced data. However, if in our original imbalanced data, it will perform even worse than random guess. The low value can be contributed to wrong k value selection and too simple feature extraction. Extra careful tuning can provide a better result. "
      ]
    },
    {
      "cell_type": "markdown",
      "metadata": {
        "id": "3aKPxQtb7FOZ"
      },
      "source": [
        "## Conclusion\n",
        "Overall, it is a nice exploration for the common algorithm in dealing with classification and regression. The work can be improved by careful tuning and feature selection. Due to the nature of the size of both dataset, deep learning method will not work well in this particular work. "
      ]
    },
    {
      "cell_type": "markdown",
      "metadata": {
        "id": "k56Nt9qcRYIR"
      },
      "source": [
        "## References\n",
        "\n",
        "1. https://usafacts.org/data/topics/economy/jobs-and-income/jobs-and-wages/median-annual-wage/?utm_source=bing&utm_medium=cpc&utm_campaign=ND-Jobs&msclkid=97d91de8ccab1c4a099c426482686aed\n",
        "2018 annual income\n",
        "\n",
        "\n",
        "\n",
        "2. imbalanced data dealing https://datascience.stackexchange.com/questions/1107/quick-guide-into-training-highly-imbalanced-data-sets#:~:text=Gradient%20boosting%20is%20a%20principled,based%20on%20incorrectly%20classified%20examples.\n",
        "\n",
        "3. https://medium.com/m/signin?actionUrl=%2F_%2Fbookmark%2Fp%2Fc4eb2a9954ad&operation=register&redirect=https%3A%2F%2Ftowardsdatascience.com%2Fdata-imputation-to-improve-model-performance\n",
        "\n",
        "4. https://datascienceplus.com/knnimputer-for-missing-value-imputation-in-python-using-scikit-learn/\n",
        "\n",
        "5. An overview and evaluation of recent machine learning from assigned reading. "
      ]
    }
  ]
}